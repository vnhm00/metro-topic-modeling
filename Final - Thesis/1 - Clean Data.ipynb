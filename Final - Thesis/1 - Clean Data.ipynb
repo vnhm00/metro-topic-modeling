{
 "cells": [
  {
   "cell_type": "markdown",
   "metadata": {},
   "source": [
    "# Topic Modeling using Theses' Abstracts\n",
    "## 4. Data Preprocessing - Clean Data\n",
    "Mai Vu<br>\n",
    "Helsinki Metropolia University of Applied Sciences<br>\n",
    "Bachelor’s Thesis<br>\n",
    "May 2021"
   ]
  },
  {
   "cell_type": "code",
   "execution_count": 1,
   "metadata": {},
   "outputs": [],
   "source": [
    "#Basic libraries\n",
    "import pandas as pd\n",
    "import numpy as np\n",
    "import pickle"
   ]
  },
  {
   "cell_type": "code",
   "execution_count": 2,
   "metadata": {},
   "outputs": [
    {
     "name": "stdout",
     "output_type": "stream",
     "text": [
      "Data length: 176738\n"
     ]
    }
   ],
   "source": [
    "df = pd.read_csv('Theseus_data_19.5.2021_FINAL.csv', sep = '|')\n",
    "df.sort_values(['year'], inplace = True)\n",
    "print('Data length:', len(df))\n",
    "\n",
    "#Calculate the length as the total words of English and Finnish abstracts\n",
    "df['len'] = df['en'].str.split().str.len() + df['fi'].str.split().str.len() "
   ]
  },
  {
   "cell_type": "code",
   "execution_count": 3,
   "metadata": {},
   "outputs": [],
   "source": [
    "#Clean data\n",
    "#original_language\n",
    "df.loc[df['original_language'].str.contains('fi', na = False), 'original_language'] = 'fi'\n",
    "df.loc[df['original_language'].str.contains('en', na = False), 'original_language'] = 'en'\n",
    "df.loc[df['original_language'].str.contains('swe', na = False), 'original_language'] = 'sv'\n",
    "df.loc[df['original_language'].isnull(), 'original_language'] = np.NaN\n",
    "df.loc[~(df['original_language'].str.contains('fi', na = False) |\n",
    "         df['original_language'].str.contains('en', na = False) |\n",
    "         df['original_language'].str.contains('sv', na = False) |\n",
    "         df['original_language'].isnull()) , 'original_language'] = 'other'\n",
    "\n",
    "#organization\n",
    "school_names = ['Centria', 'Metropolia', 'Laurea', 'Arcada', 'Häme', 'Karelia', 'Novia', 'Åland', 'Haaga-Helia',\n",
    "                'Vaasa', 'Satakunta', 'Saimaa', 'Tampere', 'Turku', 'Jyväskylä', 'Kymenlaakso', 'Mikkeli', 'Savonia',\n",
    "                'Kajaani', 'South-Eastern Finland', 'Lapland', 'LAB']\n",
    "\n",
    "school_names_2 = {'Satakunnan' : 'Satakunta University of Applied Sciences',\n",
    "                  'Lapin': 'Lapland University of Applied Sciences',\n",
    "                  'Turun': 'Turku University of Applied Sciences',\n",
    "                  'Diakonia': 'Diaconia University of Applied Sciences',\n",
    "                  'Daikonia': 'Diaconia University of Applied Sciences',\n",
    "                  'Lahden': 'Lahti University of Applied Sciences',\n",
    "                  'Seinäjoen': 'Seinäjoki University of Applied Sciences',\n",
    "                  'Keski-Pohjanmaan': 'Centria University of Applied Sciences',\n",
    "                  'Humanistinen': 'Humak University of Applied Sciences',\n",
    "                  'Pohjois-Karjalan': 'Karelia University of Applied Sciences',\n",
    "                  'Rovaniemen': 'Rovaniemi University of Applied Sciences',\n",
    "                  'Kaakkois-Suomen': 'South-Eastern Finland University of Applied Sciences',\n",
    "                  'Poliisiammattikorkeakoulu': 'Police University College',\n",
    "                  'Pirkanmaan' : 'Pirkanmaa University of Applied Sciences',\n",
    "                  'Oulu' : 'Oulu University of Applied Sciences',\n",
    "                  'tekstiili ja kemiantekniikan koulutusohjelma' : np.NaN,\n",
    "                  'Degree programme' : np.NaN}\n",
    "\n",
    "df.loc[df['organization'].isnull(), 'organization'] = np.NaN\n",
    "for school_name in school_names:\n",
    "    df.loc[df['organization'].str.contains(school_name, na = False, case = False), 'organization'] = school_name + ' University of Applied Sciences'\n",
    "for school_name in school_names_2:\n",
    "    df.loc[df['organization'].str.contains(school_name, na = False), 'organization'] = school_names_2[school_name]"
   ]
  },
  {
   "cell_type": "code",
   "execution_count": 4,
   "metadata": {},
   "outputs": [],
   "source": [
    "#Keep samples with more than 135 words\n",
    "df2 = df.loc[df['len'] > 135].copy()\n",
    "df2.drop(columns = ['len'], axis = 1, inplace = True)"
   ]
  },
  {
   "cell_type": "code",
   "execution_count": 5,
   "metadata": {},
   "outputs": [
    {
     "name": "stdout",
     "output_type": "stream",
     "text": [
      "Final data length: 174955\n",
      "Deleted 1783 samples\n"
     ]
    }
   ],
   "source": [
    "print('Final data length:', len(df2))\n",
    "print('Deleted', len(df) - len(df2), 'samples')"
   ]
  },
  {
   "cell_type": "code",
   "execution_count": 6,
   "metadata": {},
   "outputs": [],
   "source": [
    "#Save datafile pickle\n",
    "filename = 'final_data'\n",
    "outfile = open(filename, 'wb')\n",
    "pickle.dump(df2, outfile, protocol = 3) #Old protocol\n",
    "outfile.close()"
   ]
  },
  {
   "cell_type": "code",
   "execution_count": 7,
   "metadata": {},
   "outputs": [],
   "source": [
    "#Test the saved file\n",
    "infile = open(r'final_data','rb')\n",
    "temp = pickle.load(infile)\n",
    "infile.close()"
   ]
  },
  {
   "cell_type": "code",
   "execution_count": 8,
   "metadata": {},
   "outputs": [
    {
     "data": {
      "text/html": [
       "<div>\n",
       "<style scoped>\n",
       "    .dataframe tbody tr th:only-of-type {\n",
       "        vertical-align: middle;\n",
       "    }\n",
       "\n",
       "    .dataframe tbody tr th {\n",
       "        vertical-align: top;\n",
       "    }\n",
       "\n",
       "    .dataframe thead th {\n",
       "        text-align: right;\n",
       "    }\n",
       "</style>\n",
       "<table border=\"1\" class=\"dataframe\">\n",
       "  <thead>\n",
       "    <tr style=\"text-align: right;\">\n",
       "      <th></th>\n",
       "      <th>handle</th>\n",
       "      <th>year</th>\n",
       "      <th>original_language</th>\n",
       "      <th>organization</th>\n",
       "      <th>google_translated_en</th>\n",
       "      <th>en</th>\n",
       "      <th>google_translated_fi</th>\n",
       "      <th>fi</th>\n",
       "    </tr>\n",
       "  </thead>\n",
       "  <tbody>\n",
       "    <tr>\n",
       "      <th>96229</th>\n",
       "      <td>10024/109747</td>\n",
       "      <td>2016</td>\n",
       "      <td>fi</td>\n",
       "      <td>Häme University of Applied Sciences</td>\n",
       "      <td>0</td>\n",
       "      <td>The aim of this practice-based Bachelor’s thes...</td>\n",
       "      <td>0</td>\n",
       "      <td>Toiminnallisen opinnäytetyön tarkoituksena oli...</td>\n",
       "    </tr>\n",
       "    <tr>\n",
       "      <th>91717</th>\n",
       "      <td>10024/120469</td>\n",
       "      <td>2016</td>\n",
       "      <td>en</td>\n",
       "      <td>Centria University of Applied Sciences</td>\n",
       "      <td>0</td>\n",
       "      <td>This article examined the relationship of poli...</td>\n",
       "      <td>1</td>\n",
       "      <td>Tässä artikkelissa tarkasteltiin Bangladeshin ...</td>\n",
       "    </tr>\n",
       "    <tr>\n",
       "      <th>149931</th>\n",
       "      <td>10024/263668</td>\n",
       "      <td>2019</td>\n",
       "      <td>en</td>\n",
       "      <td>Turku University of Applied Sciences</td>\n",
       "      <td>0</td>\n",
       "      <td>Open source software is growing, and widely us...</td>\n",
       "      <td>0</td>\n",
       "      <td>Avoimen lähdekoodin ohjelmiston määrä ja käytt...</td>\n",
       "    </tr>\n",
       "    <tr>\n",
       "      <th>104359</th>\n",
       "      <td>10024/107083</td>\n",
       "      <td>2016</td>\n",
       "      <td>en</td>\n",
       "      <td>Haaga-Helia University of Applied Sciences</td>\n",
       "      <td>0</td>\n",
       "      <td>Volunteer tourism is a fast growing trend and ...</td>\n",
       "      <td>1</td>\n",
       "      <td>Vapaaehtoistyö on nopeasti kasvava trendi ja k...</td>\n",
       "    </tr>\n",
       "    <tr>\n",
       "      <th>119707</th>\n",
       "      <td>10024/139813</td>\n",
       "      <td>2017</td>\n",
       "      <td>fi</td>\n",
       "      <td>Jyväskylä University of Applied Sciences</td>\n",
       "      <td>1</td>\n",
       "      <td>The city of Nivala spends 0.5-4M euros annuall...</td>\n",
       "      <td>0</td>\n",
       "      <td>Nivalan kaupunki käyttää korjausrakentamiseen ...</td>\n",
       "    </tr>\n",
       "  </tbody>\n",
       "</table>\n",
       "</div>"
      ],
      "text/plain": [
       "              handle  year original_language  \\\n",
       "96229   10024/109747  2016                fi   \n",
       "91717   10024/120469  2016                en   \n",
       "149931  10024/263668  2019                en   \n",
       "104359  10024/107083  2016                en   \n",
       "119707  10024/139813  2017                fi   \n",
       "\n",
       "                                      organization  google_translated_en  \\\n",
       "96229          Häme University of Applied Sciences                     0   \n",
       "91717       Centria University of Applied Sciences                     0   \n",
       "149931        Turku University of Applied Sciences                     0   \n",
       "104359  Haaga-Helia University of Applied Sciences                     0   \n",
       "119707    Jyväskylä University of Applied Sciences                     1   \n",
       "\n",
       "                                                       en  \\\n",
       "96229   The aim of this practice-based Bachelor’s thes...   \n",
       "91717   This article examined the relationship of poli...   \n",
       "149931  Open source software is growing, and widely us...   \n",
       "104359  Volunteer tourism is a fast growing trend and ...   \n",
       "119707  The city of Nivala spends 0.5-4M euros annuall...   \n",
       "\n",
       "        google_translated_fi  \\\n",
       "96229                      0   \n",
       "91717                      1   \n",
       "149931                     0   \n",
       "104359                     1   \n",
       "119707                     0   \n",
       "\n",
       "                                                       fi  \n",
       "96229   Toiminnallisen opinnäytetyön tarkoituksena oli...  \n",
       "91717   Tässä artikkelissa tarkasteltiin Bangladeshin ...  \n",
       "149931  Avoimen lähdekoodin ohjelmiston määrä ja käytt...  \n",
       "104359  Vapaaehtoistyö on nopeasti kasvava trendi ja k...  \n",
       "119707  Nivalan kaupunki käyttää korjausrakentamiseen ...  "
      ]
     },
     "execution_count": 8,
     "metadata": {},
     "output_type": "execute_result"
    }
   ],
   "source": [
    "temp.sample(5)"
   ]
  }
 ],
 "metadata": {
  "kernelspec": {
   "display_name": "Python 3",
   "language": "python",
   "name": "python3"
  },
  "language_info": {
   "codemirror_mode": {
    "name": "ipython",
    "version": 3
   },
   "file_extension": ".py",
   "mimetype": "text/x-python",
   "name": "python",
   "nbconvert_exporter": "python",
   "pygments_lexer": "ipython3",
   "version": "3.8.5"
  }
 },
 "nbformat": 4,
 "nbformat_minor": 4
}
