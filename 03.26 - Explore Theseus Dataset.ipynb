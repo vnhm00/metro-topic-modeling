{
 "cells": [
  {
   "cell_type": "markdown",
   "metadata": {},
   "source": [
    "# Explore Theseus Dataset\n",
    "Updated: 02.05.2021<br>\n",
    "Mai Vu"
   ]
  },
  {
   "cell_type": "code",
   "execution_count": 1,
   "metadata": {},
   "outputs": [
    {
     "data": {
      "text/html": [
       "        <script type=\"text/javascript\">\n",
       "        window.PlotlyConfig = {MathJaxConfig: 'local'};\n",
       "        if (window.MathJax) {MathJax.Hub.Config({SVG: {font: \"STIX-Web\"}});}\n",
       "        if (typeof require !== 'undefined') {\n",
       "        require.undef(\"plotly\");\n",
       "        requirejs.config({\n",
       "            paths: {\n",
       "                'plotly': ['https://cdn.plot.ly/plotly-latest.min']\n",
       "            }\n",
       "        });\n",
       "        require(['plotly'], function(Plotly) {\n",
       "            window._Plotly = Plotly;\n",
       "        });\n",
       "        }\n",
       "        </script>\n",
       "        "
      ]
     },
     "metadata": {},
     "output_type": "display_data"
    },
    {
     "data": {
      "text/html": [
       "        <script type=\"text/javascript\">\n",
       "        window.PlotlyConfig = {MathJaxConfig: 'local'};\n",
       "        if (window.MathJax) {MathJax.Hub.Config({SVG: {font: \"STIX-Web\"}});}\n",
       "        if (typeof require !== 'undefined') {\n",
       "        require.undef(\"plotly\");\n",
       "        requirejs.config({\n",
       "            paths: {\n",
       "                'plotly': ['https://cdn.plot.ly/plotly-latest.min']\n",
       "            }\n",
       "        });\n",
       "        require(['plotly'], function(Plotly) {\n",
       "            window._Plotly = Plotly;\n",
       "        });\n",
       "        }\n",
       "        </script>\n",
       "        "
      ]
     },
     "metadata": {},
     "output_type": "display_data"
    }
   ],
   "source": [
    "#Basic libraries\n",
    "import pandas as pd\n",
    "import numpy as np\n",
    "import matplotlib.pyplot as plt\n",
    "import numpy as np\n",
    "from collections import Counter\n",
    "\n",
    "#Library to read the data\n",
    "import pickle\n",
    "\n",
    "#Library to detect the language\n",
    "from langdetect import detect\n",
    "\n",
    "#Libraries for data visualization\n",
    "import plotly.graph_objs as go\n",
    "import plotly.express as px\n",
    "from plotly.subplots import make_subplots\n",
    "from plotly.offline import iplot, init_notebook_mode\n",
    "import cufflinks\n",
    "cufflinks.go_offline(connected = True)\n",
    "init_notebook_mode(connected = True)\n",
    "\n",
    "#Libraries for lemmatization\n",
    "import nltk\n",
    "import re\n",
    "from nltk.corpus import stopwords\n",
    "from nltk.stem import WordNetLemmatizer\n",
    "#from libvoikko import Voikko #For Finnish\n",
    "\n",
    "#Libraries for word cloud\n",
    "from os import path\n",
    "from PIL import Image\n",
    "from wordcloud import WordCloud, STOPWORDS"
   ]
  },
  {
   "cell_type": "markdown",
   "metadata": {},
   "source": [
    "## 1. Data Preprocessing"
   ]
  },
  {
   "cell_type": "markdown",
   "metadata": {},
   "source": [
    "### 1.1 Read the data"
   ]
  },
  {
   "cell_type": "code",
   "execution_count": 2,
   "metadata": {},
   "outputs": [
    {
     "data": {
      "text/html": [
       "<div>\n",
       "<style scoped>\n",
       "    .dataframe tbody tr th:only-of-type {\n",
       "        vertical-align: middle;\n",
       "    }\n",
       "\n",
       "    .dataframe tbody tr th {\n",
       "        vertical-align: top;\n",
       "    }\n",
       "\n",
       "    .dataframe thead th {\n",
       "        text-align: right;\n",
       "    }\n",
       "</style>\n",
       "<table border=\"1\" class=\"dataframe\">\n",
       "  <thead>\n",
       "    <tr style=\"text-align: right;\">\n",
       "      <th></th>\n",
       "      <th>index</th>\n",
       "      <th>url</th>\n",
       "      <th>stream_url</th>\n",
       "      <th>is_downloaded</th>\n",
       "      <th>pdf_name</th>\n",
       "      <th>txt_url</th>\n",
       "      <th>pdf_url</th>\n",
       "      <th>info</th>\n",
       "      <th>filesize_bytes</th>\n",
       "      <th>filename</th>\n",
       "      <th>info_valid</th>\n",
       "    </tr>\n",
       "  </thead>\n",
       "  <tbody>\n",
       "    <tr>\n",
       "      <th>0</th>\n",
       "      <td>10024/19606</td>\n",
       "      <td>https://www.theseus.fi/handle/10024/19606</td>\n",
       "      <td>https://www.theseus.fi/bitstream/handle/10024/...</td>\n",
       "      <td>False</td>\n",
       "      <td>[jamk_1250169708_1.pdf]</td>\n",
       "      <td>[https://www.theseus.fi/bitstream/handle/10024...</td>\n",
       "      <td>[https://www.theseus.fi/bitstream/handle/10024...</td>\n",
       "      <td>{'dc.contributor.author': 'Sirviö, Timo', 'dc....</td>\n",
       "      <td>[]</td>\n",
       "      <td>[]</td>\n",
       "      <td>True</td>\n",
       "    </tr>\n",
       "    <tr>\n",
       "      <th>1</th>\n",
       "      <td>10024/1810</td>\n",
       "      <td>https://www.theseus.fi/handle/10024/1810</td>\n",
       "      <td>https://www.theseus.fi/bitstream/handle/10024/...</td>\n",
       "      <td>False</td>\n",
       "      <td>[Pitkaranta_Joni.pdf]</td>\n",
       "      <td>[https://www.theseus.fi/bitstream/handle/10024...</td>\n",
       "      <td>[https://www.theseus.fi/bitstream/handle/10024...</td>\n",
       "      <td>{'dc.contributor.author': 'Pitkäranta, Joni', ...</td>\n",
       "      <td>[]</td>\n",
       "      <td>[]</td>\n",
       "      <td>True</td>\n",
       "    </tr>\n",
       "    <tr>\n",
       "      <th>2</th>\n",
       "      <td>10024/19612</td>\n",
       "      <td>https://www.theseus.fi/handle/10024/19612</td>\n",
       "      <td>https://www.theseus.fi/bitstream/handle/10024/...</td>\n",
       "      <td>False</td>\n",
       "      <td>[jamk_1246449108_2.pdf]</td>\n",
       "      <td>[https://www.theseus.fi/bitstream/handle/10024...</td>\n",
       "      <td>[https://www.theseus.fi/bitstream/handle/10024...</td>\n",
       "      <td>{'dc.contributor.author': 'Peltola, Sari-Maari...</td>\n",
       "      <td>[]</td>\n",
       "      <td>[]</td>\n",
       "      <td>True</td>\n",
       "    </tr>\n",
       "    <tr>\n",
       "      <th>3</th>\n",
       "      <td>10024/7323</td>\n",
       "      <td>https://www.theseus.fi/handle/10024/7323</td>\n",
       "      <td>https://www.theseus.fi/bitstream/handle/10024/...</td>\n",
       "      <td>False</td>\n",
       "      <td>[Viitanen_Sini_2009.pdf]</td>\n",
       "      <td>[https://www.theseus.fi/bitstream/handle/10024...</td>\n",
       "      <td>[https://www.theseus.fi/bitstream/handle/10024...</td>\n",
       "      <td>{'dc.contributor.author': 'Viitanen, Sini', 'd...</td>\n",
       "      <td>[]</td>\n",
       "      <td>[]</td>\n",
       "      <td>True</td>\n",
       "    </tr>\n",
       "    <tr>\n",
       "      <th>4</th>\n",
       "      <td>10024/12158</td>\n",
       "      <td>https://www.theseus.fi/handle/10024/12158</td>\n",
       "      <td>https://www.theseus.fi/bitstream/handle/10024/...</td>\n",
       "      <td>False</td>\n",
       "      <td>[2009_parantainen_sini.pdf]</td>\n",
       "      <td>[https://www.theseus.fi/bitstream/handle/10024...</td>\n",
       "      <td>[https://www.theseus.fi/bitstream/handle/10024...</td>\n",
       "      <td>{'dc.contributor.author': 'Parantainen, Sini',...</td>\n",
       "      <td>[]</td>\n",
       "      <td>[]</td>\n",
       "      <td>True</td>\n",
       "    </tr>\n",
       "  </tbody>\n",
       "</table>\n",
       "</div>"
      ],
      "text/plain": [
       "         index                                        url  \\\n",
       "0  10024/19606  https://www.theseus.fi/handle/10024/19606   \n",
       "1   10024/1810   https://www.theseus.fi/handle/10024/1810   \n",
       "2  10024/19612  https://www.theseus.fi/handle/10024/19612   \n",
       "3   10024/7323   https://www.theseus.fi/handle/10024/7323   \n",
       "4  10024/12158  https://www.theseus.fi/handle/10024/12158   \n",
       "\n",
       "                                          stream_url is_downloaded  \\\n",
       "0  https://www.theseus.fi/bitstream/handle/10024/...         False   \n",
       "1  https://www.theseus.fi/bitstream/handle/10024/...         False   \n",
       "2  https://www.theseus.fi/bitstream/handle/10024/...         False   \n",
       "3  https://www.theseus.fi/bitstream/handle/10024/...         False   \n",
       "4  https://www.theseus.fi/bitstream/handle/10024/...         False   \n",
       "\n",
       "                      pdf_name  \\\n",
       "0      [jamk_1250169708_1.pdf]   \n",
       "1        [Pitkaranta_Joni.pdf]   \n",
       "2      [jamk_1246449108_2.pdf]   \n",
       "3     [Viitanen_Sini_2009.pdf]   \n",
       "4  [2009_parantainen_sini.pdf]   \n",
       "\n",
       "                                             txt_url  \\\n",
       "0  [https://www.theseus.fi/bitstream/handle/10024...   \n",
       "1  [https://www.theseus.fi/bitstream/handle/10024...   \n",
       "2  [https://www.theseus.fi/bitstream/handle/10024...   \n",
       "3  [https://www.theseus.fi/bitstream/handle/10024...   \n",
       "4  [https://www.theseus.fi/bitstream/handle/10024...   \n",
       "\n",
       "                                             pdf_url  \\\n",
       "0  [https://www.theseus.fi/bitstream/handle/10024...   \n",
       "1  [https://www.theseus.fi/bitstream/handle/10024...   \n",
       "2  [https://www.theseus.fi/bitstream/handle/10024...   \n",
       "3  [https://www.theseus.fi/bitstream/handle/10024...   \n",
       "4  [https://www.theseus.fi/bitstream/handle/10024...   \n",
       "\n",
       "                                                info filesize_bytes filename  \\\n",
       "0  {'dc.contributor.author': 'Sirviö, Timo', 'dc....             []       []   \n",
       "1  {'dc.contributor.author': 'Pitkäranta, Joni', ...             []       []   \n",
       "2  {'dc.contributor.author': 'Peltola, Sari-Maari...             []       []   \n",
       "3  {'dc.contributor.author': 'Viitanen, Sini', 'd...             []       []   \n",
       "4  {'dc.contributor.author': 'Parantainen, Sini',...             []       []   \n",
       "\n",
       "  info_valid  \n",
       "0       True  \n",
       "1       True  \n",
       "2       True  \n",
       "3       True  \n",
       "4       True  "
      ]
     },
     "execution_count": 2,
     "metadata": {},
     "output_type": "execute_result"
    }
   ],
   "source": [
    "#Read the data from file\n",
    "handles, http_pages = pickle.load(open(r\"final_Theseus_database_annif.pickle\", 'rb'))\n",
    "\n",
    "#Change dict to dataframe\n",
    "df = pd.DataFrame(handles)\n",
    "df = df.T\n",
    "df.reset_index(inplace = True)\n",
    "df.head(5)"
   ]
  },
  {
   "cell_type": "code",
   "execution_count": 3,
   "metadata": {},
   "outputs": [
    {
     "name": "stdout",
     "output_type": "stream",
     "text": [
      "Is index unique:  True\n",
      "Number of row that not start with '10024/':  0\n"
     ]
    },
    {
     "data": {
      "text/html": [
       "<div>\n",
       "<style scoped>\n",
       "    .dataframe tbody tr th:only-of-type {\n",
       "        vertical-align: middle;\n",
       "    }\n",
       "\n",
       "    .dataframe tbody tr th {\n",
       "        vertical-align: top;\n",
       "    }\n",
       "\n",
       "    .dataframe thead th {\n",
       "        text-align: right;\n",
       "    }\n",
       "</style>\n",
       "<table border=\"1\" class=\"dataframe\">\n",
       "  <thead>\n",
       "    <tr style=\"text-align: right;\">\n",
       "      <th></th>\n",
       "      <th>url</th>\n",
       "      <th>stream_url</th>\n",
       "      <th>is_downloaded</th>\n",
       "      <th>pdf_name</th>\n",
       "      <th>txt_url</th>\n",
       "      <th>pdf_url</th>\n",
       "      <th>info</th>\n",
       "      <th>filesize_bytes</th>\n",
       "      <th>filename</th>\n",
       "      <th>info_valid</th>\n",
       "    </tr>\n",
       "    <tr>\n",
       "      <th>index</th>\n",
       "      <th></th>\n",
       "      <th></th>\n",
       "      <th></th>\n",
       "      <th></th>\n",
       "      <th></th>\n",
       "      <th></th>\n",
       "      <th></th>\n",
       "      <th></th>\n",
       "      <th></th>\n",
       "      <th></th>\n",
       "    </tr>\n",
       "  </thead>\n",
       "  <tbody>\n",
       "    <tr>\n",
       "      <th>19606</th>\n",
       "      <td>https://www.theseus.fi/handle/10024/19606</td>\n",
       "      <td>https://www.theseus.fi/bitstream/handle/10024/...</td>\n",
       "      <td>False</td>\n",
       "      <td>[jamk_1250169708_1.pdf]</td>\n",
       "      <td>[https://www.theseus.fi/bitstream/handle/10024...</td>\n",
       "      <td>[https://www.theseus.fi/bitstream/handle/10024...</td>\n",
       "      <td>{'dc.contributor.author': 'Sirviö, Timo', 'dc....</td>\n",
       "      <td>[]</td>\n",
       "      <td>[]</td>\n",
       "      <td>True</td>\n",
       "    </tr>\n",
       "    <tr>\n",
       "      <th>1810</th>\n",
       "      <td>https://www.theseus.fi/handle/10024/1810</td>\n",
       "      <td>https://www.theseus.fi/bitstream/handle/10024/...</td>\n",
       "      <td>False</td>\n",
       "      <td>[Pitkaranta_Joni.pdf]</td>\n",
       "      <td>[https://www.theseus.fi/bitstream/handle/10024...</td>\n",
       "      <td>[https://www.theseus.fi/bitstream/handle/10024...</td>\n",
       "      <td>{'dc.contributor.author': 'Pitkäranta, Joni', ...</td>\n",
       "      <td>[]</td>\n",
       "      <td>[]</td>\n",
       "      <td>True</td>\n",
       "    </tr>\n",
       "    <tr>\n",
       "      <th>19612</th>\n",
       "      <td>https://www.theseus.fi/handle/10024/19612</td>\n",
       "      <td>https://www.theseus.fi/bitstream/handle/10024/...</td>\n",
       "      <td>False</td>\n",
       "      <td>[jamk_1246449108_2.pdf]</td>\n",
       "      <td>[https://www.theseus.fi/bitstream/handle/10024...</td>\n",
       "      <td>[https://www.theseus.fi/bitstream/handle/10024...</td>\n",
       "      <td>{'dc.contributor.author': 'Peltola, Sari-Maari...</td>\n",
       "      <td>[]</td>\n",
       "      <td>[]</td>\n",
       "      <td>True</td>\n",
       "    </tr>\n",
       "    <tr>\n",
       "      <th>7323</th>\n",
       "      <td>https://www.theseus.fi/handle/10024/7323</td>\n",
       "      <td>https://www.theseus.fi/bitstream/handle/10024/...</td>\n",
       "      <td>False</td>\n",
       "      <td>[Viitanen_Sini_2009.pdf]</td>\n",
       "      <td>[https://www.theseus.fi/bitstream/handle/10024...</td>\n",
       "      <td>[https://www.theseus.fi/bitstream/handle/10024...</td>\n",
       "      <td>{'dc.contributor.author': 'Viitanen, Sini', 'd...</td>\n",
       "      <td>[]</td>\n",
       "      <td>[]</td>\n",
       "      <td>True</td>\n",
       "    </tr>\n",
       "    <tr>\n",
       "      <th>12158</th>\n",
       "      <td>https://www.theseus.fi/handle/10024/12158</td>\n",
       "      <td>https://www.theseus.fi/bitstream/handle/10024/...</td>\n",
       "      <td>False</td>\n",
       "      <td>[2009_parantainen_sini.pdf]</td>\n",
       "      <td>[https://www.theseus.fi/bitstream/handle/10024...</td>\n",
       "      <td>[https://www.theseus.fi/bitstream/handle/10024...</td>\n",
       "      <td>{'dc.contributor.author': 'Parantainen, Sini',...</td>\n",
       "      <td>[]</td>\n",
       "      <td>[]</td>\n",
       "      <td>True</td>\n",
       "    </tr>\n",
       "  </tbody>\n",
       "</table>\n",
       "</div>"
      ],
      "text/plain": [
       "                                             url  \\\n",
       "index                                              \n",
       "19606  https://www.theseus.fi/handle/10024/19606   \n",
       "1810    https://www.theseus.fi/handle/10024/1810   \n",
       "19612  https://www.theseus.fi/handle/10024/19612   \n",
       "7323    https://www.theseus.fi/handle/10024/7323   \n",
       "12158  https://www.theseus.fi/handle/10024/12158   \n",
       "\n",
       "                                              stream_url is_downloaded  \\\n",
       "index                                                                    \n",
       "19606  https://www.theseus.fi/bitstream/handle/10024/...         False   \n",
       "1810   https://www.theseus.fi/bitstream/handle/10024/...         False   \n",
       "19612  https://www.theseus.fi/bitstream/handle/10024/...         False   \n",
       "7323   https://www.theseus.fi/bitstream/handle/10024/...         False   \n",
       "12158  https://www.theseus.fi/bitstream/handle/10024/...         False   \n",
       "\n",
       "                          pdf_name  \\\n",
       "index                                \n",
       "19606      [jamk_1250169708_1.pdf]   \n",
       "1810         [Pitkaranta_Joni.pdf]   \n",
       "19612      [jamk_1246449108_2.pdf]   \n",
       "7323      [Viitanen_Sini_2009.pdf]   \n",
       "12158  [2009_parantainen_sini.pdf]   \n",
       "\n",
       "                                                 txt_url  \\\n",
       "index                                                      \n",
       "19606  [https://www.theseus.fi/bitstream/handle/10024...   \n",
       "1810   [https://www.theseus.fi/bitstream/handle/10024...   \n",
       "19612  [https://www.theseus.fi/bitstream/handle/10024...   \n",
       "7323   [https://www.theseus.fi/bitstream/handle/10024...   \n",
       "12158  [https://www.theseus.fi/bitstream/handle/10024...   \n",
       "\n",
       "                                                 pdf_url  \\\n",
       "index                                                      \n",
       "19606  [https://www.theseus.fi/bitstream/handle/10024...   \n",
       "1810   [https://www.theseus.fi/bitstream/handle/10024...   \n",
       "19612  [https://www.theseus.fi/bitstream/handle/10024...   \n",
       "7323   [https://www.theseus.fi/bitstream/handle/10024...   \n",
       "12158  [https://www.theseus.fi/bitstream/handle/10024...   \n",
       "\n",
       "                                                    info filesize_bytes  \\\n",
       "index                                                                     \n",
       "19606  {'dc.contributor.author': 'Sirviö, Timo', 'dc....             []   \n",
       "1810   {'dc.contributor.author': 'Pitkäranta, Joni', ...             []   \n",
       "19612  {'dc.contributor.author': 'Peltola, Sari-Maari...             []   \n",
       "7323   {'dc.contributor.author': 'Viitanen, Sini', 'd...             []   \n",
       "12158  {'dc.contributor.author': 'Parantainen, Sini',...             []   \n",
       "\n",
       "      filename info_valid  \n",
       "index                      \n",
       "19606       []       True  \n",
       "1810        []       True  \n",
       "19612       []       True  \n",
       "7323        []       True  \n",
       "12158       []       True  "
      ]
     },
     "execution_count": 3,
     "metadata": {},
     "output_type": "execute_result"
    }
   ],
   "source": [
    "#Index column all starts with '10024/'\n",
    "print('Is index unique: ', df.index.is_unique)\n",
    "print('Number of row that not start with \\'10024/\\': ', len(df[~df['index'].str.contains('10024/')]))\n",
    "\n",
    "#Delete the part so that index can be number\n",
    "df['index'] = df['index'].map(lambda row: int(row[6:]))\n",
    "\n",
    "#Set the index back\n",
    "df.set_index('index', inplace = True)\n",
    "df.head(5)"
   ]
  },
  {
   "cell_type": "markdown",
   "metadata": {},
   "source": [
    "The 'info' column is a dictionary containing much more information. It should be turned into columns separately."
   ]
  },
  {
   "cell_type": "markdown",
   "metadata": {},
   "source": [
    "### 1.2 Select columns and uniform values in a column"
   ]
  },
  {
   "cell_type": "code",
   "execution_count": 4,
   "metadata": {},
   "outputs": [
    {
     "name": "stdout",
     "output_type": "stream",
     "text": [
      "Dataframe length:  176753\n"
     ]
    },
    {
     "data": {
      "text/html": [
       "<div>\n",
       "<style scoped>\n",
       "    .dataframe tbody tr th:only-of-type {\n",
       "        vertical-align: middle;\n",
       "    }\n",
       "\n",
       "    .dataframe tbody tr th {\n",
       "        vertical-align: top;\n",
       "    }\n",
       "\n",
       "    .dataframe thead th {\n",
       "        text-align: right;\n",
       "    }\n",
       "</style>\n",
       "<table border=\"1\" class=\"dataframe\">\n",
       "  <thead>\n",
       "    <tr style=\"text-align: right;\">\n",
       "      <th></th>\n",
       "      <th>dc.contributor.author</th>\n",
       "      <th>dc.date.accessioned</th>\n",
       "      <th>dc.date.available</th>\n",
       "      <th>dc.date.issued</th>\n",
       "      <th>dc.identifier.uri</th>\n",
       "      <th>dc.description.abstract</th>\n",
       "      <th>dc.description.abstract_fi</th>\n",
       "      <th>dc.description.abstract_en</th>\n",
       "      <th>dc.format.extent</th>\n",
       "      <th>dc.language.iso</th>\n",
       "      <th>...</th>\n",
       "      <th>dc.description.abstract_EN</th>\n",
       "      <th>dc.description.abstract_f</th>\n",
       "      <th>dc.title_fi-</th>\n",
       "      <th>dc.subject.musa_ fi</th>\n",
       "      <th>dc.language</th>\n",
       "      <th>dc.title_fin</th>\n",
       "      <th>dc.description.backcover</th>\n",
       "      <th>dc.description.backcover_en</th>\n",
       "      <th>dc.description.abstract_fi-</th>\n",
       "      <th>dc.embargo.lift</th>\n",
       "    </tr>\n",
       "    <tr>\n",
       "      <th>index</th>\n",
       "      <th></th>\n",
       "      <th></th>\n",
       "      <th></th>\n",
       "      <th></th>\n",
       "      <th></th>\n",
       "      <th></th>\n",
       "      <th></th>\n",
       "      <th></th>\n",
       "      <th></th>\n",
       "      <th></th>\n",
       "      <th></th>\n",
       "      <th></th>\n",
       "      <th></th>\n",
       "      <th></th>\n",
       "      <th></th>\n",
       "      <th></th>\n",
       "      <th></th>\n",
       "      <th></th>\n",
       "      <th></th>\n",
       "      <th></th>\n",
       "      <th></th>\n",
       "    </tr>\n",
       "  </thead>\n",
       "  <tbody>\n",
       "    <tr>\n",
       "      <th>19606</th>\n",
       "      <td>Sirviö, Timo</td>\n",
       "      <td>2010-09-16T10:09:13Z</td>\n",
       "      <td>2010-09-16T10:09:13Z</td>\n",
       "      <td>2009-08-13</td>\n",
       "      <td>http://www.theseus.fi/handle/10024/19606</td>\n",
       "      <td>Kehittämishankkeen tehtävä oli kokeilla yhteis...</td>\n",
       "      <td>Kehittämishankkeen tehtävä oli kokeilla yhteis...</td>\n",
       "      <td>The aim of the bachelor’s thesis was to pilot ...</td>\n",
       "      <td>Verkkojulkaisu ( 1194 KB, 31 s.)</td>\n",
       "      <td>fi</td>\n",
       "      <td>...</td>\n",
       "      <td>NaN</td>\n",
       "      <td>NaN</td>\n",
       "      <td>NaN</td>\n",
       "      <td>NaN</td>\n",
       "      <td>NaN</td>\n",
       "      <td>NaN</td>\n",
       "      <td>NaN</td>\n",
       "      <td>NaN</td>\n",
       "      <td>NaN</td>\n",
       "      <td>NaN</td>\n",
       "    </tr>\n",
       "    <tr>\n",
       "      <th>1810</th>\n",
       "      <td>Pitkäranta, Joni</td>\n",
       "      <td>2009-02-05T07:54:04Z</td>\n",
       "      <td>2009-02-05T07:54:04Z</td>\n",
       "      <td>2009</td>\n",
       "      <td>http://www.theseus.fi/handle/10024/1810</td>\n",
       "      <td>Tämän opinnäytetyön aiheena oli tutkia Suupohj...</td>\n",
       "      <td>Tämän opinnäytetyön aiheena oli tutkia Suupohj...</td>\n",
       "      <td>The aim of this thesis was to examine if the f...</td>\n",
       "      <td>NaN</td>\n",
       "      <td>fi</td>\n",
       "      <td>...</td>\n",
       "      <td>NaN</td>\n",
       "      <td>NaN</td>\n",
       "      <td>NaN</td>\n",
       "      <td>NaN</td>\n",
       "      <td>NaN</td>\n",
       "      <td>NaN</td>\n",
       "      <td>NaN</td>\n",
       "      <td>NaN</td>\n",
       "      <td>NaN</td>\n",
       "      <td>NaN</td>\n",
       "    </tr>\n",
       "    <tr>\n",
       "      <th>19612</th>\n",
       "      <td>Peltola, Sari-Maarit</td>\n",
       "      <td>2010-09-16T10:09:16Z</td>\n",
       "      <td>2010-09-16T10:09:16Z</td>\n",
       "      <td>2009-05-16</td>\n",
       "      <td>http://www.theseus.fi/handle/10024/19612</td>\n",
       "      <td>Kehittämishankkeen tavoitteena oli suunnitella...</td>\n",
       "      <td>Kehittämishankkeen tavoitteena oli suunnitella...</td>\n",
       "      <td>Aim of the development project was to plan and...</td>\n",
       "      <td>Verkkojulkaisu ( 652 KB, 41 s.)</td>\n",
       "      <td>fi</td>\n",
       "      <td>...</td>\n",
       "      <td>NaN</td>\n",
       "      <td>NaN</td>\n",
       "      <td>NaN</td>\n",
       "      <td>NaN</td>\n",
       "      <td>NaN</td>\n",
       "      <td>NaN</td>\n",
       "      <td>NaN</td>\n",
       "      <td>NaN</td>\n",
       "      <td>NaN</td>\n",
       "      <td>NaN</td>\n",
       "    </tr>\n",
       "  </tbody>\n",
       "</table>\n",
       "<p>3 rows × 223 columns</p>\n",
       "</div>"
      ],
      "text/plain": [
       "      dc.contributor.author   dc.date.accessioned     dc.date.available  \\\n",
       "index                                                                     \n",
       "19606          Sirviö, Timo  2010-09-16T10:09:13Z  2010-09-16T10:09:13Z   \n",
       "1810       Pitkäranta, Joni  2009-02-05T07:54:04Z  2009-02-05T07:54:04Z   \n",
       "19612  Peltola, Sari-Maarit  2010-09-16T10:09:16Z  2010-09-16T10:09:16Z   \n",
       "\n",
       "      dc.date.issued                         dc.identifier.uri  \\\n",
       "index                                                            \n",
       "19606     2009-08-13  http://www.theseus.fi/handle/10024/19606   \n",
       "1810            2009   http://www.theseus.fi/handle/10024/1810   \n",
       "19612     2009-05-16  http://www.theseus.fi/handle/10024/19612   \n",
       "\n",
       "                                 dc.description.abstract  \\\n",
       "index                                                      \n",
       "19606  Kehittämishankkeen tehtävä oli kokeilla yhteis...   \n",
       "1810   Tämän opinnäytetyön aiheena oli tutkia Suupohj...   \n",
       "19612  Kehittämishankkeen tavoitteena oli suunnitella...   \n",
       "\n",
       "                              dc.description.abstract_fi  \\\n",
       "index                                                      \n",
       "19606  Kehittämishankkeen tehtävä oli kokeilla yhteis...   \n",
       "1810   Tämän opinnäytetyön aiheena oli tutkia Suupohj...   \n",
       "19612  Kehittämishankkeen tavoitteena oli suunnitella...   \n",
       "\n",
       "                              dc.description.abstract_en  \\\n",
       "index                                                      \n",
       "19606  The aim of the bachelor’s thesis was to pilot ...   \n",
       "1810   The aim of this thesis was to examine if the f...   \n",
       "19612  Aim of the development project was to plan and...   \n",
       "\n",
       "                       dc.format.extent dc.language.iso  ...  \\\n",
       "index                                                    ...   \n",
       "19606  Verkkojulkaisu ( 1194 KB, 31 s.)              fi  ...   \n",
       "1810                                NaN              fi  ...   \n",
       "19612   Verkkojulkaisu ( 652 KB, 41 s.)              fi  ...   \n",
       "\n",
       "      dc.description.abstract_EN dc.description.abstract_f dc.title_fi-  \\\n",
       "index                                                                     \n",
       "19606                        NaN                       NaN          NaN   \n",
       "1810                         NaN                       NaN          NaN   \n",
       "19612                        NaN                       NaN          NaN   \n",
       "\n",
       "      dc.subject.musa_ fi dc.language dc.title_fin dc.description.backcover  \\\n",
       "index                                                                         \n",
       "19606                 NaN         NaN          NaN                      NaN   \n",
       "1810                  NaN         NaN          NaN                      NaN   \n",
       "19612                 NaN         NaN          NaN                      NaN   \n",
       "\n",
       "      dc.description.backcover_en dc.description.abstract_fi- dc.embargo.lift  \n",
       "index                                                                          \n",
       "19606                         NaN                         NaN             NaN  \n",
       "1810                          NaN                         NaN             NaN  \n",
       "19612                         NaN                         NaN             NaN  \n",
       "\n",
       "[3 rows x 223 columns]"
      ]
     },
     "execution_count": 4,
     "metadata": {},
     "output_type": "execute_result"
    }
   ],
   "source": [
    "#Drop all columns, except the 'info', since they hold little to no values during the exploration phase\n",
    "df.drop(['url', 'stream_url', 'is_downloaded', 'pdf_name', 'txt_url', 'pdf_url', 'filesize_bytes', 'filename', 'info_valid'], axis = 1, inplace = True)\n",
    "\n",
    "#Expand the 'info' column\n",
    "df = pd.concat([df.drop(['info'], axis = 1), df['info'].apply(pd.Series)], axis = 1)\n",
    "\n",
    "print('Dataframe length: ', len(df))\n",
    "df.head(3)"
   ]
  },
  {
   "cell_type": "code",
   "execution_count": 5,
   "metadata": {},
   "outputs": [
    {
     "data": {
      "image/png": "[encoded data removed]",
      "text/plain": [
       "<Figure size 1224x504 with 1 Axes>"
      ]
     },
     "metadata": {
      "needs_background": "light"
     },
     "output_type": "display_data"
    }
   ],
   "source": [
    "#Briefly check NaN value in each column\n",
    "plt.figure(figsize = (17,7))\n",
    "ax = plt.gca()\n",
    "ax.axes.xaxis.set_visible(False)\n",
    "df.isna().sum().sort_values(ascending = True).plot.bar()\n",
    "plt.title('Bar plot of the number of NaN values in a column ascendingly', fontsize = 15)\n",
    "plt.grid()\n",
    "plt.show()"
   ]
  },
  {
   "cell_type": "markdown",
   "metadata": {},
   "source": [
    "As shown, most of the columns have more than 50 000 NaN values. That is lots of NaN values to work with. Thus, in the beginning, only a few columns have fewer NaN values would be included to explore the data."
   ]
  },
  {
   "cell_type": "code",
   "execution_count": 6,
   "metadata": {},
   "outputs": [
    {
     "name": "stdout",
     "output_type": "stream",
     "text": [
      "Number of columns that have less than 100000 NaN:  27\n"
     ]
    }
   ],
   "source": [
    "#Threshold 100000 now\n",
    "nan_column = df.isna().sum().to_frame(name = 'count')\n",
    "nan_column = nan_column[nan_column['count'] < 100000]\n",
    "print('Number of columns that have less than 100000 NaN: ',len(nan_column))"
   ]
  },
  {
   "cell_type": "code",
   "execution_count": 7,
   "metadata": {},
   "outputs": [],
   "source": [
    "#Create new dataframe to work with\n",
    "X = df[nan_column.index.to_list()].copy()\n",
    "X['title_en'] = df['dc.title_en'].copy()\n",
    "X['annif_response_en'] = df['annif_response_en'].copy()\n",
    "X['annif_keywords_en'] = df['annif_keywords_en'].copy()\n",
    "\n",
    "#Drop some columns and change columns' name\n",
    "# Assuming:\n",
    "#    'dc.date.accessioned' = 'dc.date.available' = 'dc.date.issued' : Eventhough not really (X.head(5))\n",
    "#    'dc.identifier.uri', 'dc.identifier.dscollection', 'dc.rights': Not important\n",
    "#    'dc.date.issued_-', 'dc.language.iso_-', 'dc.subject.degreeprogram_-', 'dc.subject.discipline_-' : Overlap?\n",
    "#    'dc.publisher' = 'dc.organization' = 'dc.contributor.organization' : Eventhough not really (count NaN values)\n",
    "X.drop(['dc.date.accessioned', 'dc.date.available', 'dc.identifier.uri', 'dc.identifier.dscollection',\n",
    "        'dc.rights', 'dc.date.issued_-', 'dc.language.iso_-',\n",
    "        'dc.subject.degreeprogram_-', 'dc.subject.discipline_-', 'dc.publisher', 'dc.organization'], axis = 1, inplace = True)\n",
    "X.rename(columns = {'dc.contributor.author': 'author', 'dc.date.issued': 'date', 'dc.type.ontasot': 'level',\n",
    "                    'dc.description.abstract' : 'abstract',\n",
    "                    'dc.description.abstract_fi' : 'abstract_fi', 'dc.description.abstract_en' : 'abstract_en',\n",
    "                    'dc.language.iso' : 'language', 'dc.title' : 'title', 'dc.title_fi' : 'title_fi',\n",
    "                    'dc.contributor.organization': 'contributor_organization',\n",
    "                    'dc.subject.degreeprogram' : 'degree_program'}, inplace = True)"
   ]
  },
  {
   "cell_type": "code",
   "execution_count": 8,
   "metadata": {},
   "outputs": [],
   "source": [
    "#REDUCE VALUES\n",
    "############################ YEAR #####################\n",
    "for i in range(2009, 2021):\n",
    "    X['date'].loc[X['date'].str.contains(str(i), na = False)] = i\n",
    "X.loc[X['date'].isnull()] = np.NaN\n",
    "\n",
    "############################ LANGUAGE #####################\n",
    "X['language'].loc[X['language'].str.contains('fi', na = False)] = 'fin'\n",
    "X['language'].loc[X['language'].str.contains('en', na = False)] = 'eng'\n",
    "X['language'].loc[~(X['language'].str.contains('fin', na = False) | X['language'].str.contains('eng', na = False))] = 'other'\n",
    "X.loc[X['language'].isnull()] = np.NaN\n",
    "\n",
    "############################ LEVEL #####################\n",
    "X['level'].loc[X['level'].str.contains('Bachelor', na = False)] = 'Bachelor'\n",
    "X['level'].loc[X['level'].str.contains('Master', na = False)] = 'Master'\n",
    "X['level'].loc[~(X['level'].str.contains('Bachelor', na = False) | X['level'].str.contains('Master', na = False))] = np.NaN\n",
    "\n",
    "############################ UNIVERSITY #####################\n",
    "school_names = ['Centria', 'Metropolia', 'Laurea', 'Arcada', 'Häme', 'Karelia', 'Novia', 'Åland', 'Haaga-Helia',\n",
    "                'Vaasa', 'Satakunta', 'Saimaa', 'Tampere', 'Turku', 'Jyväskylä', 'Kymenlaakso', 'Mikkeli', 'Savonia',\n",
    "                'Kajaani', 'South-Eastern Finland', 'Lapland']\n",
    "\n",
    "school_names_2 = {'Satakunnan' : 'Satakunta University of Applied Sciences',\n",
    "                  'Lapin': 'Lapland University of Applied Sciences',\n",
    "                  'Turun': 'Turku University of Applied Sciences',\n",
    "                  'Diakonia': 'Diaconia University of Applied Sciences',\n",
    "                  'Daikonia': 'Diaconia University of Applied Sciences',\n",
    "                  'Lahden': 'Lahti University of Applied Sciences',\n",
    "                  'Seinäjoen': 'Seinäjoki University of Applied Sciences',\n",
    "                  'Keski-Pohjanmaan': 'Centria University of Applied Sciences',\n",
    "                  'Humanistinen': 'Humak University of Applied Sciences',\n",
    "                  'Pohjois-Karjalan': 'Karelia University of Applied Sciences',\n",
    "                  'Rovaniemen': 'Rovaniemi University of Applied Sciences',\n",
    "                  'Kaakkois-Suomen': 'South-Eastern Finland University of Applied Sciences',\n",
    "                  'Poliisiammattikorkeakoulu': 'Police University College',\n",
    "                  'Pirkanmaan' : 'Pirkanmaa University of Applied Sciences',\n",
    "                  'Oulu' : 'Oulu University of Applied Sciences'}\n",
    "\n",
    "for school_name in school_names:\n",
    "    X['contributor_organization'].loc[X['contributor_organization'].str.contains(school_name, na = False, case = False)] = school_name + ' University of Applied Sciences'\n",
    "for school_name in school_names_2:\n",
    "    X['contributor_organization'].loc[X['contributor_organization'].str.contains(school_name, na = False)] = school_names_2[school_name]\n",
    "X.loc[X['contributor_organization'].isnull()] = np.NaN"
   ]
  },
  {
   "cell_type": "markdown",
   "metadata": {},
   "source": [
    "## 2. Data Visualization"
   ]
  },
  {
   "cell_type": "code",
   "execution_count": 9,
   "metadata": {},
   "outputs": [
    {
     "data": {
      "application/vnd.plotly.v1+json": {
       "config": {
        "plotlyServerURL": "https://plot.ly"
       },
       "data": [
        {
         "domain": {
          "x": [
           0,
           0.45
          ],
          "y": [
           0,
           1
          ]
         },
         "insidetextorientation": "radial",
         "labels": [
          "fin",
          "eng",
          "other",
          null
         ],
         "textinfo": "label+percent",
         "type": "pie",
         "values": [
          120006,
          15665,
          5756,
          35326
         ]
        },
        {
         "domain": {
          "x": [
           0.55,
           1
          ],
          "y": [
           0,
           1
          ]
         },
         "insidetextorientation": "radial",
         "labels": [
          2009,
          null,
          2010,
          2011,
          2012,
          2013,
          2014,
          2015,
          2016,
          2017,
          2018,
          2019
         ],
         "textinfo": "label+percent",
         "type": "pie",
         "values": [
          5719,
          35326,
          9887,
          12634,
          14029,
          15340,
          15517,
          16716,
          16339,
          16751,
          17428,
          1067
         ]
        }
       ],
       "layout": {
        "template": {
         "data": {
          "bar": [
           {
            "error_x": {
             "color": "#2a3f5f"
            },
            "error_y": {
             "color": "#2a3f5f"
            },
            "marker": {
             "line": {
              "color": "#E5ECF6",
              "width": 0.5
             }
            },
            "type": "bar"
           }
          ],
          "barpolar": [
           {
            "marker": {
             "line": {
              "color": "#E5ECF6",
              "width": 0.5
             }
            },
            "type": "barpolar"
           }
          ],
          "carpet": [
           {
            "aaxis": {
             "endlinecolor": "#2a3f5f",
             "gridcolor": "white",
             "linecolor": "white",
             "minorgridcolor": "white",
             "startlinecolor": "#2a3f5f"
            },
            "baxis": {
             "endlinecolor": "#2a3f5f",
             "gridcolor": "white",
             "linecolor": "white",
             "minorgridcolor": "white",
             "startlinecolor": "#2a3f5f"
            },
            "type": "carpet"
           }
          ],
          "choropleth": [
           {
            "colorbar": {
             "outlinewidth": 0,
             "ticks": ""
            },
            "type": "choropleth"
           }
          ],
          "contour": [
           {
            "colorbar": {
             "outlinewidth": 0,
             "ticks": ""
            },
            "colorscale": [
             [
              0,
              "#0d0887"
             ],
             [
              0.1111111111111111,
              "#46039f"
             ],
             [
              0.2222222222222222,
              "#7201a8"
             ],
             [
              0.3333333333333333,
              "#9c179e"
             ],
             [
              0.4444444444444444,
              "#bd3786"
             ],
             [
              0.5555555555555556,
              "#d8576b"
             ],
             [
              0.6666666666666666,
              "#ed7953"
             ],
             [
              0.7777777777777778,
              "#fb9f3a"
             ],
             [
              0.8888888888888888,
              "#fdca26"
             ],
             [
              1,
              "#f0f921"
             ]
            ],
            "type": "contour"
           }
          ],
          "contourcarpet": [
           {
            "colorbar": {
             "outlinewidth": 0,
             "ticks": ""
            },
            "type": "contourcarpet"
           }
          ],
          "heatmap": [
           {
            "colorbar": {
             "outlinewidth": 0,
             "ticks": ""
            },
            "colorscale": [
             [
              0,
              "#0d0887"
             ],
             [
              0.1111111111111111,
              "#46039f"
             ],
             [
              0.2222222222222222,
              "#7201a8"
             ],
             [
              0.3333333333333333,
              "#9c179e"
             ],
             [
              0.4444444444444444,
              "#bd3786"
             ],
             [
              0.5555555555555556,
              "#d8576b"
             ],
             [
              0.6666666666666666,
              "#ed7953"
             ],
             [
              0.7777777777777778,
              "#fb9f3a"
             ],
             [
              0.8888888888888888,
              "#fdca26"
             ],
             [
              1,
              "#f0f921"
             ]
            ],
            "type": "heatmap"
           }
          ],
          "heatmapgl": [
           {
            "colorbar": {
             "outlinewidth": 0,
             "ticks": ""
            },
            "colorscale": [
             [
              0,
              "#0d0887"
             ],
             [
              0.1111111111111111,
              "#46039f"
             ],
             [
              0.2222222222222222,
              "#7201a8"
             ],
             [
              0.3333333333333333,
              "#9c179e"
             ],
             [
              0.4444444444444444,
              "#bd3786"
             ],
             [
              0.5555555555555556,
              "#d8576b"
             ],
             [
              0.6666666666666666,
              "#ed7953"
             ],
             [
              0.7777777777777778,
              "#fb9f3a"
             ],
             [
              0.8888888888888888,
              "#fdca26"
             ],
             [
              1,
              "#f0f921"
             ]
            ],
            "type": "heatmapgl"
           }
          ],
          "histogram": [
           {
            "marker": {
             "colorbar": {
              "outlinewidth": 0,
              "ticks": ""
             }
            },
            "type": "histogram"
           }
          ],
          "histogram2d": [
           {
            "colorbar": {
             "outlinewidth": 0,
             "ticks": ""
            },
            "colorscale": [
             [
              0,
              "#0d0887"
             ],
             [
              0.1111111111111111,
              "#46039f"
             ],
             [
              0.2222222222222222,
              "#7201a8"
             ],
             [
              0.3333333333333333,
              "#9c179e"
             ],
             [
              0.4444444444444444,
              "#bd3786"
             ],
             [
              0.5555555555555556,
              "#d8576b"
             ],
             [
              0.6666666666666666,
              "#ed7953"
             ],
             [
              0.7777777777777778,
              "#fb9f3a"
             ],
             [
              0.8888888888888888,
              "#fdca26"
             ],
             [
              1,
              "#f0f921"
             ]
            ],
            "type": "histogram2d"
           }
          ],
          "histogram2dcontour": [
           {
            "colorbar": {
             "outlinewidth": 0,
             "ticks": ""
            },
            "colorscale": [
             [
              0,
              "#0d0887"
             ],
             [
              0.1111111111111111,
              "#46039f"
             ],
             [
              0.2222222222222222,
              "#7201a8"
             ],
             [
              0.3333333333333333,
              "#9c179e"
             ],
             [
              0.4444444444444444,
              "#bd3786"
             ],
             [
              0.5555555555555556,
              "#d8576b"
             ],
             [
              0.6666666666666666,
              "#ed7953"
             ],
             [
              0.7777777777777778,
              "#fb9f3a"
             ],
             [
              0.8888888888888888,
              "#fdca26"
             ],
             [
              1,
              "#f0f921"
             ]
            ],
            "type": "histogram2dcontour"
           }
          ],
          "mesh3d": [
           {
            "colorbar": {
             "outlinewidth": 0,
             "ticks": ""
            },
            "type": "mesh3d"
           }
          ],
          "parcoords": [
           {
            "line": {
             "colorbar": {
              "outlinewidth": 0,
              "ticks": ""
             }
            },
            "type": "parcoords"
           }
          ],
          "pie": [
           {
            "automargin": true,
            "type": "pie"
           }
          ],
          "scatter": [
           {
            "marker": {
             "colorbar": {
              "outlinewidth": 0,
              "ticks": ""
             }
            },
            "type": "scatter"
           }
          ],
          "scatter3d": [
           {
            "line": {
             "colorbar": {
              "outlinewidth": 0,
              "ticks": ""
             }
            },
            "marker": {
             "colorbar": {
              "outlinewidth": 0,
              "ticks": ""
             }
            },
            "type": "scatter3d"
           }
          ],
          "scattercarpet": [
           {
            "marker": {
             "colorbar": {
              "outlinewidth": 0,
              "ticks": ""
             }
            },
            "type": "scattercarpet"
           }
          ],
          "scattergeo": [
           {
            "marker": {
             "colorbar": {
              "outlinewidth": 0,
              "ticks": ""
             }
            },
            "type": "scattergeo"
           }
          ],
          "scattergl": [
           {
            "marker": {
             "colorbar": {
              "outlinewidth": 0,
              "ticks": ""
             }
            },
            "type": "scattergl"
           }
          ],
          "scattermapbox": [
           {
            "marker": {
             "colorbar": {
              "outlinewidth": 0,
              "ticks": ""
             }
            },
            "type": "scattermapbox"
           }
          ],
          "scatterpolar": [
           {
            "marker": {
             "colorbar": {
              "outlinewidth": 0,
              "ticks": ""
             }
            },
            "type": "scatterpolar"
           }
          ],
          "scatterpolargl": [
           {
            "marker": {
             "colorbar": {
              "outlinewidth": 0,
              "ticks": ""
             }
            },
            "type": "scatterpolargl"
           }
          ],
          "scatterternary": [
           {
            "marker": {
             "colorbar": {
              "outlinewidth": 0,
              "ticks": ""
             }
            },
            "type": "scatterternary"
           }
          ],
          "surface": [
           {
            "colorbar": {
             "outlinewidth": 0,
             "ticks": ""
            },
            "colorscale": [
             [
              0,
              "#0d0887"
             ],
             [
              0.1111111111111111,
              "#46039f"
             ],
             [
              0.2222222222222222,
              "#7201a8"
             ],
             [
              0.3333333333333333,
              "#9c179e"
             ],
             [
              0.4444444444444444,
              "#bd3786"
             ],
             [
              0.5555555555555556,
              "#d8576b"
             ],
             [
              0.6666666666666666,
              "#ed7953"
             ],
             [
              0.7777777777777778,
              "#fb9f3a"
             ],
             [
              0.8888888888888888,
              "#fdca26"
             ],
             [
              1,
              "#f0f921"
             ]
            ],
            "type": "surface"
           }
          ],
          "table": [
           {
            "cells": {
             "fill": {
              "color": "#EBF0F8"
             },
             "line": {
              "color": "white"
             }
            },
            "header": {
             "fill": {
              "color": "#C8D4E3"
             },
             "line": {
              "color": "white"
             }
            },
            "type": "table"
           }
          ]
         },
         "layout": {
          "annotationdefaults": {
           "arrowcolor": "#2a3f5f",
           "arrowhead": 0,
           "arrowwidth": 1
          },
          "autotypenumbers": "strict",
          "coloraxis": {
           "colorbar": {
            "outlinewidth": 0,
            "ticks": ""
           }
          },
          "colorscale": {
           "diverging": [
            [
             0,
             "#8e0152"
            ],
            [
             0.1,
             "#c51b7d"
            ],
            [
             0.2,
             "#de77ae"
            ],
            [
             0.3,
             "#f1b6da"
            ],
            [
             0.4,
             "#fde0ef"
            ],
            [
             0.5,
             "#f7f7f7"
            ],
            [
             0.6,
             "#e6f5d0"
            ],
            [
             0.7,
             "#b8e186"
            ],
            [
             0.8,
             "#7fbc41"
            ],
            [
             0.9,
             "#4d9221"
            ],
            [
             1,
             "#276419"
            ]
           ],
           "sequential": [
            [
             0,
             "#0d0887"
            ],
            [
             0.1111111111111111,
             "#46039f"
            ],
            [
             0.2222222222222222,
             "#7201a8"
            ],
            [
             0.3333333333333333,
             "#9c179e"
            ],
            [
             0.4444444444444444,
             "#bd3786"
            ],
            [
             0.5555555555555556,
             "#d8576b"
            ],
            [
             0.6666666666666666,
             "#ed7953"
            ],
            [
             0.7777777777777778,
             "#fb9f3a"
            ],
            [
             0.8888888888888888,
             "#fdca26"
            ],
            [
             1,
             "#f0f921"
            ]
           ],
           "sequentialminus": [
            [
             0,
             "#0d0887"
            ],
            [
             0.1111111111111111,
             "#46039f"
            ],
            [
             0.2222222222222222,
             "#7201a8"
            ],
            [
             0.3333333333333333,
             "#9c179e"
            ],
            [
             0.4444444444444444,
             "#bd3786"
            ],
            [
             0.5555555555555556,
             "#d8576b"
            ],
            [
             0.6666666666666666,
             "#ed7953"
            ],
            [
             0.7777777777777778,
             "#fb9f3a"
            ],
            [
             0.8888888888888888,
             "#fdca26"
            ],
            [
             1,
             "#f0f921"
            ]
           ]
          },
          "colorway": [
           "#636efa",
           "#EF553B",
           "#00cc96",
           "#ab63fa",
           "#FFA15A",
           "#19d3f3",
           "#FF6692",
           "#B6E880",
           "#FF97FF",
           "#FECB52"
          ],
          "font": {
           "color": "#2a3f5f"
          },
          "geo": {
           "bgcolor": "white",
           "lakecolor": "white",
           "landcolor": "#E5ECF6",
           "showlakes": true,
           "showland": true,
           "subunitcolor": "white"
          },
          "hoverlabel": {
           "align": "left"
          },
          "hovermode": "closest",
          "mapbox": {
           "style": "light"
          },
          "paper_bgcolor": "white",
          "plot_bgcolor": "#E5ECF6",
          "polar": {
           "angularaxis": {
            "gridcolor": "white",
            "linecolor": "white",
            "ticks": ""
           },
           "bgcolor": "#E5ECF6",
           "radialaxis": {
            "gridcolor": "white",
            "linecolor": "white",
            "ticks": ""
           }
          },
          "scene": {
           "xaxis": {
            "backgroundcolor": "#E5ECF6",
            "gridcolor": "white",
            "gridwidth": 2,
            "linecolor": "white",
            "showbackground": true,
            "ticks": "",
            "zerolinecolor": "white"
           },
           "yaxis": {
            "backgroundcolor": "#E5ECF6",
            "gridcolor": "white",
            "gridwidth": 2,
            "linecolor": "white",
            "showbackground": true,
            "ticks": "",
            "zerolinecolor": "white"
           },
           "zaxis": {
            "backgroundcolor": "#E5ECF6",
            "gridcolor": "white",
            "gridwidth": 2,
            "linecolor": "white",
            "showbackground": true,
            "ticks": "",
            "zerolinecolor": "white"
           }
          },
          "shapedefaults": {
           "line": {
            "color": "#2a3f5f"
           }
          },
          "ternary": {
           "aaxis": {
            "gridcolor": "white",
            "linecolor": "white",
            "ticks": ""
           },
           "baxis": {
            "gridcolor": "white",
            "linecolor": "white",
            "ticks": ""
           },
           "bgcolor": "#E5ECF6",
           "caxis": {
            "gridcolor": "white",
            "linecolor": "white",
            "ticks": ""
           }
          },
          "title": {
           "x": 0.05
          },
          "xaxis": {
           "automargin": true,
           "gridcolor": "white",
           "linecolor": "white",
           "ticks": "",
           "title": {
            "standoff": 15
           },
           "zerolinecolor": "white",
           "zerolinewidth": 2
          },
          "yaxis": {
           "automargin": true,
           "gridcolor": "white",
           "linecolor": "white",
           "ticks": "",
           "title": {
            "standoff": 15
           },
           "zerolinecolor": "white",
           "zerolinewidth": 2
          }
         }
        }
       }
      },
      "text/html": [
       "<div>                            <div id=\"b53d5d71-93b5-4ff1-98b0-be5cbdff72cb\" class=\"plotly-graph-div\" style=\"height:525px; width:100%;\"></div>            <script type=\"text/javascript\">                require([\"plotly\"], function(Plotly) {                    window.PLOTLYENV=window.PLOTLYENV || {};                                    if (document.getElementById(\"b53d5d71-93b5-4ff1-98b0-be5cbdff72cb\")) {                    Plotly.newPlot(                        \"b53d5d71-93b5-4ff1-98b0-be5cbdff72cb\",                        [{\"domain\": {\"x\": [0.0, 0.45], \"y\": [0.0, 1.0]}, \"insidetextorientation\": \"radial\", \"labels\": [\"fin\", \"eng\", \"other\", null], \"textinfo\": \"label+percent\", \"type\": \"pie\", \"values\": [120006, 15665, 5756, 35326]}, {\"domain\": {\"x\": [0.55, 1.0], \"y\": [0.0, 1.0]}, \"insidetextorientation\": \"radial\", \"labels\": [2009, null, 2010, 2011, 2012, 2013, 2014, 2015, 2016, 2017, 2018, 2019], \"textinfo\": \"label+percent\", \"type\": \"pie\", \"values\": [5719, 35326, 9887, 12634, 14029, 15340, 15517, 16716, 16339, 16751, 17428, 1067]}],                        {\"template\": {\"data\": {\"bar\": [{\"error_x\": {\"color\": \"#2a3f5f\"}, \"error_y\": {\"color\": \"#2a3f5f\"}, \"marker\": {\"line\": {\"color\": \"#E5ECF6\", \"width\": 0.5}}, \"type\": \"bar\"}], \"barpolar\": [{\"marker\": {\"line\": {\"color\": \"#E5ECF6\", \"width\": 0.5}}, \"type\": \"barpolar\"}], \"carpet\": [{\"aaxis\": {\"endlinecolor\": \"#2a3f5f\", \"gridcolor\": \"white\", \"linecolor\": \"white\", \"minorgridcolor\": \"white\", \"startlinecolor\": \"#2a3f5f\"}, \"baxis\": {\"endlinecolor\": \"#2a3f5f\", \"gridcolor\": \"white\", \"linecolor\": \"white\", \"minorgridcolor\": \"white\", \"startlinecolor\": \"#2a3f5f\"}, \"type\": \"carpet\"}], \"choropleth\": [{\"colorbar\": {\"outlinewidth\": 0, \"ticks\": \"\"}, \"type\": \"choropleth\"}], \"contour\": [{\"colorbar\": {\"outlinewidth\": 0, \"ticks\": \"\"}, \"colorscale\": [[0.0, \"#0d0887\"], [0.1111111111111111, \"#46039f\"], [0.2222222222222222, \"#7201a8\"], [0.3333333333333333, \"#9c179e\"], [0.4444444444444444, \"#bd3786\"], [0.5555555555555556, \"#d8576b\"], [0.6666666666666666, \"#ed7953\"], [0.7777777777777778, \"#fb9f3a\"], [0.8888888888888888, \"#fdca26\"], [1.0, \"#f0f921\"]], \"type\": \"contour\"}], \"contourcarpet\": [{\"colorbar\": {\"outlinewidth\": 0, \"ticks\": \"\"}, \"type\": \"contourcarpet\"}], \"heatmap\": [{\"colorbar\": {\"outlinewidth\": 0, \"ticks\": \"\"}, \"colorscale\": [[0.0, \"#0d0887\"], [0.1111111111111111, \"#46039f\"], [0.2222222222222222, \"#7201a8\"], [0.3333333333333333, \"#9c179e\"], [0.4444444444444444, \"#bd3786\"], [0.5555555555555556, \"#d8576b\"], [0.6666666666666666, \"#ed7953\"], [0.7777777777777778, \"#fb9f3a\"], [0.8888888888888888, \"#fdca26\"], [1.0, \"#f0f921\"]], \"type\": \"heatmap\"}], \"heatmapgl\": [{\"colorbar\": {\"outlinewidth\": 0, \"ticks\": \"\"}, \"colorscale\": [[0.0, \"#0d0887\"], [0.1111111111111111, \"#46039f\"], [0.2222222222222222, \"#7201a8\"], [0.3333333333333333, \"#9c179e\"], [0.4444444444444444, \"#bd3786\"], [0.5555555555555556, \"#d8576b\"], [0.6666666666666666, \"#ed7953\"], [0.7777777777777778, \"#fb9f3a\"], [0.8888888888888888, \"#fdca26\"], [1.0, \"#f0f921\"]], \"type\": \"heatmapgl\"}], \"histogram\": [{\"marker\": {\"colorbar\": {\"outlinewidth\": 0, \"ticks\": \"\"}}, \"type\": \"histogram\"}], \"histogram2d\": [{\"colorbar\": {\"outlinewidth\": 0, \"ticks\": \"\"}, \"colorscale\": [[0.0, \"#0d0887\"], [0.1111111111111111, \"#46039f\"], [0.2222222222222222, \"#7201a8\"], [0.3333333333333333, \"#9c179e\"], [0.4444444444444444, \"#bd3786\"], [0.5555555555555556, \"#d8576b\"], [0.6666666666666666, \"#ed7953\"], [0.7777777777777778, \"#fb9f3a\"], [0.8888888888888888, \"#fdca26\"], [1.0, \"#f0f921\"]], \"type\": \"histogram2d\"}], \"histogram2dcontour\": [{\"colorbar\": {\"outlinewidth\": 0, \"ticks\": \"\"}, \"colorscale\": [[0.0, \"#0d0887\"], [0.1111111111111111, \"#46039f\"], [0.2222222222222222, \"#7201a8\"], [0.3333333333333333, \"#9c179e\"], [0.4444444444444444, \"#bd3786\"], [0.5555555555555556, \"#d8576b\"], [0.6666666666666666, \"#ed7953\"], [0.7777777777777778, \"#fb9f3a\"], [0.8888888888888888, \"#fdca26\"], [1.0, \"#f0f921\"]], \"type\": \"histogram2dcontour\"}], \"mesh3d\": [{\"colorbar\": {\"outlinewidth\": 0, \"ticks\": \"\"}, \"type\": \"mesh3d\"}], \"parcoords\": [{\"line\": {\"colorbar\": {\"outlinewidth\": 0, \"ticks\": \"\"}}, \"type\": \"parcoords\"}], \"pie\": [{\"automargin\": true, \"type\": \"pie\"}], \"scatter\": [{\"marker\": {\"colorbar\": {\"outlinewidth\": 0, \"ticks\": \"\"}}, \"type\": \"scatter\"}], \"scatter3d\": [{\"line\": {\"colorbar\": {\"outlinewidth\": 0, \"ticks\": \"\"}}, \"marker\": {\"colorbar\": {\"outlinewidth\": 0, \"ticks\": \"\"}}, \"type\": \"scatter3d\"}], \"scattercarpet\": [{\"marker\": {\"colorbar\": {\"outlinewidth\": 0, \"ticks\": \"\"}}, \"type\": \"scattercarpet\"}], \"scattergeo\": [{\"marker\": {\"colorbar\": {\"outlinewidth\": 0, \"ticks\": \"\"}}, \"type\": \"scattergeo\"}], \"scattergl\": [{\"marker\": {\"colorbar\": {\"outlinewidth\": 0, \"ticks\": \"\"}}, \"type\": \"scattergl\"}], \"scattermapbox\": [{\"marker\": {\"colorbar\": {\"outlinewidth\": 0, \"ticks\": \"\"}}, \"type\": \"scattermapbox\"}], \"scatterpolar\": [{\"marker\": {\"colorbar\": {\"outlinewidth\": 0, \"ticks\": \"\"}}, \"type\": \"scatterpolar\"}], \"scatterpolargl\": [{\"marker\": {\"colorbar\": {\"outlinewidth\": 0, \"ticks\": \"\"}}, \"type\": \"scatterpolargl\"}], \"scatterternary\": [{\"marker\": {\"colorbar\": {\"outlinewidth\": 0, \"ticks\": \"\"}}, \"type\": \"scatterternary\"}], \"surface\": [{\"colorbar\": {\"outlinewidth\": 0, \"ticks\": \"\"}, \"colorscale\": [[0.0, \"#0d0887\"], [0.1111111111111111, \"#46039f\"], [0.2222222222222222, \"#7201a8\"], [0.3333333333333333, \"#9c179e\"], [0.4444444444444444, \"#bd3786\"], [0.5555555555555556, \"#d8576b\"], [0.6666666666666666, \"#ed7953\"], [0.7777777777777778, \"#fb9f3a\"], [0.8888888888888888, \"#fdca26\"], [1.0, \"#f0f921\"]], \"type\": \"surface\"}], \"table\": [{\"cells\": {\"fill\": {\"color\": \"#EBF0F8\"}, \"line\": {\"color\": \"white\"}}, \"header\": {\"fill\": {\"color\": \"#C8D4E3\"}, \"line\": {\"color\": \"white\"}}, \"type\": \"table\"}]}, \"layout\": {\"annotationdefaults\": {\"arrowcolor\": \"#2a3f5f\", \"arrowhead\": 0, \"arrowwidth\": 1}, \"autotypenumbers\": \"strict\", \"coloraxis\": {\"colorbar\": {\"outlinewidth\": 0, \"ticks\": \"\"}}, \"colorscale\": {\"diverging\": [[0, \"#8e0152\"], [0.1, \"#c51b7d\"], [0.2, \"#de77ae\"], [0.3, \"#f1b6da\"], [0.4, \"#fde0ef\"], [0.5, \"#f7f7f7\"], [0.6, \"#e6f5d0\"], [0.7, \"#b8e186\"], [0.8, \"#7fbc41\"], [0.9, \"#4d9221\"], [1, \"#276419\"]], \"sequential\": [[0.0, \"#0d0887\"], [0.1111111111111111, \"#46039f\"], [0.2222222222222222, \"#7201a8\"], [0.3333333333333333, \"#9c179e\"], [0.4444444444444444, \"#bd3786\"], [0.5555555555555556, \"#d8576b\"], [0.6666666666666666, \"#ed7953\"], [0.7777777777777778, \"#fb9f3a\"], [0.8888888888888888, \"#fdca26\"], [1.0, \"#f0f921\"]], \"sequentialminus\": [[0.0, \"#0d0887\"], [0.1111111111111111, \"#46039f\"], [0.2222222222222222, \"#7201a8\"], [0.3333333333333333, \"#9c179e\"], [0.4444444444444444, \"#bd3786\"], [0.5555555555555556, \"#d8576b\"], [0.6666666666666666, \"#ed7953\"], [0.7777777777777778, \"#fb9f3a\"], [0.8888888888888888, \"#fdca26\"], [1.0, \"#f0f921\"]]}, \"colorway\": [\"#636efa\", \"#EF553B\", \"#00cc96\", \"#ab63fa\", \"#FFA15A\", \"#19d3f3\", \"#FF6692\", \"#B6E880\", \"#FF97FF\", \"#FECB52\"], \"font\": {\"color\": \"#2a3f5f\"}, \"geo\": {\"bgcolor\": \"white\", \"lakecolor\": \"white\", \"landcolor\": \"#E5ECF6\", \"showlakes\": true, \"showland\": true, \"subunitcolor\": \"white\"}, \"hoverlabel\": {\"align\": \"left\"}, \"hovermode\": \"closest\", \"mapbox\": {\"style\": \"light\"}, \"paper_bgcolor\": \"white\", \"plot_bgcolor\": \"#E5ECF6\", \"polar\": {\"angularaxis\": {\"gridcolor\": \"white\", \"linecolor\": \"white\", \"ticks\": \"\"}, \"bgcolor\": \"#E5ECF6\", \"radialaxis\": {\"gridcolor\": \"white\", \"linecolor\": \"white\", \"ticks\": \"\"}}, \"scene\": {\"xaxis\": {\"backgroundcolor\": \"#E5ECF6\", \"gridcolor\": \"white\", \"gridwidth\": 2, \"linecolor\": \"white\", \"showbackground\": true, \"ticks\": \"\", \"zerolinecolor\": \"white\"}, \"yaxis\": {\"backgroundcolor\": \"#E5ECF6\", \"gridcolor\": \"white\", \"gridwidth\": 2, \"linecolor\": \"white\", \"showbackground\": true, \"ticks\": \"\", \"zerolinecolor\": \"white\"}, \"zaxis\": {\"backgroundcolor\": \"#E5ECF6\", \"gridcolor\": \"white\", \"gridwidth\": 2, \"linecolor\": \"white\", \"showbackground\": true, \"ticks\": \"\", \"zerolinecolor\": \"white\"}}, \"shapedefaults\": {\"line\": {\"color\": \"#2a3f5f\"}}, \"ternary\": {\"aaxis\": {\"gridcolor\": \"white\", \"linecolor\": \"white\", \"ticks\": \"\"}, \"baxis\": {\"gridcolor\": \"white\", \"linecolor\": \"white\", \"ticks\": \"\"}, \"bgcolor\": \"#E5ECF6\", \"caxis\": {\"gridcolor\": \"white\", \"linecolor\": \"white\", \"ticks\": \"\"}}, \"title\": {\"x\": 0.05}, \"xaxis\": {\"automargin\": true, \"gridcolor\": \"white\", \"linecolor\": \"white\", \"ticks\": \"\", \"title\": {\"standoff\": 15}, \"zerolinecolor\": \"white\", \"zerolinewidth\": 2}, \"yaxis\": {\"automargin\": true, \"gridcolor\": \"white\", \"linecolor\": \"white\", \"ticks\": \"\", \"title\": {\"standoff\": 15}, \"zerolinecolor\": \"white\", \"zerolinewidth\": 2}}}},                        {\"responsive\": true}                    ).then(function(){\n",
       "                            \n",
       "var gd = document.getElementById('b53d5d71-93b5-4ff1-98b0-be5cbdff72cb');\n",
       "var x = new MutationObserver(function (mutations, observer) {{\n",
       "        var display = window.getComputedStyle(gd).display;\n",
       "        if (!display || display === 'none') {{\n",
       "            console.log([gd, 'removed!']);\n",
       "            Plotly.purge(gd);\n",
       "            observer.disconnect();\n",
       "        }}\n",
       "}});\n",
       "\n",
       "// Listen for the removal of the full notebook cells\n",
       "var notebookContainer = gd.closest('#notebook-container');\n",
       "if (notebookContainer) {{\n",
       "    x.observe(notebookContainer, {childList: true});\n",
       "}}\n",
       "\n",
       "// Listen for the clearing of the current output cell\n",
       "var outputEl = gd.closest('.output');\n",
       "if (outputEl) {{\n",
       "    x.observe(outputEl, {childList: true});\n",
       "}}\n",
       "\n",
       "                        })                };                });            </script>        </div>"
      ]
     },
     "metadata": {},
     "output_type": "display_data"
    }
   ],
   "source": [
    "fig = make_subplots(rows = 1, cols = 2,\n",
    "                    specs = [[{\"type\": \"domain\"}, {\"type\": \"domain\"}]])\n",
    "\n",
    "fig.add_trace(go.Pie(labels = list(Counter(X['language']).keys()), \n",
    "                     values = list(Counter(X['language']).values()),\n",
    "                     textinfo = 'label+percent', insidetextorientation = 'radial'),\n",
    "              row = 1, col = 1)\n",
    "\n",
    "fig.add_trace(go.Pie(labels = list(Counter(X['date']).keys()), \n",
    "                     values = list(Counter(X['date']).values()),\n",
    "                     textinfo = 'label+percent', insidetextorientation = 'radial'),\n",
    "              row = 1, col = 2)\n",
    "\n",
    "fig.show()"
   ]
  },
  {
   "cell_type": "markdown",
   "metadata": {},
   "source": [
    "## 3. Extract the abstract and keywords"
   ]
  },
  {
   "cell_type": "code",
   "execution_count": 10,
   "metadata": {},
   "outputs": [
    {
     "name": "stdout",
     "output_type": "stream",
     "text": [
      "Number of sample from Finnish dataset: 119006\n",
      "Number of sample from English dataset:  11125\n"
     ]
    }
   ],
   "source": [
    "#Prepare the Finnish data\n",
    "fin_data = X[['date', 'abstract_fi', 'title', 'annif_keywords_fi']].loc[\n",
    "            X['language'].str.contains('fin', na = False)].copy()\n",
    "fin_data.dropna(inplace = True)\n",
    "print('Number of sample from Finnish dataset:', len(fin_data))\n",
    "\n",
    "#Prepare the English data\n",
    "eng_data = X[['date', 'abstract_en', 'title', 'annif_keywords_en']].loc[\n",
    "            X['language'].str.contains('eng', na = False)].copy()\n",
    "eng_data.dropna(inplace = True)\n",
    "print('Number of sample from English dataset: ', len(eng_data))\n",
    "\n",
    "fin_data.to_csv('fin_theseus_abstract.csv', index = False, header = True)\n",
    "eng_data.to_csv('eng_theseus_abstract.csv', index = False, header = True)"
   ]
  },
  {
   "cell_type": "code",
   "execution_count": 11,
   "metadata": {},
   "outputs": [],
   "source": [
    "eng_data_2 = X[['date', 'abstract_en', 'contributor_organization']].loc[\n",
    "             X['language'].str.contains('eng', na = False)].copy()\n",
    "eng_data_2.dropna(inplace = True)\n",
    "eng_data_2 = eng_data_2[eng_data_2['abstract_en'].str.len() > 1]\n",
    "eng_data_2 = eng_data_2[eng_data_2['abstract_en'].map(detect) == 'en']\n",
    "eng_data_2.to_csv('eng_theseus_abstract.csv', index = False, header = True)"
   ]
  }
 ],
 "metadata": {
  "kernelspec": {
   "display_name": "Python 3",
   "language": "python",
   "name": "python3"
  },
  "language_info": {
   "codemirror_mode": {
    "name": "ipython",
    "version": 3
   },
   "file_extension": ".py",
   "mimetype": "text/x-python",
   "name": "python",
   "nbconvert_exporter": "python",
   "pygments_lexer": "ipython3",
   "version": "3.8.5"
  }
 },
 "nbformat": 4,
 "nbformat_minor": 4
}
