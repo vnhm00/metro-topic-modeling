{
 "cells": [
  {
   "cell_type": "markdown",
   "metadata": {},
   "source": [
    "# LDA Model - Added New Metrics \n",
    "Update: 04.05.2021<br>\n",
    "Mai Vu"
   ]
  },
  {
   "cell_type": "code",
   "execution_count": 3,
   "metadata": {},
   "outputs": [
    {
     "data": {
      "text/html": [
       "        <script type=\"text/javascript\">\n",
       "        window.PlotlyConfig = {MathJaxConfig: 'local'};\n",
       "        if (window.MathJax) {MathJax.Hub.Config({SVG: {font: \"STIX-Web\"}});}\n",
       "        if (typeof require !== 'undefined') {\n",
       "        require.undef(\"plotly\");\n",
       "        requirejs.config({\n",
       "            paths: {\n",
       "                'plotly': ['https://cdn.plot.ly/plotly-latest.min']\n",
       "            }\n",
       "        });\n",
       "        require(['plotly'], function(Plotly) {\n",
       "            window._Plotly = Plotly;\n",
       "        });\n",
       "        }\n",
       "        </script>\n",
       "        "
      ]
     },
     "metadata": {},
     "output_type": "display_data"
    },
    {
     "data": {
      "text/html": [
       "        <script type=\"text/javascript\">\n",
       "        window.PlotlyConfig = {MathJaxConfig: 'local'};\n",
       "        if (window.MathJax) {MathJax.Hub.Config({SVG: {font: \"STIX-Web\"}});}\n",
       "        if (typeof require !== 'undefined') {\n",
       "        require.undef(\"plotly\");\n",
       "        requirejs.config({\n",
       "            paths: {\n",
       "                'plotly': ['https://cdn.plot.ly/plotly-latest.min']\n",
       "            }\n",
       "        });\n",
       "        require(['plotly'], function(Plotly) {\n",
       "            window._Plotly = Plotly;\n",
       "        });\n",
       "        }\n",
       "        </script>\n",
       "        "
      ]
     },
     "metadata": {},
     "output_type": "display_data"
    }
   ],
   "source": [
    "#Basic libraries\n",
    "import random\n",
    "import time\n",
    "import math\n",
    "import pandas as pd\n",
    "import numpy as np\n",
    "import matplotlib.pyplot as plt\n",
    "import matplotlib.gridspec as gridspec\n",
    "import numpy as np\n",
    "from collections import defaultdict\n",
    "\n",
    "import warnings\n",
    "warnings.filterwarnings(\"ignore\", category = DeprecationWarning)\n",
    "\n",
    "#Libraries for lemmatization\n",
    "import nltk\n",
    "import re\n",
    "from nltk.corpus import stopwords\n",
    "from nltk.stem import WordNetLemmatizer\n",
    "\n",
    "#Libraries for (dynamic) topic modeling\n",
    "import gensim\n",
    "from gensim import corpora\n",
    "import pprint\n",
    "from gensim.models import CoherenceModel\n",
    "from gensim.models.ldamodel import LdaModel\n",
    "from gensim.models import ldaseqmodel\n",
    "from gensim.test.utils import datapath\n",
    "\n",
    "#For plotting\n",
    "import pyLDAvis\n",
    "import pyLDAvis.gensim_models as gensimvis\n",
    "pyLDAvis.enable_notebook()\n",
    "import plotly.graph_objs as go\n",
    "import plotly.express as ex\n",
    "from plotly.offline import iplot, init_notebook_mode\n",
    "import cufflinks\n",
    "cufflinks.go_offline(connected = True)\n",
    "init_notebook_mode(connected = True)"
   ]
  },
  {
   "cell_type": "markdown",
   "metadata": {},
   "source": [
    "# 1. Init steps"
   ]
  },
  {
   "cell_type": "code",
   "execution_count": 4,
   "metadata": {},
   "outputs": [],
   "source": [
    "#Read the data\n",
    "eng_data = pd.read_csv('eng_abstracts_full.csv')"
   ]
  },
  {
   "cell_type": "code",
   "execution_count": 5,
   "metadata": {},
   "outputs": [],
   "source": [
    "#Create eng_stopwords set and lemmatizer from NLTK library\n",
    "eng_stopwords = set(stopwords.words('english')).union(gensim.parsing.preprocessing.STOPWORDS)\n",
    "lemmatizer = WordNetLemmatizer()"
   ]
  },
  {
   "cell_type": "code",
   "execution_count": 6,
   "metadata": {},
   "outputs": [],
   "source": [
    "def CalculateCoherenceRange(texts, bow, dictionary, start = 1, end = 20):\n",
    "    \"\"\"Function to calculate the coherence scores of different LDA models with the number of topics in the given range.\n",
    "    Abstracts are divided into smaller subsets so that the coherence curve will be smoother.\n",
    "    \n",
    "    Args:\n",
    "        (list) texts: abstracts in text.\n",
    "        (list) bow: bag of words of abstracts.\n",
    "        (Dictionary) dictionary: a mapping between words in texts and their integer ids.\n",
    "        (integers) start, end: number of topics' range.\n",
    "\n",
    "    Returns:\n",
    "        (lists) u_mass, c_v, c_uci, c_npmi: coherence scores of different LDA models with the number of topics in the given range.\n",
    "    \"\"\"\n",
    "    u_mass = []\n",
    "    c_v = []\n",
    "    c_uci = []\n",
    "    c_npmi = []\n",
    "    n = len(bow)\n",
    "    \n",
    "    for num_topic in range(start, end + 1):\n",
    "        np.random.seed(111)\n",
    "        u_mass_temp = []\n",
    "        c_v_temp = []\n",
    "        c_uci_temp = []\n",
    "        c_npmi_temp = []\n",
    "        \n",
    "        for i in range(10):\n",
    "            index = np.random.choice(n, int(0.80 * n))\n",
    "            t = [texts[x] for x in index]\n",
    "            c = [bow[x] for x in index]\n",
    "            LDA_model = LdaModel(c, num_topics = num_topic, id2word = dictionary, passes = 10, random_state = 111)\n",
    "            \n",
    "            #u_mass\n",
    "            temp = CoherenceModel(model = LDA_model, texts = t, corpus = c, dictionary = dictionary, coherence = 'u_mass')\n",
    "            u_mass_temp.append(temp.get_coherence())\n",
    "            #c_v\n",
    "            temp = CoherenceModel(model = LDA_model, texts = t, corpus = c, dictionary = dictionary, coherence = 'c_v')\n",
    "            c_v_temp.append(temp.get_coherence())\n",
    "            #c_uci\n",
    "            temp = CoherenceModel(model = LDA_model, texts = t, corpus = c, dictionary = dictionary, coherence = 'c_uci')\n",
    "            c_uci_temp.append(temp.get_coherence())\n",
    "            #c_npmi\n",
    "            temp = CoherenceModel(model = LDA_model, texts = t, corpus = c, dictionary = dictionary, coherence = 'c_npmi')\n",
    "            c_npmi_temp.append(temp.get_coherence())\n",
    "            \n",
    "        u_mass.append(np.mean(u_mass_temp))\n",
    "        c_v.append(np.mean(c_v_temp))\n",
    "        c_uci.append(np.mean(c_uci_temp))\n",
    "        c_npmi.append(np.mean(c_npmi_temp))\n",
    "        print('.', end = \" \")\n",
    "        \n",
    "    print()\n",
    "    return u_mass, c_v, c_uci, c_npmi"
   ]
  },
  {
   "cell_type": "code",
   "execution_count": 7,
   "metadata": {},
   "outputs": [],
   "source": [
    "def CalculateCoherence(LDA_model, texts, bow, dictionary):\n",
    "    \"\"\"Function to calculate the coherence scores of a LDA model.\n",
    "    \n",
    "    Args:\n",
    "        (LdaModel) LDA_model: the given LDA model.\n",
    "        (list) texts: abstracts in text.\n",
    "        (list) bow: bag of words of abstracts.\n",
    "        (Dictionary) dictionary: a mapping between words in texts and their integer ids.\n",
    "\n",
    "    Returns:\n",
    "        (floats) u_mass, c_v, c_uci, c_npmi: coherence scores of the given LDA model.\n",
    "    \"\"\"\n",
    "    #u_mass\n",
    "    temp = CoherenceModel(model = LDA_model, texts = texts, corpus = bow, dictionary = dictionary, coherence = 'u_mass')\n",
    "    u_mass = temp.get_coherence()\n",
    "    #c_v\n",
    "    temp = CoherenceModel(model = LDA_model, texts = texts, corpus = bow, dictionary = dictionary, coherence = 'c_v')\n",
    "    c_v = temp.get_coherence()\n",
    "    #c_uci\n",
    "    temp = CoherenceModel(model = LDA_model, texts = texts, corpus = bow, dictionary = dictionary, coherence = 'c_uci')\n",
    "    c_uci = temp.get_coherence()\n",
    "    #c_npmi\n",
    "    temp = CoherenceModel(model = LDA_model, texts = texts, corpus = bow, dictionary = dictionary, coherence = 'c_npmi')\n",
    "    c_npmi = temp.get_coherence()\n",
    "\n",
    "    return u_mass, c_v, c_uci, c_npmi"
   ]
  },
  {
   "cell_type": "code",
   "execution_count": 8,
   "metadata": {},
   "outputs": [],
   "source": [
    "def PlotKeywords(LDA_model, num_topic, num_word = 8):\n",
    "    \"\"\"Function to plot important keywords.\n",
    "    \n",
    "    Args:\n",
    "        (LdaModel) LDA_model: the given LDA model.\n",
    "        (integer) num_topic: number of topics of the model.\n",
    "        (integer) num_word: number of words to plot.\n",
    "\n",
    "    Returns:\n",
    "        None.\n",
    "    \"\"\"\n",
    "    keywords = [[word for word, _ in LDA_model.show_topic(topicid, topn = 20)] for topicid in range(LDA_model.num_topics)]\n",
    "    keywords_prob = [[beta for _, beta in LDA_model.show_topic(topicid, topn = 20)] for topicid in range(LDA_model.num_topics)]\n",
    "\n",
    "    gs = gridspec.GridSpec(round(math.sqrt(num_topic)) + 1, round(math.sqrt(num_topic)) + 1)\n",
    "    gs.update(wspace = 0.5, hspace = 0.5)\n",
    "    plt.figure(figsize = (20, 15))\n",
    "    for i in range(num_topic):\n",
    "        ax = plt.subplot(gs[i])\n",
    "        plt.barh(range(num_word), keywords_prob[i][:num_word])\n",
    "        ax.invert_yaxis()\n",
    "        ax.set_yticks(range(num_word))\n",
    "        ax.set_yticklabels(keywords[i][:num_word])\n",
    "        plt.grid()\n",
    "        plt.title(\"Topic \" + str(i + 1))"
   ]
  },
  {
   "cell_type": "code",
   "execution_count": 9,
   "metadata": {},
   "outputs": [],
   "source": [
    "def PlotCoherenceScores(u_mass, c_v, c_uci, c_npmi):\n",
    "    \"\"\"Function to plot coherence scores using Plotly.\n",
    "    \n",
    "    Args:\n",
    "        (lists) u_mass, c_v, c_uci, c_npmi: coherence scores of different LDA models with the number of topics.\n",
    "\n",
    "    Returns:\n",
    "        None.\n",
    "    \"\"\"\n",
    "    fig = go.Figure()\n",
    "    fig.add_trace(go.Scatter(x = list(range(1, len(u_mass) + 1)), y = u_mass, mode = 'lines + markers', name = 'u_mass'))\n",
    "    fig.add_trace(go.Scatter(x = list(range(1, len(c_v) + 1)), y = c_v, mode = 'lines + markers', name = 'c_v'))\n",
    "    fig.add_trace(go.Scatter(x = list(range(1, len(c_uci) + 1)), y = c_uci, mode = 'lines + markers', name = 'c_uci'))\n",
    "    fig.add_trace(go.Scatter(x = list(range(1, len(c_npmi) + 1)), y = c_npmi, mode = 'lines + markers', name = 'c_npmi'))\n",
    "    fig.update_layout(title = 'Plot Coherence Scores', xaxis_title = 'Number of topics', legend_title = 'Metrics', xaxis_dtick = 1)\n",
    "    fig.show()"
   ]
  },
  {
   "cell_type": "markdown",
   "metadata": {},
   "source": [
    "# 2. LDA Model"
   ]
  },
  {
   "cell_type": "code",
   "execution_count": 10,
   "metadata": {},
   "outputs": [
    {
     "name": "stdout",
     "output_type": "stream",
     "text": [
      "- Finish preprocessing data (all words) in 1 min(s)\n"
     ]
    }
   ],
   "source": [
    "start_time = time.time() #Start count time\n",
    "\n",
    "#Tokenization and delete punctuation, number, short words and stop words\n",
    "allwords_abstracts = []\n",
    "for abstract in eng_data['abstract_en']:\n",
    "    tokens = []\n",
    "    for token in nltk.word_tokenize(abstract):\n",
    "        if token.upper() == token and token.isalpha() and len(token) > 1:\n",
    "            tokens.append(token)\n",
    "        else:\n",
    "            token = token.lower()\n",
    "            if token.isalpha() and token not in eng_stopwords and len(token) > 3:\n",
    "                tokens.append(lemmatizer.lemmatize(token))\n",
    "    allwords_abstracts.append(tokens)\n",
    "\n",
    "print('- Finish preprocessing data (all words) in', round((time.time() - start_time)/60), 'min(s)')"
   ]
  },
  {
   "cell_type": "code",
   "execution_count": 11,
   "metadata": {},
   "outputs": [],
   "source": [
    "# Build the bigram\n",
    "bigram = gensim.models.Phrases(allwords_abstracts, min_count = 10, threshold = 10)"
   ]
  },
  {
   "cell_type": "code",
   "execution_count": 12,
   "metadata": {},
   "outputs": [],
   "source": [
    "for idx in range(len(allwords_abstracts)):\n",
    "    allwords_abstracts[idx] = bigram[allwords_abstracts[idx]]"
   ]
  },
  {
   "cell_type": "code",
   "execution_count": 13,
   "metadata": {},
   "outputs": [
    {
     "name": "stdout",
     "output_type": "stream",
     "text": [
      "Dictionary(7504 unique tokens: ['activity', 'actual', 'analyse_current', 'area', 'book']...)\n"
     ]
    }
   ],
   "source": [
    "#Create dictionary for the given texts\n",
    "allwords_dictionary = corpora.Dictionary(allwords_abstracts)\n",
    "allwords_dictionary.filter_extremes(no_below = 10, no_above = 0.25) #Filter words that appear less than 10 documents and more than 25% of all documents\n",
    "print(allwords_dictionary)\n",
    "\n",
    "#Create the bag of words for all documents\n",
    "allwords_bow = [allwords_dictionary.doc2bow(abstract) for abstract in allwords_abstracts]"
   ]
  },
  {
   "cell_type": "markdown",
   "metadata": {},
   "source": [
    "## 2.1 Choose the number of topics"
   ]
  },
  {
   "cell_type": "code",
   "execution_count": 14,
   "metadata": {},
   "outputs": [
    {
     "name": "stdout",
     "output_type": "stream",
     "text": [
      ". . . . . . . . . . . . . . . . . . . . \n",
      "- Finish in 402 min(s)\n"
     ]
    },
    {
     "data": {
      "application/vnd.plotly.v1+json": {
       "config": {
        "plotlyServerURL": "https://plot.ly"
       },
       "data": [
        {
         "mode": "lines+markers",
         "name": "u_mass",
         "type": "scatter",
         "x": [
          1,
          2,
          3,
          4,
          5,
          6,
          7,
          8,
          9,
          10,
          11,
          12,
          13,
          14,
          15,
          16,
          17,
          18,
          19,
          20
         ],
         "y": [
          -1.6735201537799784,
          -1.8959606916565146,
          -1.9283107722711734,
          -2.2358875122024164,
          -2.18877046411503,
          -2.2451481882427546,
          -2.300103904791342,
          -2.354046235421775,
          -2.439439459355783,
          -2.5633476800875776,
          -2.721206125705555,
          -2.7992018550843953,
          -2.7630619742834144,
          -2.8398290869422316,
          -2.906684579099113,
          -2.9959338263834567,
          -2.841784897833569,
          -3.0366382353895536,
          -3.088031161100776,
          -3.2051776530447484
         ]
        },
        {
         "mode": "lines+markers",
         "name": "c_v",
         "type": "scatter",
         "x": [
          1,
          2,
          3,
          4,
          5,
          6,
          7,
          8,
          9,
          10,
          11,
          12,
          13,
          14,
          15,
          16,
          17,
          18,
          19,
          20
         ],
         "y": [
          0.2982740494336297,
          0.3677378430414645,
          0.37816219413444907,
          0.3691361758461116,
          0.38740821711267676,
          0.3989946340228238,
          0.41075086992956866,
          0.40849346512909757,
          0.417041175784025,
          0.4095322489409588,
          0.4122455536301379,
          0.4130825236358963,
          0.4165161856455241,
          0.41692847526423266,
          0.4110154022029218,
          0.4210587067065692,
          0.4204826112938481,
          0.41521854234439165,
          0.4135219158078286,
          0.41607537065968003
         ]
        },
        {
         "mode": "lines+markers",
         "name": "c_uci",
         "type": "scatter",
         "x": [
          1,
          2,
          3,
          4,
          5,
          6,
          7,
          8,
          9,
          10,
          11,
          12,
          13,
          14,
          15,
          16,
          17,
          18,
          19,
          20
         ],
         "y": [
          -0.17740927018690172,
          -0.042160729234924525,
          0.011035599877818544,
          -0.21813136109765247,
          -0.1402686854277721,
          -0.09429219402488245,
          -0.1453151267330504,
          -0.19584008216456414,
          -0.26692600710380654,
          -0.352670518840212,
          -0.46192753289266963,
          -0.5198055357019007,
          -0.4811684785978775,
          -0.598869597478409,
          -0.6558512377275078,
          -0.7304972920268665,
          -0.5755627053210546,
          -0.7773278118003166,
          -0.8470128043675986,
          -0.9263294789407268
         ]
        },
        {
         "mode": "lines+markers",
         "name": "c_npmi",
         "type": "scatter",
         "x": [
          1,
          2,
          3,
          4,
          5,
          6,
          7,
          8,
          9,
          10,
          11,
          12,
          13,
          14,
          15,
          16,
          17,
          18,
          19,
          20
         ],
         "y": [
          -0.01836936697719002,
          0.003677855542526055,
          0.008106727261302193,
          0.0033449970884424514,
          0.008508225845022362,
          0.013443729180410027,
          0.014582090632155898,
          0.012584915737352282,
          0.012659651313857604,
          0.00970143732775686,
          0.006622211317040339,
          0.005425576378465444,
          0.007964279125030362,
          0.004781181398515627,
          0.002396900344418554,
          5.143796466485703e-05,
          0.0065465026870238545,
          -0.0006052281297844135,
          -0.004077357004288163,
          -0.005595626074186203
         ]
        }
       ],
       "layout": {
        "legend": {
         "title": {
          "text": "Metrics"
         }
        },
        "template": {
         "data": {
          "bar": [
           {
            "error_x": {
             "color": "#2a3f5f"
            },
            "error_y": {
             "color": "#2a3f5f"
            },
            "marker": {
             "line": {
              "color": "#E5ECF6",
              "width": 0.5
             }
            },
            "type": "bar"
           }
          ],
          "barpolar": [
           {
            "marker": {
             "line": {
              "color": "#E5ECF6",
              "width": 0.5
             }
            },
            "type": "barpolar"
           }
          ],
          "carpet": [
           {
            "aaxis": {
             "endlinecolor": "#2a3f5f",
             "gridcolor": "white",
             "linecolor": "white",
             "minorgridcolor": "white",
             "startlinecolor": "#2a3f5f"
            },
            "baxis": {
             "endlinecolor": "#2a3f5f",
             "gridcolor": "white",
             "linecolor": "white",
             "minorgridcolor": "white",
             "startlinecolor": "#2a3f5f"
            },
            "type": "carpet"
           }
          ],
          "choropleth": [
           {
            "colorbar": {
             "outlinewidth": 0,
             "ticks": ""
            },
            "type": "choropleth"
           }
          ],
          "contour": [
           {
            "colorbar": {
             "outlinewidth": 0,
             "ticks": ""
            },
            "colorscale": [
             [
              0,
              "#0d0887"
             ],
             [
              0.1111111111111111,
              "#46039f"
             ],
             [
              0.2222222222222222,
              "#7201a8"
             ],
             [
              0.3333333333333333,
              "#9c179e"
             ],
             [
              0.4444444444444444,
              "#bd3786"
             ],
             [
              0.5555555555555556,
              "#d8576b"
             ],
             [
              0.6666666666666666,
              "#ed7953"
             ],
             [
              0.7777777777777778,
              "#fb9f3a"
             ],
             [
              0.8888888888888888,
              "#fdca26"
             ],
             [
              1,
              "#f0f921"
             ]
            ],
            "type": "contour"
           }
          ],
          "contourcarpet": [
           {
            "colorbar": {
             "outlinewidth": 0,
             "ticks": ""
            },
            "type": "contourcarpet"
           }
          ],
          "heatmap": [
           {
            "colorbar": {
             "outlinewidth": 0,
             "ticks": ""
            },
            "colorscale": [
             [
              0,
              "#0d0887"
             ],
             [
              0.1111111111111111,
              "#46039f"
             ],
             [
              0.2222222222222222,
              "#7201a8"
             ],
             [
              0.3333333333333333,
              "#9c179e"
             ],
             [
              0.4444444444444444,
              "#bd3786"
             ],
             [
              0.5555555555555556,
              "#d8576b"
             ],
             [
              0.6666666666666666,
              "#ed7953"
             ],
             [
              0.7777777777777778,
              "#fb9f3a"
             ],
             [
              0.8888888888888888,
              "#fdca26"
             ],
             [
              1,
              "#f0f921"
             ]
            ],
            "type": "heatmap"
           }
          ],
          "heatmapgl": [
           {
            "colorbar": {
             "outlinewidth": 0,
             "ticks": ""
            },
            "colorscale": [
             [
              0,
              "#0d0887"
             ],
             [
              0.1111111111111111,
              "#46039f"
             ],
             [
              0.2222222222222222,
              "#7201a8"
             ],
             [
              0.3333333333333333,
              "#9c179e"
             ],
             [
              0.4444444444444444,
              "#bd3786"
             ],
             [
              0.5555555555555556,
              "#d8576b"
             ],
             [
              0.6666666666666666,
              "#ed7953"
             ],
             [
              0.7777777777777778,
              "#fb9f3a"
             ],
             [
              0.8888888888888888,
              "#fdca26"
             ],
             [
              1,
              "#f0f921"
             ]
            ],
            "type": "heatmapgl"
           }
          ],
          "histogram": [
           {
            "marker": {
             "colorbar": {
              "outlinewidth": 0,
              "ticks": ""
             }
            },
            "type": "histogram"
           }
          ],
          "histogram2d": [
           {
            "colorbar": {
             "outlinewidth": 0,
             "ticks": ""
            },
            "colorscale": [
             [
              0,
              "#0d0887"
             ],
             [
              0.1111111111111111,
              "#46039f"
             ],
             [
              0.2222222222222222,
              "#7201a8"
             ],
             [
              0.3333333333333333,
              "#9c179e"
             ],
             [
              0.4444444444444444,
              "#bd3786"
             ],
             [
              0.5555555555555556,
              "#d8576b"
             ],
             [
              0.6666666666666666,
              "#ed7953"
             ],
             [
              0.7777777777777778,
              "#fb9f3a"
             ],
             [
              0.8888888888888888,
              "#fdca26"
             ],
             [
              1,
              "#f0f921"
             ]
            ],
            "type": "histogram2d"
           }
          ],
          "histogram2dcontour": [
           {
            "colorbar": {
             "outlinewidth": 0,
             "ticks": ""
            },
            "colorscale": [
             [
              0,
              "#0d0887"
             ],
             [
              0.1111111111111111,
              "#46039f"
             ],
             [
              0.2222222222222222,
              "#7201a8"
             ],
             [
              0.3333333333333333,
              "#9c179e"
             ],
             [
              0.4444444444444444,
              "#bd3786"
             ],
             [
              0.5555555555555556,
              "#d8576b"
             ],
             [
              0.6666666666666666,
              "#ed7953"
             ],
             [
              0.7777777777777778,
              "#fb9f3a"
             ],
             [
              0.8888888888888888,
              "#fdca26"
             ],
             [
              1,
              "#f0f921"
             ]
            ],
            "type": "histogram2dcontour"
           }
          ],
          "mesh3d": [
           {
            "colorbar": {
             "outlinewidth": 0,
             "ticks": ""
            },
            "type": "mesh3d"
           }
          ],
          "parcoords": [
           {
            "line": {
             "colorbar": {
              "outlinewidth": 0,
              "ticks": ""
             }
            },
            "type": "parcoords"
           }
          ],
          "pie": [
           {
            "automargin": true,
            "type": "pie"
           }
          ],
          "scatter": [
           {
            "marker": {
             "colorbar": {
              "outlinewidth": 0,
              "ticks": ""
             }
            },
            "type": "scatter"
           }
          ],
          "scatter3d": [
           {
            "line": {
             "colorbar": {
              "outlinewidth": 0,
              "ticks": ""
             }
            },
            "marker": {
             "colorbar": {
              "outlinewidth": 0,
              "ticks": ""
             }
            },
            "type": "scatter3d"
           }
          ],
          "scattercarpet": [
           {
            "marker": {
             "colorbar": {
              "outlinewidth": 0,
              "ticks": ""
             }
            },
            "type": "scattercarpet"
           }
          ],
          "scattergeo": [
           {
            "marker": {
             "colorbar": {
              "outlinewidth": 0,
              "ticks": ""
             }
            },
            "type": "scattergeo"
           }
          ],
          "scattergl": [
           {
            "marker": {
             "colorbar": {
              "outlinewidth": 0,
              "ticks": ""
             }
            },
            "type": "scattergl"
           }
          ],
          "scattermapbox": [
           {
            "marker": {
             "colorbar": {
              "outlinewidth": 0,
              "ticks": ""
             }
            },
            "type": "scattermapbox"
           }
          ],
          "scatterpolar": [
           {
            "marker": {
             "colorbar": {
              "outlinewidth": 0,
              "ticks": ""
             }
            },
            "type": "scatterpolar"
           }
          ],
          "scatterpolargl": [
           {
            "marker": {
             "colorbar": {
              "outlinewidth": 0,
              "ticks": ""
             }
            },
            "type": "scatterpolargl"
           }
          ],
          "scatterternary": [
           {
            "marker": {
             "colorbar": {
              "outlinewidth": 0,
              "ticks": ""
             }
            },
            "type": "scatterternary"
           }
          ],
          "surface": [
           {
            "colorbar": {
             "outlinewidth": 0,
             "ticks": ""
            },
            "colorscale": [
             [
              0,
              "#0d0887"
             ],
             [
              0.1111111111111111,
              "#46039f"
             ],
             [
              0.2222222222222222,
              "#7201a8"
             ],
             [
              0.3333333333333333,
              "#9c179e"
             ],
             [
              0.4444444444444444,
              "#bd3786"
             ],
             [
              0.5555555555555556,
              "#d8576b"
             ],
             [
              0.6666666666666666,
              "#ed7953"
             ],
             [
              0.7777777777777778,
              "#fb9f3a"
             ],
             [
              0.8888888888888888,
              "#fdca26"
             ],
             [
              1,
              "#f0f921"
             ]
            ],
            "type": "surface"
           }
          ],
          "table": [
           {
            "cells": {
             "fill": {
              "color": "#EBF0F8"
             },
             "line": {
              "color": "white"
             }
            },
            "header": {
             "fill": {
              "color": "#C8D4E3"
             },
             "line": {
              "color": "white"
             }
            },
            "type": "table"
           }
          ]
         },
         "layout": {
          "annotationdefaults": {
           "arrowcolor": "#2a3f5f",
           "arrowhead": 0,
           "arrowwidth": 1
          },
          "autotypenumbers": "strict",
          "coloraxis": {
           "colorbar": {
            "outlinewidth": 0,
            "ticks": ""
           }
          },
          "colorscale": {
           "diverging": [
            [
             0,
             "#8e0152"
            ],
            [
             0.1,
             "#c51b7d"
            ],
            [
             0.2,
             "#de77ae"
            ],
            [
             0.3,
             "#f1b6da"
            ],
            [
             0.4,
             "#fde0ef"
            ],
            [
             0.5,
             "#f7f7f7"
            ],
            [
             0.6,
             "#e6f5d0"
            ],
            [
             0.7,
             "#b8e186"
            ],
            [
             0.8,
             "#7fbc41"
            ],
            [
             0.9,
             "#4d9221"
            ],
            [
             1,
             "#276419"
            ]
           ],
           "sequential": [
            [
             0,
             "#0d0887"
            ],
            [
             0.1111111111111111,
             "#46039f"
            ],
            [
             0.2222222222222222,
             "#7201a8"
            ],
            [
             0.3333333333333333,
             "#9c179e"
            ],
            [
             0.4444444444444444,
             "#bd3786"
            ],
            [
             0.5555555555555556,
             "#d8576b"
            ],
            [
             0.6666666666666666,
             "#ed7953"
            ],
            [
             0.7777777777777778,
             "#fb9f3a"
            ],
            [
             0.8888888888888888,
             "#fdca26"
            ],
            [
             1,
             "#f0f921"
            ]
           ],
           "sequentialminus": [
            [
             0,
             "#0d0887"
            ],
            [
             0.1111111111111111,
             "#46039f"
            ],
            [
             0.2222222222222222,
             "#7201a8"
            ],
            [
             0.3333333333333333,
             "#9c179e"
            ],
            [
             0.4444444444444444,
             "#bd3786"
            ],
            [
             0.5555555555555556,
             "#d8576b"
            ],
            [
             0.6666666666666666,
             "#ed7953"
            ],
            [
             0.7777777777777778,
             "#fb9f3a"
            ],
            [
             0.8888888888888888,
             "#fdca26"
            ],
            [
             1,
             "#f0f921"
            ]
           ]
          },
          "colorway": [
           "#636efa",
           "#EF553B",
           "#00cc96",
           "#ab63fa",
           "#FFA15A",
           "#19d3f3",
           "#FF6692",
           "#B6E880",
           "#FF97FF",
           "#FECB52"
          ],
          "font": {
           "color": "#2a3f5f"
          },
          "geo": {
           "bgcolor": "white",
           "lakecolor": "white",
           "landcolor": "#E5ECF6",
           "showlakes": true,
           "showland": true,
           "subunitcolor": "white"
          },
          "hoverlabel": {
           "align": "left"
          },
          "hovermode": "closest",
          "mapbox": {
           "style": "light"
          },
          "paper_bgcolor": "white",
          "plot_bgcolor": "#E5ECF6",
          "polar": {
           "angularaxis": {
            "gridcolor": "white",
            "linecolor": "white",
            "ticks": ""
           },
           "bgcolor": "#E5ECF6",
           "radialaxis": {
            "gridcolor": "white",
            "linecolor": "white",
            "ticks": ""
           }
          },
          "scene": {
           "xaxis": {
            "backgroundcolor": "#E5ECF6",
            "gridcolor": "white",
            "gridwidth": 2,
            "linecolor": "white",
            "showbackground": true,
            "ticks": "",
            "zerolinecolor": "white"
           },
           "yaxis": {
            "backgroundcolor": "#E5ECF6",
            "gridcolor": "white",
            "gridwidth": 2,
            "linecolor": "white",
            "showbackground": true,
            "ticks": "",
            "zerolinecolor": "white"
           },
           "zaxis": {
            "backgroundcolor": "#E5ECF6",
            "gridcolor": "white",
            "gridwidth": 2,
            "linecolor": "white",
            "showbackground": true,
            "ticks": "",
            "zerolinecolor": "white"
           }
          },
          "shapedefaults": {
           "line": {
            "color": "#2a3f5f"
           }
          },
          "ternary": {
           "aaxis": {
            "gridcolor": "white",
            "linecolor": "white",
            "ticks": ""
           },
           "baxis": {
            "gridcolor": "white",
            "linecolor": "white",
            "ticks": ""
           },
           "bgcolor": "#E5ECF6",
           "caxis": {
            "gridcolor": "white",
            "linecolor": "white",
            "ticks": ""
           }
          },
          "title": {
           "x": 0.05
          },
          "xaxis": {
           "automargin": true,
           "gridcolor": "white",
           "linecolor": "white",
           "ticks": "",
           "title": {
            "standoff": 15
           },
           "zerolinecolor": "white",
           "zerolinewidth": 2
          },
          "yaxis": {
           "automargin": true,
           "gridcolor": "white",
           "linecolor": "white",
           "ticks": "",
           "title": {
            "standoff": 15
           },
           "zerolinecolor": "white",
           "zerolinewidth": 2
          }
         }
        },
        "title": {
         "text": "Plot Coherence Scores"
        },
        "xaxis": {
         "dtick": 1,
         "title": {
          "text": "Number of topics"
         }
        }
       }
      },
      "text/html": [
       "<div>                            <div id=\"3f6dcbb7-bba3-44ef-a30f-17390c036dc3\" class=\"plotly-graph-div\" style=\"height:525px; width:100%;\"></div>            <script type=\"text/javascript\">                require([\"plotly\"], function(Plotly) {                    window.PLOTLYENV=window.PLOTLYENV || {};                                    if (document.getElementById(\"3f6dcbb7-bba3-44ef-a30f-17390c036dc3\")) {                    Plotly.newPlot(                        \"3f6dcbb7-bba3-44ef-a30f-17390c036dc3\",                        [{\"mode\": \"lines+markers\", \"name\": \"u_mass\", \"type\": \"scatter\", \"x\": [1, 2, 3, 4, 5, 6, 7, 8, 9, 10, 11, 12, 13, 14, 15, 16, 17, 18, 19, 20], \"y\": [-1.6735201537799784, -1.8959606916565146, -1.9283107722711734, -2.2358875122024164, -2.18877046411503, -2.2451481882427546, -2.300103904791342, -2.354046235421775, -2.439439459355783, -2.5633476800875776, -2.721206125705555, -2.7992018550843953, -2.7630619742834144, -2.8398290869422316, -2.906684579099113, -2.9959338263834567, -2.841784897833569, -3.0366382353895536, -3.088031161100776, -3.2051776530447484]}, {\"mode\": \"lines+markers\", \"name\": \"c_v\", \"type\": \"scatter\", \"x\": [1, 2, 3, 4, 5, 6, 7, 8, 9, 10, 11, 12, 13, 14, 15, 16, 17, 18, 19, 20], \"y\": [0.2982740494336297, 0.3677378430414645, 0.37816219413444907, 0.3691361758461116, 0.38740821711267676, 0.3989946340228238, 0.41075086992956866, 0.40849346512909757, 0.417041175784025, 0.4095322489409588, 0.4122455536301379, 0.4130825236358963, 0.4165161856455241, 0.41692847526423266, 0.4110154022029218, 0.4210587067065692, 0.4204826112938481, 0.41521854234439165, 0.4135219158078286, 0.41607537065968003]}, {\"mode\": \"lines+markers\", \"name\": \"c_uci\", \"type\": \"scatter\", \"x\": [1, 2, 3, 4, 5, 6, 7, 8, 9, 10, 11, 12, 13, 14, 15, 16, 17, 18, 19, 20], \"y\": [-0.17740927018690172, -0.042160729234924525, 0.011035599877818544, -0.21813136109765247, -0.1402686854277721, -0.09429219402488245, -0.1453151267330504, -0.19584008216456414, -0.26692600710380654, -0.352670518840212, -0.46192753289266963, -0.5198055357019007, -0.4811684785978775, -0.598869597478409, -0.6558512377275078, -0.7304972920268665, -0.5755627053210546, -0.7773278118003166, -0.8470128043675986, -0.9263294789407268]}, {\"mode\": \"lines+markers\", \"name\": \"c_npmi\", \"type\": \"scatter\", \"x\": [1, 2, 3, 4, 5, 6, 7, 8, 9, 10, 11, 12, 13, 14, 15, 16, 17, 18, 19, 20], \"y\": [-0.01836936697719002, 0.003677855542526055, 0.008106727261302193, 0.0033449970884424514, 0.008508225845022362, 0.013443729180410027, 0.014582090632155898, 0.012584915737352282, 0.012659651313857604, 0.00970143732775686, 0.006622211317040339, 0.005425576378465444, 0.007964279125030362, 0.004781181398515627, 0.002396900344418554, 5.143796466485703e-05, 0.0065465026870238545, -0.0006052281297844135, -0.004077357004288163, -0.005595626074186203]}],                        {\"legend\": {\"title\": {\"text\": \"Metrics\"}}, \"template\": {\"data\": {\"bar\": [{\"error_x\": {\"color\": \"#2a3f5f\"}, \"error_y\": {\"color\": \"#2a3f5f\"}, \"marker\": {\"line\": {\"color\": \"#E5ECF6\", \"width\": 0.5}}, \"type\": \"bar\"}], \"barpolar\": [{\"marker\": {\"line\": {\"color\": \"#E5ECF6\", \"width\": 0.5}}, \"type\": \"barpolar\"}], \"carpet\": [{\"aaxis\": {\"endlinecolor\": \"#2a3f5f\", \"gridcolor\": \"white\", \"linecolor\": \"white\", \"minorgridcolor\": \"white\", \"startlinecolor\": \"#2a3f5f\"}, \"baxis\": {\"endlinecolor\": \"#2a3f5f\", \"gridcolor\": \"white\", \"linecolor\": \"white\", \"minorgridcolor\": \"white\", \"startlinecolor\": \"#2a3f5f\"}, \"type\": \"carpet\"}], \"choropleth\": [{\"colorbar\": {\"outlinewidth\": 0, \"ticks\": \"\"}, \"type\": \"choropleth\"}], \"contour\": [{\"colorbar\": {\"outlinewidth\": 0, \"ticks\": \"\"}, \"colorscale\": [[0.0, \"#0d0887\"], [0.1111111111111111, \"#46039f\"], [0.2222222222222222, \"#7201a8\"], [0.3333333333333333, \"#9c179e\"], [0.4444444444444444, \"#bd3786\"], [0.5555555555555556, \"#d8576b\"], [0.6666666666666666, \"#ed7953\"], [0.7777777777777778, \"#fb9f3a\"], [0.8888888888888888, \"#fdca26\"], [1.0, \"#f0f921\"]], \"type\": \"contour\"}], \"contourcarpet\": [{\"colorbar\": {\"outlinewidth\": 0, \"ticks\": \"\"}, \"type\": \"contourcarpet\"}], \"heatmap\": [{\"colorbar\": {\"outlinewidth\": 0, \"ticks\": \"\"}, \"colorscale\": [[0.0, \"#0d0887\"], [0.1111111111111111, \"#46039f\"], [0.2222222222222222, \"#7201a8\"], [0.3333333333333333, \"#9c179e\"], [0.4444444444444444, \"#bd3786\"], [0.5555555555555556, \"#d8576b\"], [0.6666666666666666, \"#ed7953\"], [0.7777777777777778, \"#fb9f3a\"], [0.8888888888888888, \"#fdca26\"], [1.0, \"#f0f921\"]], \"type\": \"heatmap\"}], \"heatmapgl\": [{\"colorbar\": {\"outlinewidth\": 0, \"ticks\": \"\"}, \"colorscale\": [[0.0, \"#0d0887\"], [0.1111111111111111, \"#46039f\"], [0.2222222222222222, \"#7201a8\"], [0.3333333333333333, \"#9c179e\"], [0.4444444444444444, \"#bd3786\"], [0.5555555555555556, \"#d8576b\"], [0.6666666666666666, \"#ed7953\"], [0.7777777777777778, \"#fb9f3a\"], [0.8888888888888888, \"#fdca26\"], [1.0, \"#f0f921\"]], \"type\": \"heatmapgl\"}], \"histogram\": [{\"marker\": {\"colorbar\": {\"outlinewidth\": 0, \"ticks\": \"\"}}, \"type\": \"histogram\"}], \"histogram2d\": [{\"colorbar\": {\"outlinewidth\": 0, \"ticks\": \"\"}, \"colorscale\": [[0.0, \"#0d0887\"], [0.1111111111111111, \"#46039f\"], [0.2222222222222222, \"#7201a8\"], [0.3333333333333333, \"#9c179e\"], [0.4444444444444444, \"#bd3786\"], [0.5555555555555556, \"#d8576b\"], [0.6666666666666666, \"#ed7953\"], [0.7777777777777778, \"#fb9f3a\"], [0.8888888888888888, \"#fdca26\"], [1.0, \"#f0f921\"]], \"type\": \"histogram2d\"}], \"histogram2dcontour\": [{\"colorbar\": {\"outlinewidth\": 0, \"ticks\": \"\"}, \"colorscale\": [[0.0, \"#0d0887\"], [0.1111111111111111, \"#46039f\"], [0.2222222222222222, \"#7201a8\"], [0.3333333333333333, \"#9c179e\"], [0.4444444444444444, \"#bd3786\"], [0.5555555555555556, \"#d8576b\"], [0.6666666666666666, \"#ed7953\"], [0.7777777777777778, \"#fb9f3a\"], [0.8888888888888888, \"#fdca26\"], [1.0, \"#f0f921\"]], \"type\": \"histogram2dcontour\"}], \"mesh3d\": [{\"colorbar\": {\"outlinewidth\": 0, \"ticks\": \"\"}, \"type\": \"mesh3d\"}], \"parcoords\": [{\"line\": {\"colorbar\": {\"outlinewidth\": 0, \"ticks\": \"\"}}, \"type\": \"parcoords\"}], \"pie\": [{\"automargin\": true, \"type\": \"pie\"}], \"scatter\": [{\"marker\": {\"colorbar\": {\"outlinewidth\": 0, \"ticks\": \"\"}}, \"type\": \"scatter\"}], \"scatter3d\": [{\"line\": {\"colorbar\": {\"outlinewidth\": 0, \"ticks\": \"\"}}, \"marker\": {\"colorbar\": {\"outlinewidth\": 0, \"ticks\": \"\"}}, \"type\": \"scatter3d\"}], \"scattercarpet\": [{\"marker\": {\"colorbar\": {\"outlinewidth\": 0, \"ticks\": \"\"}}, \"type\": \"scattercarpet\"}], \"scattergeo\": [{\"marker\": {\"colorbar\": {\"outlinewidth\": 0, \"ticks\": \"\"}}, \"type\": \"scattergeo\"}], \"scattergl\": [{\"marker\": {\"colorbar\": {\"outlinewidth\": 0, \"ticks\": \"\"}}, \"type\": \"scattergl\"}], \"scattermapbox\": [{\"marker\": {\"colorbar\": {\"outlinewidth\": 0, \"ticks\": \"\"}}, \"type\": \"scattermapbox\"}], \"scatterpolar\": [{\"marker\": {\"colorbar\": {\"outlinewidth\": 0, \"ticks\": \"\"}}, \"type\": \"scatterpolar\"}], \"scatterpolargl\": [{\"marker\": {\"colorbar\": {\"outlinewidth\": 0, \"ticks\": \"\"}}, \"type\": \"scatterpolargl\"}], \"scatterternary\": [{\"marker\": {\"colorbar\": {\"outlinewidth\": 0, \"ticks\": \"\"}}, \"type\": \"scatterternary\"}], \"surface\": [{\"colorbar\": {\"outlinewidth\": 0, \"ticks\": \"\"}, \"colorscale\": [[0.0, \"#0d0887\"], [0.1111111111111111, \"#46039f\"], [0.2222222222222222, \"#7201a8\"], [0.3333333333333333, \"#9c179e\"], [0.4444444444444444, \"#bd3786\"], [0.5555555555555556, \"#d8576b\"], [0.6666666666666666, \"#ed7953\"], [0.7777777777777778, \"#fb9f3a\"], [0.8888888888888888, \"#fdca26\"], [1.0, \"#f0f921\"]], \"type\": \"surface\"}], \"table\": [{\"cells\": {\"fill\": {\"color\": \"#EBF0F8\"}, \"line\": {\"color\": \"white\"}}, \"header\": {\"fill\": {\"color\": \"#C8D4E3\"}, \"line\": {\"color\": \"white\"}}, \"type\": \"table\"}]}, \"layout\": {\"annotationdefaults\": {\"arrowcolor\": \"#2a3f5f\", \"arrowhead\": 0, \"arrowwidth\": 1}, \"autotypenumbers\": \"strict\", \"coloraxis\": {\"colorbar\": {\"outlinewidth\": 0, \"ticks\": \"\"}}, \"colorscale\": {\"diverging\": [[0, \"#8e0152\"], [0.1, \"#c51b7d\"], [0.2, \"#de77ae\"], [0.3, \"#f1b6da\"], [0.4, \"#fde0ef\"], [0.5, \"#f7f7f7\"], [0.6, \"#e6f5d0\"], [0.7, \"#b8e186\"], [0.8, \"#7fbc41\"], [0.9, \"#4d9221\"], [1, \"#276419\"]], \"sequential\": [[0.0, \"#0d0887\"], [0.1111111111111111, \"#46039f\"], [0.2222222222222222, \"#7201a8\"], [0.3333333333333333, \"#9c179e\"], [0.4444444444444444, \"#bd3786\"], [0.5555555555555556, \"#d8576b\"], [0.6666666666666666, \"#ed7953\"], [0.7777777777777778, \"#fb9f3a\"], [0.8888888888888888, \"#fdca26\"], [1.0, \"#f0f921\"]], \"sequentialminus\": [[0.0, \"#0d0887\"], [0.1111111111111111, \"#46039f\"], [0.2222222222222222, \"#7201a8\"], [0.3333333333333333, \"#9c179e\"], [0.4444444444444444, \"#bd3786\"], [0.5555555555555556, \"#d8576b\"], [0.6666666666666666, \"#ed7953\"], [0.7777777777777778, \"#fb9f3a\"], [0.8888888888888888, \"#fdca26\"], [1.0, \"#f0f921\"]]}, \"colorway\": [\"#636efa\", \"#EF553B\", \"#00cc96\", \"#ab63fa\", \"#FFA15A\", \"#19d3f3\", \"#FF6692\", \"#B6E880\", \"#FF97FF\", \"#FECB52\"], \"font\": {\"color\": \"#2a3f5f\"}, \"geo\": {\"bgcolor\": \"white\", \"lakecolor\": \"white\", \"landcolor\": \"#E5ECF6\", \"showlakes\": true, \"showland\": true, \"subunitcolor\": \"white\"}, \"hoverlabel\": {\"align\": \"left\"}, \"hovermode\": \"closest\", \"mapbox\": {\"style\": \"light\"}, \"paper_bgcolor\": \"white\", \"plot_bgcolor\": \"#E5ECF6\", \"polar\": {\"angularaxis\": {\"gridcolor\": \"white\", \"linecolor\": \"white\", \"ticks\": \"\"}, \"bgcolor\": \"#E5ECF6\", \"radialaxis\": {\"gridcolor\": \"white\", \"linecolor\": \"white\", \"ticks\": \"\"}}, \"scene\": {\"xaxis\": {\"backgroundcolor\": \"#E5ECF6\", \"gridcolor\": \"white\", \"gridwidth\": 2, \"linecolor\": \"white\", \"showbackground\": true, \"ticks\": \"\", \"zerolinecolor\": \"white\"}, \"yaxis\": {\"backgroundcolor\": \"#E5ECF6\", \"gridcolor\": \"white\", \"gridwidth\": 2, \"linecolor\": \"white\", \"showbackground\": true, \"ticks\": \"\", \"zerolinecolor\": \"white\"}, \"zaxis\": {\"backgroundcolor\": \"#E5ECF6\", \"gridcolor\": \"white\", \"gridwidth\": 2, \"linecolor\": \"white\", \"showbackground\": true, \"ticks\": \"\", \"zerolinecolor\": \"white\"}}, \"shapedefaults\": {\"line\": {\"color\": \"#2a3f5f\"}}, \"ternary\": {\"aaxis\": {\"gridcolor\": \"white\", \"linecolor\": \"white\", \"ticks\": \"\"}, \"baxis\": {\"gridcolor\": \"white\", \"linecolor\": \"white\", \"ticks\": \"\"}, \"bgcolor\": \"#E5ECF6\", \"caxis\": {\"gridcolor\": \"white\", \"linecolor\": \"white\", \"ticks\": \"\"}}, \"title\": {\"x\": 0.05}, \"xaxis\": {\"automargin\": true, \"gridcolor\": \"white\", \"linecolor\": \"white\", \"ticks\": \"\", \"title\": {\"standoff\": 15}, \"zerolinecolor\": \"white\", \"zerolinewidth\": 2}, \"yaxis\": {\"automargin\": true, \"gridcolor\": \"white\", \"linecolor\": \"white\", \"ticks\": \"\", \"title\": {\"standoff\": 15}, \"zerolinecolor\": \"white\", \"zerolinewidth\": 2}}}, \"title\": {\"text\": \"Plot Coherence Scores\"}, \"xaxis\": {\"dtick\": 1, \"title\": {\"text\": \"Number of topics\"}}},                        {\"responsive\": true}                    ).then(function(){\n",
       "                            \n",
       "var gd = document.getElementById('3f6dcbb7-bba3-44ef-a30f-17390c036dc3');\n",
       "var x = new MutationObserver(function (mutations, observer) {{\n",
       "        var display = window.getComputedStyle(gd).display;\n",
       "        if (!display || display === 'none') {{\n",
       "            console.log([gd, 'removed!']);\n",
       "            Plotly.purge(gd);\n",
       "            observer.disconnect();\n",
       "        }}\n",
       "}});\n",
       "\n",
       "// Listen for the removal of the full notebook cells\n",
       "var notebookContainer = gd.closest('#notebook-container');\n",
       "if (notebookContainer) {{\n",
       "    x.observe(notebookContainer, {childList: true});\n",
       "}}\n",
       "\n",
       "// Listen for the clearing of the current output cell\n",
       "var outputEl = gd.closest('.output');\n",
       "if (outputEl) {{\n",
       "    x.observe(outputEl, {childList: true});\n",
       "}}\n",
       "\n",
       "                        })                };                });            </script>        </div>"
      ]
     },
     "metadata": {},
     "output_type": "display_data"
    }
   ],
   "source": [
    "start_time = time.time() #Start count time\n",
    "u_mass, c_v, c_uci, c_npmi = CalculateCoherenceRange(allwords_abstracts, allwords_bow, allwords_dictionary)\n",
    "print('- Finish in', round((time.time() - start_time)/60), 'min(s)')\n",
    "\n",
    "#Plot the coherence plot\n",
    "PlotCoherenceScores(u_mass, c_v, c_uci, c_npmi)"
   ]
  },
  {
   "cell_type": "markdown",
   "metadata": {},
   "source": [
    "## 2.2 LDA model with 8 topics"
   ]
  },
  {
   "cell_type": "code",
   "execution_count": 15,
   "metadata": {},
   "outputs": [],
   "source": [
    "allwords_LDA_model = LdaModel(allwords_bow, num_topics = 8, id2word = allwords_dictionary, random_state = 111, passes = 30)"
   ]
  },
  {
   "cell_type": "code",
   "execution_count": 16,
   "metadata": {},
   "outputs": [
    {
     "data": {
      "image/png": "[encoded data removed]",
      "text/plain": [
       "<Figure size 1440x1080 with 8 Axes>"
      ]
     },
     "metadata": {
      "needs_background": "light"
     },
     "output_type": "display_data"
    }
   ],
   "source": [
    "PlotKeywords(allwords_LDA_model, 8)"
   ]
  },
  {
   "cell_type": "markdown",
   "metadata": {},
   "source": [
    "## 2.3 Plot topics"
   ]
  },
  {
   "cell_type": "code",
   "execution_count": 17,
   "metadata": {},
   "outputs": [
    {
     "data": {
      "text/html": [
       "\n",
       "<link rel=\"stylesheet\" type=\"text/css\" href=\"https://cdn.jsdelivr.net/gh/bmabey/pyLDAvis@3.3.1/pyLDAvis/js/ldavis.v1.0.0.css\">\n",
       "\n",
       "\n",
       "<div id=\"ldavis_el719620857750587525699887255\"></div>\n",
       "<script type=\"text/javascript\">\n",
       "\n",
       "var ldavis_el719620857750587525699887255_data = {\"mdsDat\": {\"x\": [0.21573016287212657, -0.10843842173283444, -0.05144865242123182, 0.14929004308132662, -0.029755036142193353, -0.1734131072019822, -0.09610251914191491, 0.09413753068670278], \"y\": [-0.17714802362150112, -0.08088542849734305, 0.14134892603275498, 0.06035979099843702, 0.08396969694847384, -0.06152462024160753, -0.08592395862082883, 0.11980361700161388], \"topics\": [1, 2, 3, 4, 5, 6, 7, 8], \"cluster\": [1, 1, 1, 1, 1, 1, 1, 1], \"Freq\": [7.289752344462107, 12.847244973264841, 13.060463982697698, 12.94347577945651, 22.516627980433835, 12.474495455296706, 8.61485709556303, 10.253082388825268]}, \"tinfo\": {\"Term\": [\"application\", \"customer\", \"service\", \"market\", \"social_medium\", \"marketing\", \"management\", \"case_company\", \"employee\", \"design\", \"organization\", \"user\", \"tourism\", \"software\", \"technology\", \"event\", \"student\", \"product\", \"experience\", \"content\", \"communication\", \"country\", \"finland\", \"network\", \"brand\", \"patient\", \"test\", \"nurse\", \"hotel\", \"solution\", \"simulation\", \"parameter\", \"BIM\", \"robot\", \"temperature\", \"printing\", \"film\", \"motor\", \"heating\", \"virtual_reality\", \"thermal\", \"VR\", \"wall\", \"steel\", \"virtual_team\", \"mechanical\", \"machine_learning\", \"pipeline\", \"streaming\", \"motion\", \"event_planning\", \"renovation\", \"tutorial\", \"fiber\", \"colour\", \"transmission\", \"chamber\", \"ventilation\", \"calibration\", \"legacy\", \"machine\", \"water\", \"sensor\", \"modeling\", \"concentration\", \"experimental\", \"heat\", \"signal\", \"laboratory\", \"filter\", \"calculation\", \"internet_thing\", \"measurement\", \"algorithm\", \"property\", \"experiment\", \"sound\", \"sample\", \"building\", \"house\", \"material\", \"control\", \"production\", \"test\", \"design\", \"structure\", \"equipment\", \"construction\", \"high\", \"condition\", \"type\", \"compared\", \"system\", \"standard\", \"time\", \"possible\", \"program\", \"purpose\", \"bank\", \"government\", \"CRM\", \"nigeria\", \"crisis\", \"risk_management\", \"higher_education\", \"political\", \"ghana\", \"cameroon\", \"banking\", \"disaster\", \"africa\", \"financing\", \"loan\", \"credit\", \"graduate\", \"bangladesh\", \"farmer\", \"financial_statement\", \"economic_growth\", \"equity\", \"ministry\", \"rural\", \"consultancy\", \"role_responsibility\", \"smes\", \"agriculture\", \"wordpress\", \"currency\", \"funding\", \"economy\", \"economic\", \"nepal\", \"entrepreneurship\", \"investor\", \"EU\", \"country\", \"finance\", \"investment\", \"policy\", \"financial\", \"risk\", \"fund\", \"sector\", \"capital\", \"legislation\", \"trade\", \"world\", \"innovation\", \"finland\", \"finnish\", \"international\", \"growth\", \"impact\", \"industry\", \"global\", \"foreign\", \"regulation\", \"challenge\", \"china\", \"opportunity\", \"market\", \"people\", \"lack\", \"technology\", \"year\", \"issue\", \"problem\", \"source\", \"change\", \"training\", \"leadership\", \"volunteer\", \"coach\", \"CSR\", \"HR\", \"club\", \"employer\", \"hockey\", \"coaching\", \"athlete\", \"competency\", \"guidebook\", \"team_member\", \"working_life\", \"football\", \"checklist\", \"SEO\", \"induction\", \"curriculum\", \"corporate_social\", \"employee_motivation\", \"BI\", \"patient_safety\", \"governance\", \"balanced_scorecard\", \"booklet\", \"hostel\", \"organizational_culture\", \"productization\", \"employee\", \"competence\", \"teacher\", \"organisation\", \"learning\", \"event\", \"human_resource\", \"school\", \"recruitment\", \"teaching\", \"team\", \"organization\", \"sport\", \"organizational\", \"skill\", \"student\", \"workplace\", \"career\", \"manager\", \"management\", \"change\", \"leader\", \"communication\", \"workshop\", \"education\", \"program\", \"motivation\", \"collaboration\", \"practice\", \"working\", \"knowledge\", \"interview\", \"theory\", \"feedback\", \"group\", \"need\", \"support\", \"action\", \"tool\", \"stakeholder\", \"experience\", \"future\", \"model\", \"finding\", \"application\", \"mobile\", \"server\", \"cloud\", \"usability\", \"mobile_application\", \"developer\", \"interface\", \"user_interface\", \"user_experience\", \"open_source\", \"mobile_phone\", \"mobile_device\", \"file\", \"cloud_computing\", \"android\", \"programming_language\", \"API\", \"javascript\", \"wastewater\", \"scrum\", \"java\", \"test_automation\", \"soil\", \"authentication\", \"smartphone\", \"intranet\", \"microsoft\", \"linux\", \"attack\", \"programming\", \"architecture\", \"user\", \"functionality\", \"code\", \"software\", \"prototype\", \"testing\", \"software_development\", \"deployment\", \"configuration\", \"security\", \"network\", \"game\", \"library\", \"virtual\", \"protocol\", \"technology\", \"platform\", \"device\", \"feature\", \"design\", \"website\", \"test\", \"solution\", \"database\", \"tool\", \"framework\", \"requirement\", \"implementation\", \"developed\", \"service\", \"environment\", \"create\", \"develop\", \"implemented\", \"need\", \"business_model\", \"marketing_strategy\", \"business_plan\", \"brand\", \"marketing_plan\", \"competitor\", \"branding\", \"customer_relationship\", \"potential_customer\", \"retail\", \"value_proposition\", \"SWOT_analysis\", \"internal_communication\", \"target_market\", \"employee_engagement\", \"brand_image\", \"fashion\", \"coffee\", \"retailer\", \"loyalty\", \"brand_identity\", \"russian_market\", \"customer_loyalty\", \"real_estate\", \"clothing\", \"market_share\", \"CVP\", \"competitor_analysis\", \"wine\", \"entry_mode\", \"customer\", \"marketing\", \"sale\", \"market\", \"market_entry\", \"selling\", \"strategy\", \"product\", \"consumer\", \"empirical\", \"case_company\", \"competition\", \"author\", \"plan\", \"theoretical\", \"strategic\", \"concept\", \"theory\", \"industry\", \"service\", \"theoretical_framework\", \"online\", \"potential\", \"suggestion\", \"interview\", \"objective\", \"value\", \"order\", \"create\", \"idea\", \"conducted\", \"future\", \"tool\", \"need\", \"finding\", \"tourism\", \"hotel\", \"travel\", \"tourist\", \"service_quality\", \"tour\", \"traveller\", \"gender\", \"accommodation\", \"traveler\", \"trip\", \"immigrant\", \"travelling\", \"holiday\", \"customer_journey\", \"park\", \"nursing_student\", \"sustainable_tourism\", \"clinical\", \"alumnus\", \"diaconia_university\", \"sexual\", \"wedding\", \"ward\", \"hospitality_industry\", \"male\", \"tourism_destination\", \"church\", \"russian_tourist\", \"airbnb\", \"family\", \"woman\", \"guest\", \"destination\", \"female\", \"healthcare\", \"helsinki\", \"airport\", \"respondent\", \"tourism_industry\", \"city\", \"customer_satisfaction\", \"experience\", \"food\", \"service\", \"social\", \"cultural\", \"participant\", \"survey\", \"restaurant\", \"questionnaire\", \"people\", \"finland\", \"attitude\", \"child\", \"culture\", \"group\", \"finnish\", \"question\", \"need\", \"interview\", \"factor\", \"conducted\", \"finding\", \"social_medium\", \"digital_marketing\", \"music\", \"patient\", \"advertising\", \"campaign\", \"facebook\", \"elderly\", \"disease\", \"intervention\", \"prevention\", \"search_engine\", \"blog\", \"pain\", \"instagram\", \"crowdfunding\", \"mental_health\", \"elderly_people\", \"injury\", \"dementia\", \"depression\", \"infection\", \"rehabilitation\", \"disorder\", \"diabetes\", \"nurse\", \"therapy\", \"symptom\", \"leadership_style\", \"drug\", \"health_promotion\", \"artist\", \"nursing\", \"exercise\", \"health\", \"hospital\", \"physical_activity\", \"care\", \"content\", \"article\", \"medium\", \"advertisement\", \"audience\", \"video\", \"channel\", \"literature_review\", \"search\", \"online\", \"communication\", \"treatment\", \"review\", \"digital\", \"child\", \"platform\", \"marketing\", \"effective\", \"social\", \"people\", \"effect\", \"tool\", \"activity\", \"supply_chain\", \"logistics\", \"waste\", \"lean\", \"plant\", \"outsourcing\", \"procurement\", \"inventory\", \"forecasting\", \"warehouse\", \"ERP\", \"emission\", \"waste_management\", \"SAP\", \"video_game\", \"sourcing\", \"kpis\", \"visualization\", \"w\\u00e4rtsil\\u00e4\", \"solar\", \"mining\", \"certification\", \"mobile_game\", \"fuel\", \"warehousing\", \"biomass\", \"shipping\", \"passenger\", \"biogas\", \"solar_energy\", \"wood\", \"supplier\", \"transportation\", \"picking\", \"chemical\", \"reporting\", \"energy\", \"current_state\", \"proposal\", \"cost\", \"delivery\", \"transport\", \"IT\", \"quality\", \"efficiency\", \"improvement\", \"operational\", \"model\", \"case_company\", \"management\", \"best_practice\", \"operation\", \"sustainability\", \"production\", \"solution\", \"construction\", \"current\", \"proposed\", \"problem\", \"service\", \"internal\", \"improve\", \"area\", \"tool\", \"implementation\", \"case\", \"time\", \"need\", \"approach\", \"order\", \"product\", \"performance\"], \"Freq\": [3402.0, 6914.0, 8426.0, 5139.0, 2159.0, 4383.0, 4913.0, 3864.0, 2190.0, 3807.0, 2865.0, 2052.0, 1669.0, 1726.0, 2822.0, 1579.0, 1916.0, 4542.0, 2885.0, 1608.0, 2310.0, 1616.0, 3954.0, 1607.0, 1605.0, 955.0, 1392.0, 942.0, 1079.0, 2301.0, 333.18611466732017, 296.00089114925953, 292.4324063041265, 243.8586572909959, 206.2409536626728, 202.7235943524216, 190.68570588037568, 155.80453040830673, 150.21236903468736, 141.11284275007458, 137.60056429301434, 116.911497406497, 102.93370044132996, 98.78878091406962, 94.6438085529806, 94.02011401110293, 92.596259939571, 90.28863680450561, 89.89130880158866, 88.62645813745603, 85.53073039131253, 84.51250803943772, 83.13066566734102, 81.03420173421588, 79.95198881017679, 76.88699274104627, 74.08251147547718, 73.6067868764437, 73.51378612951744, 73.57270465412887, 350.8307466496999, 566.4406703175931, 403.11256748332454, 152.02544992207265, 238.95592454776482, 114.74773198127724, 136.83728277577566, 158.97375001013802, 251.41417657203024, 112.28298984536865, 381.786861766904, 128.8288631096957, 487.08489365274454, 262.3450026092833, 259.5637065888647, 272.82103504929654, 159.4341792157699, 361.5302309624586, 669.3720636817376, 207.6995547821971, 650.3535055959243, 389.7728710839874, 520.7741379498913, 572.6183185693195, 846.5837695702826, 356.8074502396967, 235.83879910100768, 260.2820529348147, 319.60007173614474, 239.66488408348684, 268.4671753409003, 236.2563800715836, 244.33625749094736, 235.25790876599538, 251.53893485280963, 245.71266678432858, 240.8245514003644, 244.32886075493275, 625.4124405346931, 502.34157964891074, 300.74004801704143, 284.85323782057714, 249.13832396210464, 225.64184040622877, 210.0373792102807, 200.24327992404358, 172.1534495908347, 164.859537202815, 161.10370888540615, 159.74562788435216, 154.4854539000728, 154.42527200362332, 121.72563720840257, 112.61730582138011, 112.54670305245362, 103.83033769162324, 102.9174832295552, 100.85297105050302, 99.91693150506842, 98.39932502579047, 93.98539882499196, 92.42731932200584, 88.86463019806322, 83.15687857698666, 407.72381310667487, 80.2398257420941, 77.15561218064002, 76.05186099133496, 192.27906411845228, 608.2809917464182, 655.2618541961714, 447.58052329354007, 260.60427881471605, 240.47920744500868, 233.3145511208177, 1326.9495484988834, 207.87565728410124, 541.5460658172151, 448.2278744097066, 778.0735201272092, 792.233057131662, 170.72281821177626, 616.9683524748442, 244.20551900969787, 243.35764951188517, 244.66638073709868, 816.8132183123619, 525.0091731962358, 1452.0537753372678, 1181.5087446005623, 710.7922083779458, 444.3309802236216, 586.2960700982197, 869.8878779881625, 483.5584652497233, 371.11742192959986, 279.9337479963688, 621.6693065935854, 397.34120998414136, 496.1003228096443, 849.8405092372077, 539.9336006886211, 382.9218883106416, 506.69134338171796, 429.8756549400747, 432.45919329931075, 442.1513651240007, 418.7349896004797, 416.17057039968245, 856.9032497456544, 541.32346065483, 279.58000903958555, 261.91945262943005, 255.6324805821905, 230.11145004942506, 226.69810947689504, 229.19922966198928, 203.35110796508724, 203.01384105210252, 134.44189912325177, 133.91937047581203, 124.30020353697323, 104.72642491529066, 102.21054595027796, 100.66958260668929, 98.83940712684674, 96.54109987092619, 82.38910222271596, 82.24206659594931, 73.97661344553892, 73.82337771133457, 72.48230867128099, 72.26502093657528, 68.49557648342542, 66.9989289204792, 62.385623025256216, 62.239320998987914, 60.132838441120555, 60.13550464508231, 2102.0546399174323, 327.3358553995913, 242.24780539072526, 743.7384470549546, 744.7953366159364, 1382.359925531463, 281.9394260058366, 521.6512612437072, 166.23305255632684, 182.14358525721786, 1023.522255045889, 2208.6717505214133, 648.1226934986605, 323.4995192020755, 661.459708322265, 1392.7681547439656, 159.58828855850354, 217.17682693143325, 814.5250578947362, 2563.541036719768, 1435.196704719416, 320.2498425342748, 1232.076641470423, 312.22059296797926, 644.3886196329796, 685.2257140412934, 478.61131441421014, 356.04266836320414, 797.9081389075279, 699.4349088638429, 842.6998606216725, 1009.822447167228, 871.8468654370067, 413.8616519507455, 633.0933806480167, 878.802723375196, 653.7905698307093, 528.6618000276447, 701.6213223233211, 449.57165191695753, 592.7695226141636, 569.607120229909, 541.8177654035267, 539.7947949798106, 3401.9158564870704, 819.9009551051797, 561.2665119696126, 512.2853426077946, 359.89211653033976, 359.5707852047882, 348.54808257176694, 298.0975947664868, 282.9770109004097, 225.14898913525047, 205.15710555222017, 198.4772539463741, 173.51317773846029, 209.49426542512813, 159.42819632855452, 153.64305984068667, 146.5439077536883, 146.48486984568507, 128.08616548662584, 125.56326429191722, 125.50461725989386, 118.87643945858983, 117.03152046852759, 114.7638378361312, 112.4351160107145, 106.65224660353003, 104.6685431880465, 103.52588761850168, 102.88873631871506, 99.87970266781181, 242.2681062514883, 290.44299227701936, 1903.335624148001, 350.63561046503, 331.56952445789915, 1569.1037652158452, 417.64485558177137, 836.1002941356085, 270.2634100484438, 210.98220520027243, 179.67389913788904, 768.2664257816035, 1310.3337350203724, 1046.654677758367, 352.11387215091213, 281.08288844199836, 247.1867957722439, 1809.3466492052657, 991.1360294576197, 626.0828802989897, 733.0638848716893, 1926.5052512723767, 822.9015067473192, 818.6744800905063, 965.86042509373, 454.1895395263293, 1117.4588908587853, 697.1565789349863, 569.9068724102953, 685.1425522767961, 613.797679520988, 1126.9491094899934, 675.6965495364336, 561.1489364748603, 527.3219663133904, 471.7190138812994, 518.0509822017854, 679.8925377804309, 654.7298521092848, 601.3932356570585, 1602.5936122657981, 521.4461358495888, 442.0358608193318, 431.29422468213676, 346.01720035891645, 274.3086487106257, 259.7396099375393, 245.15879403882417, 224.68660023916254, 223.76722287080148, 216.01499112326374, 190.14494354397712, 175.218184779509, 168.34975423330624, 163.00008331292187, 162.49132780510595, 153.61530532278158, 146.13564739623166, 141.0190438881154, 144.1487538263997, 134.17414039426552, 128.16866308913356, 123.81935427512265, 119.56193695981028, 114.11129010663967, 109.98580107738242, 97.96871991389021, 6270.4593679085165, 3935.0635154143743, 1213.4954415670627, 4289.337731988594, 209.15956165339009, 196.51941478638705, 2398.400047545571, 3244.5943028522634, 1114.6000073803348, 1284.4388880330566, 2487.9566834901384, 420.6114741730851, 1417.1820532656297, 1260.1497223773617, 1249.71415551199, 556.6251444728497, 1351.6683784936376, 1509.8637345363675, 1351.3131608014658, 2928.182702008183, 797.7351639924298, 969.662050142292, 909.5481738715935, 685.0144178760113, 1445.373717732414, 1032.535037678634, 911.4582985336034, 1155.8154864603532, 942.0881271934716, 867.3294903996862, 987.14278603501, 941.9552877441173, 986.9471715141754, 945.7353914851627, 875.8873536971574, 1669.0749031269918, 1078.3746861941404, 746.4203924525755, 524.0754101284423, 374.89570234281103, 220.25244492435718, 209.985709162239, 206.86400585046516, 195.0893466637064, 158.76716903206184, 158.3383335778159, 413.28309811921395, 156.65442472606475, 149.26755734809845, 146.2810489376035, 139.07830399596423, 121.76565661058734, 118.27587418005086, 111.00003930655105, 109.0311919811338, 106.79885624245732, 101.2288022001119, 98.81932829135256, 98.37405306478213, 98.26105411642166, 98.0727124901305, 95.86019941001759, 91.11907304453352, 85.38468908735345, 84.3439957456323, 538.2554445822809, 604.3656910334946, 165.94309198035776, 492.5457651714339, 220.61419525817362, 355.7194538188183, 718.7686049915891, 185.49863061358923, 656.8719430092565, 236.25862013734456, 584.3725771953773, 568.3015620737627, 1576.0518904740784, 512.0260666064838, 3183.258038546643, 903.1555242552397, 429.3781927606952, 540.9987618969512, 1098.0672128843855, 521.6228552764421, 771.525175480508, 1007.7224817465525, 1345.6631430316368, 320.83636654125684, 463.42494617615466, 547.9528307958125, 677.5849109293949, 868.1510749920674, 530.1937780436962, 743.4688279761048, 646.234641820004, 531.3876279811149, 508.03820880068304, 484.70102527114716, 2158.535331293639, 608.7867022852541, 473.43864054993355, 953.8264384552863, 428.2834368017425, 362.8273828553911, 356.68404736598586, 355.72042444133984, 285.4229249581832, 260.2529276657079, 245.36555704504173, 229.52496979481208, 223.24905810605486, 189.79997894660787, 175.90049873072024, 129.73031699165065, 144.85908243934725, 126.24136722043204, 122.9621147014223, 117.81121716774669, 115.30679656799497, 111.57817941472966, 104.94817272319783, 98.29167160438577, 97.90523383649452, 933.8236245482908, 93.99073944046435, 92.50110951827965, 92.14975137111173, 89.28656334209332, 113.61923891333977, 209.88729196967384, 313.2518347072061, 278.997162620237, 875.8173540011909, 201.41789977823208, 165.236616625971, 669.3326915850258, 1006.4293443437124, 537.8844929948493, 518.993154653033, 176.7172888317512, 250.75270869597693, 389.9982193159824, 456.68408921519193, 480.06944852618676, 302.1233635584955, 619.2613875391072, 613.9436875015531, 274.1650203112356, 338.32497020505286, 374.1233745423409, 341.8003397611887, 353.47507896396377, 447.42918824573746, 325.32540557531576, 348.18329060116525, 358.07890715885355, 324.855602977518, 360.18089551517215, 336.79424582358706, 528.1321400317921, 444.6930976078856, 420.65692093158793, 328.39293862509703, 272.38720533376295, 219.770157802378, 206.41980747440445, 176.342992021515, 163.1507385829809, 156.46242893005947, 151.62747555025896, 130.65372169944092, 127.82649354144706, 123.11894656209024, 114.73407708103842, 114.1073371677447, 112.41825799149218, 98.59422386927645, 93.97573875689646, 93.38412942150288, 95.44678293979709, 89.14982656231264, 87.8543052244677, 85.86008604715254, 82.48483202058354, 78.26545330959341, 78.13851754618841, 73.55065480428543, 68.63257825382509, 67.74163756924094, 125.57818609658038, 471.6591632425346, 301.61029758367937, 91.21230668801365, 113.63367814387298, 220.47482530112828, 576.9822334759847, 456.10649166244707, 529.6660204519486, 804.7119039579333, 326.0751007503586, 177.74980044122896, 407.8424404128879, 831.6555771776895, 309.80884433815646, 691.3213717704626, 246.03019356790165, 1165.2951279692059, 1375.9353235471965, 1525.7092694317414, 314.534981480541, 575.8198590719368, 259.7807711565282, 554.4901426124717, 839.4210883158437, 349.63833674352776, 754.6451394576518, 354.8172267171186, 603.6223705761654, 1178.0053004579129, 347.2296906906953, 509.93869925732304, 531.1053771384426, 637.7830398506841, 489.5447083122277, 481.9507567598561, 484.3872694794523, 545.4975073218959, 470.1548091039624, 503.704393339316, 542.342951103503, 419.97464584773047], \"Total\": [3402.0, 6914.0, 8426.0, 5139.0, 2159.0, 4383.0, 4913.0, 3864.0, 2190.0, 3807.0, 2865.0, 2052.0, 1669.0, 1726.0, 2822.0, 1579.0, 1916.0, 4542.0, 2885.0, 1608.0, 2310.0, 1616.0, 3954.0, 1607.0, 1605.0, 955.0, 1392.0, 942.0, 1079.0, 2301.0, 334.01947359751927, 296.8344701404745, 293.265751569472, 244.69202899862822, 207.07424236360762, 203.55722619120493, 191.51923223386873, 156.63799474579434, 151.07359020114697, 141.9466688506664, 138.4338444539287, 117.74548019234436, 103.76710246212146, 99.62201688873888, 95.47856109936266, 94.8533734107248, 93.43013754475109, 91.12220376540522, 90.72537834606695, 89.45981919240855, 86.36608859430297, 85.34668723703244, 83.96448940593159, 81.86758241779194, 80.78576853693664, 77.72115302059682, 74.91567212492376, 74.4398624841311, 74.34706384270461, 74.40897959539889, 362.5537211887577, 603.2691170205479, 433.8121526227133, 157.6890073388789, 252.60307920066646, 118.00751628874175, 142.21066081839038, 168.08659441391018, 277.9821334103619, 116.11386968049672, 455.26464049859214, 136.0532728365143, 621.7557448645164, 306.53570910741536, 307.2316090896033, 330.2064588744955, 182.7988292280141, 589.5967909553208, 1421.2105980446204, 279.72335322567517, 1635.5557529388495, 756.9521016472324, 1196.676763648824, 1392.0108984511746, 3807.676803305792, 931.265679290066, 447.0276200695554, 610.650064947499, 1080.7427250809062, 560.57894957997, 1037.6470781331516, 752.6299475619439, 1068.3476227368587, 770.4998132071394, 2262.779270448771, 1724.7096820253812, 1219.9190211203297, 2551.4332903944965, 626.2559723249828, 503.1853335875567, 301.5841735923294, 285.6965711627803, 249.98210979264343, 226.4855081348274, 210.88171393314204, 201.08691340210558, 172.99696625935098, 165.70298567026515, 161.9472857227113, 160.5898683047145, 155.32904545996396, 155.26860968915673, 122.56911966083958, 113.46081801493865, 113.39125032981708, 104.6738553194283, 103.76112837970184, 101.69642360578595, 100.76049147118648, 99.24294754268428, 94.82924281957958, 93.27095635440425, 89.71064879552216, 84.01157464126105, 411.92261727071735, 81.08347229264506, 78.00214326125484, 76.89520815216194, 195.75496173237224, 641.8387999836048, 708.273103387165, 479.1420835526014, 273.9568894494409, 252.49603526509364, 246.76095055107257, 1616.0588593420769, 220.91249578364423, 619.4810698316506, 520.3665033092217, 961.8245809392919, 1061.8660162423496, 182.6210901297996, 821.6631136347814, 278.8151011448589, 278.00029478935625, 284.9561644620611, 1442.1692726795877, 890.5505598881101, 3954.3079682228868, 3075.7508031219527, 1621.4364272497132, 762.9251336367848, 1293.3426276426735, 2585.9274588363687, 933.3570201530517, 607.6346612562509, 363.42697617328645, 1830.6005459587343, 763.9902841428114, 1319.120133328273, 5139.900235262639, 2325.0920227478946, 877.8118742542431, 2822.0984245204304, 1467.6993853053168, 1599.8481214065412, 2078.8304753373063, 1555.120729149573, 2631.8396013091196, 857.7621117849711, 542.1818453731735, 280.43839955638555, 262.7775746353391, 256.4908979330358, 230.96986189346308, 227.55668536695796, 230.0690576045587, 204.2092793489059, 203.87195797307746, 135.30014752480636, 134.77821527060317, 125.15937878286076, 105.58495613225436, 103.06919180848075, 101.52791082288701, 99.69875416109379, 97.40082946298, 83.24810854198793, 83.10069169824101, 74.83522188214377, 74.68154654253625, 73.34066599983807, 73.12394087643885, 69.35492148281119, 67.86695369737104, 63.244216248622976, 63.09923215566583, 60.990977111045375, 60.99477111927602, 2190.643333679396, 336.2160678109681, 249.903306055601, 785.986971220295, 807.4875307949653, 1579.2892652187336, 304.1412569690123, 586.70464328641, 176.32123186099702, 194.5851959891935, 1243.2474311223928, 2865.63499089966, 773.3278137302934, 365.08347531774314, 801.9369216304541, 1916.253389023595, 170.49526439048321, 243.9698308062477, 1210.3231471468982, 4913.522466919157, 2631.8396013091196, 401.1813757895367, 2310.8442355849875, 390.38150234239447, 1030.8004850387406, 1219.9190211203297, 719.8074117874525, 471.89223020668817, 1695.8955451029763, 1397.5499864407102, 1962.5930475032235, 3553.5995229781415, 2955.036797289577, 691.4178329964251, 1802.1820315420696, 4217.816183292861, 2107.8967630840957, 1282.2646030735934, 3804.3856961856773, 932.8938347146611, 2885.455428852843, 2958.8212196211307, 2947.3421629367504, 2917.9363176474462, 3402.7640980215538, 820.7491178634283, 562.1140993872918, 513.133272057785, 360.7402442303051, 360.4187553899002, 349.39596186060953, 298.9454026206058, 283.82467174630324, 225.99689495972004, 206.00479526984995, 199.32526220087533, 174.36129716677308, 210.52400963586297, 160.27580720300367, 154.49057267591314, 147.39147545122694, 147.33248537920542, 128.9336398259693, 126.41135519787035, 126.3527655237052, 119.72393314060284, 117.87918050708643, 115.61259805749906, 113.28267008970874, 107.50012101815642, 105.51697194396186, 104.37438501901649, 103.73624627885785, 100.72794864352049, 245.18875395308953, 295.1294085185993, 2052.9792332791108, 363.3462899596178, 344.91823651264224, 1726.0122339319676, 442.5522785637129, 930.8294872190869, 283.553114871069, 220.48077257725947, 185.6744774444068, 887.1379128279543, 1607.3842738824328, 1280.120850084459, 391.2802145393706, 307.52308675176005, 267.9652067613386, 2822.0984245204304, 1413.6575665861876, 831.9993868180029, 1035.465085106844, 3807.676803305792, 1388.0170297548952, 1392.0108984511746, 2301.6784710223446, 678.1316229313928, 3804.3856961856773, 1608.3313756333305, 1182.9291830023506, 1960.5419127208934, 1577.3743632543037, 8426.790090074155, 2316.5632356237033, 2233.1629832889116, 1897.5435103577988, 1257.0210607844651, 4217.816183292861, 680.739727424176, 655.6110451638057, 602.2397498405546, 1605.0830156792708, 522.2926736498226, 442.8826613292877, 432.3279325087803, 346.8641954559971, 275.1557826323856, 260.5867315130728, 246.00565467300166, 225.5335259763863, 224.61504790136294, 216.86167688638105, 190.99362527971812, 176.06492459557543, 169.19686092738965, 163.8470550018749, 163.33813129848573, 154.46902405516482, 146.98211544411433, 141.86593727060767, 145.038723039119, 135.0215035163445, 129.01558957421472, 124.66657832419716, 120.40864002491598, 114.95790646892115, 110.8325299885572, 98.81526521431407, 6914.887037057217, 4383.21523865488, 1357.245471312477, 5139.900235262639, 219.14012170058385, 205.17561737658085, 3129.477611773066, 4542.710223680565, 1428.6863309641258, 1684.3103798930094, 3864.635306677853, 513.785993306256, 2271.739673070908, 1995.9264654247888, 2046.8876109266191, 750.3696996697215, 2441.944045704722, 2955.036797289577, 2585.9274588363687, 8426.790090074155, 1353.8941608274997, 1850.3663620881423, 1691.0786836068344, 1119.4497595833416, 3553.5995229781415, 2137.5300414828635, 1898.9494887295064, 3078.777909046131, 2233.1629832889116, 1899.6647644860968, 2567.8415041218336, 2958.8212196211307, 3804.3856961856773, 4217.816183292861, 2917.9363176474462, 1669.9157097026598, 1079.2155787672773, 747.2615804719475, 524.9161350357256, 375.7366976654978, 221.09337017874537, 210.82649695771315, 207.70509888965194, 195.9303002556486, 159.6079889471378, 159.17972505509343, 415.4877463308478, 157.49540386009377, 150.10833137708258, 147.12357517610508, 139.91966481736134, 122.6067411365111, 119.11658654546113, 111.8427185200693, 109.873187035084, 107.63965845979162, 102.06996007282501, 99.66001634119911, 99.21517550394272, 99.10239498736192, 98.9138391383646, 96.70088094315207, 91.95988649543915, 86.22545843642216, 85.18486217888291, 547.6330787067623, 634.5172599826531, 170.46682191733268, 534.808291976611, 230.5738971971446, 386.69275707567243, 824.8653486651218, 200.62544704276928, 825.3836365304745, 263.0077467760146, 792.6131776098968, 766.7976492876315, 2885.455428852843, 740.7760957568563, 8426.790090074155, 1640.7372699527655, 611.2118752967003, 837.0215440963259, 2195.41983651091, 840.6009336432753, 1520.7792456460477, 2325.0920227478946, 3954.3079682228868, 446.4741273007742, 854.2703296055304, 1215.3959074733511, 1802.1820315420696, 3075.7508031219527, 1216.2963563775531, 4217.816183292861, 3553.5995229781415, 1800.865858160237, 2567.8415041218336, 2917.9363176474462, 2159.3795481442594, 609.6308855250445, 474.2829091302044, 955.5282187718927, 429.127887953899, 363.67192179599795, 357.52859438531635, 356.5644456707461, 286.26706528449023, 261.11321044120047, 246.20999915278205, 230.36919545128137, 224.09352549893424, 190.64471451234274, 176.7445422963567, 130.57443461982626, 145.81260178971323, 127.08547186869053, 123.80671458655267, 118.6550521604281, 116.15080711108476, 112.42241076343086, 105.79236765691928, 99.1357106576178, 98.74924032610625, 942.0855431585416, 94.8346883634962, 93.3451317829004, 92.99490578833014, 90.13086921276656, 114.77621201422939, 216.0728144321226, 336.8526780929856, 300.56126875599267, 1113.7530103883694, 221.92413537087066, 178.0242478415398, 922.4157407650673, 1608.3706192016464, 756.4245958592156, 742.4021124419924, 197.06947581342845, 313.9009717304341, 589.9779832881069, 857.421398861424, 1023.1427639544961, 497.686955769849, 1850.3663620881423, 2310.8442355849875, 458.5458576166977, 774.0672110660848, 1018.78072349657, 854.2703296055304, 1413.6575665861876, 4383.21523865488, 1091.0012963188847, 1640.7372699527655, 2325.0920227478946, 1114.0996041166927, 3804.3856961856773, 1751.5518025268261, 528.9961518292489, 445.5571968672909, 421.52113880823066, 329.25735353157233, 273.2516401707653, 220.6342159317056, 207.28388971458398, 177.20727396385328, 164.0149817490589, 157.32639063094754, 152.49161395876092, 131.51788601245477, 128.69051166792272, 123.98300980107621, 115.59945637614247, 114.97189282483225, 113.2826465197072, 99.45992442595718, 94.84000739430938, 94.24840773272535, 96.35453876033479, 90.02051931660417, 88.7192697893933, 86.7243981038265, 83.34867544263133, 79.1297993897958, 79.0029003865327, 74.41558642691719, 69.49676091795878, 68.6057500281678, 129.00642486141112, 505.8291630364935, 329.15680713797724, 93.4636298235948, 119.0631815876558, 250.77675674812795, 753.3055348480137, 587.3707726586954, 712.7827597158965, 1160.8858776439895, 446.0325880028294, 210.28684105564068, 609.9504404753379, 1609.9302049379532, 448.71331715061933, 1379.0200136636413, 331.3136523107489, 2947.3421629367504, 3864.635306677853, 4913.522466919157, 483.4703699062299, 1202.6167380528202, 371.4711887574453, 1196.676763648824, 2301.6784710223446, 610.650064947499, 2360.1890213812294, 649.4600330735102, 2078.8304753373063, 8426.790090074155, 672.6221841273706, 1862.4292232175244, 2134.3032141900976, 3804.3856961856773, 1960.5419127208934, 1914.9240521344286, 2262.779270448771, 4217.816183292861, 2230.9879868261696, 3078.777909046131, 4542.710223680565, 1552.3794487391217], \"Category\": [\"Default\", \"Default\", \"Default\", \"Default\", \"Default\", \"Default\", \"Default\", \"Default\", \"Default\", \"Default\", \"Default\", \"Default\", \"Default\", \"Default\", \"Default\", \"Default\", \"Default\", \"Default\", \"Default\", \"Default\", \"Default\", \"Default\", \"Default\", \"Default\", \"Default\", \"Default\", \"Default\", \"Default\", \"Default\", \"Default\", \"Topic1\", \"Topic1\", \"Topic1\", \"Topic1\", \"Topic1\", \"Topic1\", \"Topic1\", \"Topic1\", \"Topic1\", \"Topic1\", \"Topic1\", \"Topic1\", \"Topic1\", \"Topic1\", \"Topic1\", \"Topic1\", \"Topic1\", \"Topic1\", \"Topic1\", \"Topic1\", \"Topic1\", \"Topic1\", \"Topic1\", \"Topic1\", \"Topic1\", \"Topic1\", \"Topic1\", \"Topic1\", \"Topic1\", \"Topic1\", \"Topic1\", \"Topic1\", \"Topic1\", \"Topic1\", \"Topic1\", \"Topic1\", \"Topic1\", \"Topic1\", \"Topic1\", \"Topic1\", \"Topic1\", \"Topic1\", \"Topic1\", \"Topic1\", \"Topic1\", \"Topic1\", \"Topic1\", \"Topic1\", \"Topic1\", \"Topic1\", \"Topic1\", \"Topic1\", \"Topic1\", \"Topic1\", \"Topic1\", \"Topic1\", \"Topic1\", \"Topic1\", \"Topic1\", \"Topic1\", \"Topic1\", \"Topic1\", \"Topic1\", \"Topic1\", \"Topic1\", \"Topic1\", \"Topic1\", \"Topic1\", \"Topic2\", \"Topic2\", \"Topic2\", \"Topic2\", \"Topic2\", \"Topic2\", \"Topic2\", \"Topic2\", \"Topic2\", \"Topic2\", \"Topic2\", \"Topic2\", \"Topic2\", \"Topic2\", \"Topic2\", \"Topic2\", \"Topic2\", \"Topic2\", \"Topic2\", \"Topic2\", \"Topic2\", \"Topic2\", \"Topic2\", \"Topic2\", \"Topic2\", \"Topic2\", \"Topic2\", \"Topic2\", \"Topic2\", \"Topic2\", \"Topic2\", \"Topic2\", \"Topic2\", \"Topic2\", \"Topic2\", \"Topic2\", \"Topic2\", \"Topic2\", \"Topic2\", \"Topic2\", \"Topic2\", \"Topic2\", \"Topic2\", \"Topic2\", \"Topic2\", \"Topic2\", \"Topic2\", \"Topic2\", \"Topic2\", \"Topic2\", \"Topic2\", \"Topic2\", \"Topic2\", \"Topic2\", \"Topic2\", \"Topic2\", \"Topic2\", \"Topic2\", \"Topic2\", \"Topic2\", \"Topic2\", \"Topic2\", \"Topic2\", \"Topic2\", \"Topic2\", \"Topic2\", \"Topic2\", \"Topic2\", \"Topic2\", \"Topic2\", \"Topic2\", \"Topic3\", \"Topic3\", \"Topic3\", \"Topic3\", \"Topic3\", \"Topic3\", \"Topic3\", \"Topic3\", \"Topic3\", \"Topic3\", \"Topic3\", \"Topic3\", \"Topic3\", \"Topic3\", \"Topic3\", \"Topic3\", \"Topic3\", \"Topic3\", \"Topic3\", \"Topic3\", \"Topic3\", \"Topic3\", \"Topic3\", \"Topic3\", \"Topic3\", \"Topic3\", \"Topic3\", \"Topic3\", \"Topic3\", \"Topic3\", \"Topic3\", \"Topic3\", \"Topic3\", \"Topic3\", \"Topic3\", \"Topic3\", \"Topic3\", \"Topic3\", \"Topic3\", \"Topic3\", \"Topic3\", \"Topic3\", \"Topic3\", \"Topic3\", \"Topic3\", \"Topic3\", \"Topic3\", \"Topic3\", \"Topic3\", \"Topic3\", \"Topic3\", \"Topic3\", \"Topic3\", \"Topic3\", \"Topic3\", \"Topic3\", \"Topic3\", \"Topic3\", \"Topic3\", \"Topic3\", \"Topic3\", \"Topic3\", \"Topic3\", \"Topic3\", \"Topic3\", \"Topic3\", \"Topic3\", \"Topic3\", \"Topic3\", \"Topic3\", \"Topic3\", \"Topic3\", \"Topic3\", \"Topic3\", \"Topic4\", \"Topic4\", \"Topic4\", \"Topic4\", \"Topic4\", \"Topic4\", \"Topic4\", \"Topic4\", \"Topic4\", \"Topic4\", \"Topic4\", \"Topic4\", \"Topic4\", \"Topic4\", \"Topic4\", \"Topic4\", \"Topic4\", \"Topic4\", \"Topic4\", \"Topic4\", \"Topic4\", \"Topic4\", \"Topic4\", \"Topic4\", \"Topic4\", \"Topic4\", \"Topic4\", \"Topic4\", \"Topic4\", \"Topic4\", \"Topic4\", \"Topic4\", \"Topic4\", \"Topic4\", \"Topic4\", \"Topic4\", \"Topic4\", \"Topic4\", \"Topic4\", \"Topic4\", \"Topic4\", \"Topic4\", \"Topic4\", \"Topic4\", \"Topic4\", \"Topic4\", \"Topic4\", \"Topic4\", \"Topic4\", \"Topic4\", \"Topic4\", \"Topic4\", \"Topic4\", \"Topic4\", \"Topic4\", \"Topic4\", \"Topic4\", \"Topic4\", \"Topic4\", \"Topic4\", \"Topic4\", \"Topic4\", \"Topic4\", \"Topic4\", \"Topic4\", \"Topic4\", \"Topic4\", \"Topic5\", \"Topic5\", \"Topic5\", \"Topic5\", \"Topic5\", \"Topic5\", \"Topic5\", \"Topic5\", \"Topic5\", \"Topic5\", \"Topic5\", \"Topic5\", \"Topic5\", \"Topic5\", \"Topic5\", \"Topic5\", \"Topic5\", \"Topic5\", \"Topic5\", \"Topic5\", \"Topic5\", \"Topic5\", \"Topic5\", \"Topic5\", \"Topic5\", \"Topic5\", \"Topic5\", \"Topic5\", \"Topic5\", \"Topic5\", \"Topic5\", \"Topic5\", \"Topic5\", \"Topic5\", \"Topic5\", \"Topic5\", \"Topic5\", \"Topic5\", \"Topic5\", \"Topic5\", \"Topic5\", \"Topic5\", \"Topic5\", \"Topic5\", \"Topic5\", \"Topic5\", \"Topic5\", \"Topic5\", \"Topic5\", \"Topic5\", \"Topic5\", \"Topic5\", \"Topic5\", \"Topic5\", \"Topic5\", \"Topic5\", \"Topic5\", \"Topic5\", \"Topic5\", \"Topic5\", \"Topic5\", \"Topic5\", \"Topic5\", \"Topic5\", \"Topic5\", \"Topic6\", \"Topic6\", \"Topic6\", \"Topic6\", \"Topic6\", \"Topic6\", \"Topic6\", \"Topic6\", \"Topic6\", \"Topic6\", \"Topic6\", \"Topic6\", \"Topic6\", \"Topic6\", \"Topic6\", \"Topic6\", \"Topic6\", \"Topic6\", \"Topic6\", \"Topic6\", \"Topic6\", \"Topic6\", \"Topic6\", \"Topic6\", \"Topic6\", \"Topic6\", \"Topic6\", \"Topic6\", \"Topic6\", \"Topic6\", \"Topic6\", \"Topic6\", \"Topic6\", \"Topic6\", \"Topic6\", \"Topic6\", \"Topic6\", \"Topic6\", \"Topic6\", \"Topic6\", \"Topic6\", \"Topic6\", \"Topic6\", \"Topic6\", \"Topic6\", \"Topic6\", \"Topic6\", \"Topic6\", \"Topic6\", \"Topic6\", \"Topic6\", \"Topic6\", \"Topic6\", \"Topic6\", \"Topic6\", \"Topic6\", \"Topic6\", \"Topic6\", \"Topic6\", \"Topic6\", \"Topic6\", \"Topic6\", \"Topic6\", \"Topic6\", \"Topic7\", \"Topic7\", \"Topic7\", \"Topic7\", \"Topic7\", \"Topic7\", \"Topic7\", \"Topic7\", \"Topic7\", \"Topic7\", \"Topic7\", \"Topic7\", \"Topic7\", \"Topic7\", \"Topic7\", \"Topic7\", \"Topic7\", \"Topic7\", \"Topic7\", \"Topic7\", \"Topic7\", \"Topic7\", \"Topic7\", \"Topic7\", \"Topic7\", \"Topic7\", \"Topic7\", \"Topic7\", \"Topic7\", \"Topic7\", \"Topic7\", \"Topic7\", \"Topic7\", \"Topic7\", \"Topic7\", \"Topic7\", \"Topic7\", \"Topic7\", \"Topic7\", \"Topic7\", \"Topic7\", \"Topic7\", \"Topic7\", \"Topic7\", \"Topic7\", \"Topic7\", \"Topic7\", \"Topic7\", \"Topic7\", \"Topic7\", \"Topic7\", \"Topic7\", \"Topic7\", \"Topic7\", \"Topic7\", \"Topic7\", \"Topic7\", \"Topic7\", \"Topic7\", \"Topic7\", \"Topic7\", \"Topic8\", \"Topic8\", \"Topic8\", \"Topic8\", \"Topic8\", \"Topic8\", \"Topic8\", \"Topic8\", \"Topic8\", \"Topic8\", \"Topic8\", \"Topic8\", \"Topic8\", \"Topic8\", \"Topic8\", \"Topic8\", \"Topic8\", \"Topic8\", \"Topic8\", \"Topic8\", \"Topic8\", \"Topic8\", \"Topic8\", \"Topic8\", \"Topic8\", \"Topic8\", \"Topic8\", \"Topic8\", \"Topic8\", \"Topic8\", \"Topic8\", \"Topic8\", \"Topic8\", \"Topic8\", \"Topic8\", \"Topic8\", \"Topic8\", \"Topic8\", \"Topic8\", \"Topic8\", \"Topic8\", \"Topic8\", \"Topic8\", \"Topic8\", \"Topic8\", \"Topic8\", \"Topic8\", \"Topic8\", \"Topic8\", \"Topic8\", \"Topic8\", \"Topic8\", \"Topic8\", \"Topic8\", \"Topic8\", \"Topic8\", \"Topic8\", \"Topic8\", \"Topic8\", \"Topic8\", \"Topic8\", \"Topic8\", \"Topic8\", \"Topic8\", \"Topic8\", \"Topic8\", \"Topic8\", \"Topic8\", \"Topic8\", \"Topic8\", \"Topic8\", \"Topic8\"], \"logprob\": [30.0, 29.0, 28.0, 27.0, 26.0, 25.0, 24.0, 23.0, 22.0, 21.0, 20.0, 19.0, 18.0, 17.0, 16.0, 15.0, 14.0, 13.0, 12.0, 11.0, 10.0, 9.0, 8.0, 7.0, 6.0, 5.0, 4.0, 3.0, 2.0, 1.0, -5.425, -5.5434, -5.5555, -5.7371, -5.9047, -5.9219, -5.9831, -6.1851, -6.2217, -6.2842, -6.3094, -6.4723, -6.5997, -6.6408, -6.6836, -6.6902, -6.7055, -6.7307, -6.7351, -6.7493, -6.7849, -6.7968, -6.8133, -6.8389, -6.8523, -6.8914, -6.9286, -6.935, -6.9363, -6.9355, -5.3734, -4.8944, -5.2345, -6.2097, -5.7575, -6.491, -6.3149, -6.165, -5.7066, -6.5127, -5.2889, -6.3753, -5.0453, -5.6641, -5.6747, -5.6249, -6.1621, -5.3434, -4.7274, -5.8976, -4.7562, -5.2682, -4.9784, -4.8835, -4.4925, -5.3565, -5.7706, -5.672, -5.4667, -5.7545, -5.641, -5.7688, -5.7352, -5.7731, -5.7061, -5.7296, -5.7497, -5.7352, -5.362, -5.5811, -6.0942, -6.1484, -6.2824, -6.3814, -6.4531, -6.5009, -6.652, -6.6953, -6.7184, -6.7268, -6.7603, -6.7607, -6.9986, -7.0764, -7.077, -7.1576, -7.1665, -7.1867, -7.1961, -7.2114, -7.2573, -7.274, -7.3133, -7.3797, -5.7898, -7.4154, -7.4546, -7.469, -6.5415, -5.3898, -5.3154, -5.6965, -6.2374, -6.3178, -6.348, -4.6098, -6.4635, -5.506, -5.6951, -5.1436, -5.1255, -6.6604, -5.3756, -6.3024, -6.3059, -6.3005, -5.095, -5.537, -4.5197, -4.7259, -5.234, -5.7038, -5.4266, -5.032, -5.6192, -5.8839, -6.1658, -5.368, -5.8156, -5.5936, -5.0553, -5.509, -5.8526, -5.5725, -5.7369, -5.7309, -5.7087, -5.7632, -5.7693, -5.0635, -5.5228, -6.1836, -6.2488, -6.2731, -6.3783, -6.3932, -6.3823, -6.5019, -6.5036, -6.9157, -6.9196, -6.9942, -7.1655, -7.1898, -7.205, -7.2234, -7.2469, -7.4054, -7.4072, -7.5131, -7.5152, -7.5335, -7.5365, -7.5901, -7.6122, -7.6835, -7.6859, -7.7203, -7.7203, -4.1662, -6.0259, -6.3269, -5.2052, -5.2037, -4.5853, -6.1752, -5.5599, -6.7035, -6.6121, -4.8859, -4.1167, -5.3428, -6.0377, -5.3224, -4.5778, -6.7443, -6.4361, -5.1143, -3.9677, -4.5478, -6.0478, -4.7004, -6.0731, -5.3486, -5.2871, -5.646, -5.9418, -5.1349, -5.2666, -5.0802, -4.8993, -5.0462, -5.7913, -5.3662, -5.0383, -5.3341, -5.5465, -5.2635, -5.7086, -5.4321, -5.4719, -5.5219, -5.5257, -3.6758, -5.0987, -5.4777, -5.569, -5.9221, -5.9229, -5.9541, -6.1104, -6.1625, -6.3911, -6.4841, -6.5172, -6.6516, -6.4632, -6.7363, -6.7732, -6.8205, -6.8209, -6.9552, -6.9751, -6.9755, -7.0298, -7.0454, -7.065, -7.0855, -7.1383, -7.1571, -7.168, -7.1742, -7.2039, -6.3178, -6.1365, -4.2565, -5.9481, -6.004, -4.4496, -5.7732, -5.0791, -6.2085, -6.4561, -6.6167, -5.1637, -4.6298, -4.8545, -5.9439, -6.1692, -6.2977, -4.3071, -4.909, -5.3684, -5.2106, -4.2444, -5.095, -5.1002, -4.9348, -5.6893, -4.789, -5.2609, -5.4624, -5.2782, -5.3882, -4.7806, -5.2921, -5.4779, -5.54, -5.6515, -5.5578, -5.8396, -5.8773, -5.9623, -4.9821, -6.1049, -6.2701, -6.2947, -6.515, -6.7473, -6.8018, -6.8596, -6.9468, -6.9509, -6.9862, -7.1137, -7.1955, -7.2355, -7.2678, -7.2709, -7.3271, -7.377, -7.4126, -7.3907, -7.4624, -7.5082, -7.5427, -7.5777, -7.6243, -7.6612, -7.7769, -3.6179, -4.0838, -5.2603, -3.9976, -7.0184, -7.0808, -4.579, -4.2768, -5.3453, -5.2034, -4.5423, -6.3198, -5.1051, -5.2225, -5.2309, -6.0396, -5.1524, -5.0417, -5.1527, -4.3794, -5.6797, -5.4846, -5.5486, -5.8321, -5.0854, -5.4218, -5.5465, -5.309, -5.5134, -5.5961, -5.4667, -5.5136, -5.4669, -5.5096, -5.5863, -4.3509, -4.7877, -5.1557, -5.5093, -5.8443, -6.3762, -6.4239, -6.4389, -6.4975, -6.7035, -6.7062, -5.7468, -6.7169, -6.7652, -6.7854, -6.8359, -6.9689, -6.9979, -7.0614, -7.0793, -7.1, -7.1536, -7.1777, -7.1822, -7.1833, -7.1852, -7.2081, -7.2588, -7.3238, -7.3361, -5.4826, -5.3668, -6.6593, -5.5714, -6.3745, -5.8968, -5.1934, -6.5479, -5.2835, -6.306, -5.4004, -5.4283, -4.4083, -5.5326, -3.7053, -4.9651, -5.7086, -5.4775, -4.7696, -5.514, -5.1226, -4.8555, -4.5663, -6.0, -5.6323, -5.4648, -5.2524, -5.0046, -5.4977, -5.1596, -5.2998, -5.4955, -5.5404, -5.5874, -3.7236, -4.9893, -5.2407, -4.5403, -5.341, -5.5068, -5.5239, -5.5266, -5.7468, -5.8391, -5.898, -5.9647, -5.9925, -6.1548, -6.2308, -6.5353, -6.425, -6.5626, -6.5889, -6.6317, -6.6532, -6.686, -6.7473, -6.8128, -6.8168, -4.5615, -6.8576, -6.8735, -6.8773, -6.9089, -6.6679, -6.0542, -5.6537, -5.7696, -4.6256, -6.0954, -6.2934, -4.8945, -4.4866, -5.1131, -5.1489, -6.2262, -5.8763, -5.4346, -5.2768, -5.2268, -5.6899, -4.9722, -4.9809, -5.787, -5.5768, -5.4762, -5.5665, -5.5329, -5.2972, -5.6159, -5.548, -5.52, -5.6174, -5.5142, -5.5813, -5.3055, -5.4775, -5.533, -5.7806, -5.9676, -6.1823, -6.2449, -6.4024, -6.4802, -6.522, -6.5534, -6.7023, -6.7242, -6.7617, -6.8322, -6.8377, -6.8526, -6.9838, -7.0318, -7.0381, -7.0163, -7.0845, -7.0992, -7.1221, -7.1622, -7.2147, -7.2164, -7.2769, -7.3461, -7.3591, -6.7419, -5.4186, -5.8657, -7.0617, -6.8419, -6.1791, -5.217, -5.4521, -5.3026, -4.8844, -5.7877, -6.3945, -5.564, -4.8514, -5.8389, -5.0362, -6.0694, -4.5141, -4.348, -4.2446, -5.8238, -5.2191, -6.015, -5.2568, -4.8421, -5.7179, -4.9486, -5.7032, -5.1719, -4.5033, -5.7249, -5.3406, -5.2999, -5.1168, -5.3814, -5.397, -5.392, -5.2731, -5.4218, -5.3529, -5.2789, -5.5347], \"loglift\": [30.0, 29.0, 28.0, 27.0, 26.0, 25.0, 24.0, 23.0, 22.0, 21.0, 20.0, 19.0, 18.0, 17.0, 16.0, 15.0, 14.0, 13.0, 12.0, 11.0, 10.0, 9.0, 8.0, 7.0, 6.0, 5.0, 4.0, 3.0, 2.0, 1.0, 2.6162, 2.6159, 2.6159, 2.6153, 2.6147, 2.6146, 2.6143, 2.6134, 2.613, 2.6128, 2.6127, 2.6116, 2.6106, 2.6103, 2.6099, 2.6099, 2.6097, 2.6095, 2.6095, 2.6093, 2.609, 2.6089, 2.6087, 2.6085, 2.6083, 2.6079, 2.6075, 2.6074, 2.6074, 2.6074, 2.5858, 2.5557, 2.5453, 2.5821, 2.5632, 2.5907, 2.5802, 2.563, 2.5182, 2.5852, 2.4427, 2.5641, 2.3746, 2.463, 2.4501, 2.4278, 2.4819, 2.1296, 1.8658, 2.321, 1.6965, 1.955, 1.7867, 1.7304, 1.1151, 1.6594, 1.9792, 1.7659, 1.4004, 1.769, 1.2667, 1.46, 1.1434, 1.4323, 0.4219, 0.67, 0.9962, 0.2728, 2.0507, 2.0504, 2.0492, 2.0491, 2.0487, 2.0483, 2.048, 2.0478, 2.0472, 2.0469, 2.0468, 2.0468, 2.0466, 2.0466, 2.0451, 2.0446, 2.0446, 2.0439, 2.0439, 2.0437, 2.0436, 2.0435, 2.0431, 2.043, 2.0426, 2.0418, 2.0418, 2.0416, 2.0411, 2.041, 2.0341, 1.9983, 1.9742, 1.9839, 2.0021, 2.0033, 1.996, 1.8549, 1.9912, 1.9176, 1.9028, 1.84, 1.7591, 1.9847, 1.7655, 1.9195, 1.919, 1.8996, 1.4835, 1.5236, 1.0502, 1.0953, 1.2274, 1.5115, 1.2609, 0.9626, 1.3944, 1.559, 1.791, 0.972, 1.3983, 1.0741, 0.2523, 0.592, 1.2224, 0.3347, 0.8241, 0.7439, 0.5041, 0.74, 0.2077, 2.0346, 2.034, 2.0325, 2.0323, 2.0322, 2.0319, 2.0318, 2.0318, 2.0314, 2.0314, 2.0292, 2.0292, 2.0287, 2.0274, 2.0272, 2.0271, 2.0269, 2.0267, 2.0252, 2.0252, 2.024, 2.024, 2.0238, 2.0238, 2.0231, 2.0227, 2.0219, 2.0219, 2.0214, 2.0214, 1.9943, 2.0088, 2.0045, 1.9803, 1.9548, 1.9024, 1.9598, 1.9181, 1.9767, 1.9695, 1.8411, 1.7752, 1.859, 1.9147, 1.843, 1.7165, 1.9695, 1.9192, 1.6395, 1.385, 1.4292, 1.8103, 1.4067, 1.8122, 1.5658, 1.4588, 1.6275, 1.7539, 1.2816, 1.3434, 1.1902, 0.7774, 0.8149, 1.5224, 0.9894, 0.4671, 0.8649, 1.1495, 0.3451, 1.3056, 0.4529, 0.388, 0.3419, 0.3481, 2.0443, 2.0435, 2.0431, 2.0429, 2.0422, 2.0422, 2.0421, 2.0417, 2.0416, 2.0408, 2.0405, 2.0403, 2.0397, 2.0397, 2.0393, 2.0391, 2.0388, 2.0388, 2.038, 2.0378, 2.0378, 2.0375, 2.0374, 2.0372, 2.0371, 2.0367, 2.0365, 2.0364, 2.0364, 2.0361, 2.0326, 2.0286, 1.9689, 2.009, 2.0051, 1.9493, 1.9867, 1.9373, 1.9966, 2.0005, 2.0117, 1.9007, 1.8403, 1.8432, 1.9391, 1.9547, 1.9639, 1.6001, 1.6895, 1.7602, 1.6992, 1.3633, 1.5218, 1.5138, 1.1762, 1.6438, 0.8195, 1.2086, 1.3143, 0.9932, 1.1007, 0.0327, 0.8125, 0.6634, 0.7641, 1.0645, -0.0524, 1.4897, 1.4896, 1.4895, 1.4894, 1.4893, 1.489, 1.4885, 1.4885, 1.4878, 1.4877, 1.4875, 1.4872, 1.4871, 1.487, 1.4865, 1.4861, 1.4859, 1.4857, 1.4857, 1.4854, 1.4851, 1.4849, 1.4848, 1.4846, 1.4843, 1.4841, 1.4839, 1.4835, 1.4832, 1.4823, 1.3931, 1.3831, 1.379, 1.31, 1.4443, 1.4478, 1.2249, 1.1544, 1.2427, 1.2199, 1.0505, 1.2908, 1.019, 1.031, 0.9975, 1.1922, 0.8995, 0.8194, 0.8419, 0.4339, 0.962, 0.8447, 0.8707, 0.9998, 0.5913, 0.7633, 0.7569, 0.5112, 0.6278, 0.7069, 0.5349, 0.3463, 0.1416, -0.0042, 0.2875, 2.081, 2.0807, 2.0804, 2.0799, 2.0792, 2.0777, 2.0775, 2.0774, 2.0772, 2.0762, 2.0762, 2.0762, 2.0761, 2.0759, 2.0757, 2.0755, 2.0746, 2.0744, 2.0739, 2.0738, 2.0736, 2.0732, 2.073, 2.073, 2.073, 2.0729, 2.0728, 2.0723, 2.0717, 2.0716, 2.0642, 2.0328, 2.0546, 1.9992, 2.0373, 1.998, 1.9438, 2.0031, 1.8531, 1.9742, 1.7767, 1.7819, 1.4767, 1.7122, 1.108, 1.4845, 1.7284, 1.6451, 1.3887, 1.6043, 1.4029, 1.2454, 1.0036, 1.751, 1.4699, 1.2848, 1.1033, 0.8165, 1.2512, 0.3457, 0.3769, 0.861, 0.4612, 0.2864, 2.4513, 2.4503, 2.4499, 2.4499, 2.4497, 2.4494, 2.4493, 2.4493, 2.4487, 2.4484, 2.4482, 2.448, 2.4479, 2.4472, 2.4469, 2.4452, 2.4451, 2.445, 2.4448, 2.4445, 2.4444, 2.4441, 2.4437, 2.4431, 2.4431, 2.4429, 2.4427, 2.4426, 2.4426, 2.4423, 2.4416, 2.4226, 2.379, 2.3772, 2.2113, 2.3547, 2.3771, 2.131, 1.9829, 2.1107, 2.0937, 2.3427, 2.2271, 2.0377, 1.8217, 1.695, 1.9525, 1.3571, 1.1262, 1.9374, 1.624, 1.4499, 1.5357, 1.0656, 0.1697, 1.2417, 0.9015, 0.5809, 1.2193, 0.0944, 0.8029, 2.276, 2.2757, 2.2755, 2.275, 2.2744, 2.2737, 2.2734, 2.2727, 2.2723, 2.2721, 2.2719, 2.271, 2.2709, 2.2706, 2.2701, 2.27, 2.2699, 2.2688, 2.2684, 2.2684, 2.2681, 2.2679, 2.2678, 2.2676, 2.2672, 2.2666, 2.2666, 2.2659, 2.2651, 2.2649, 2.2507, 2.2076, 2.1902, 2.2532, 2.2309, 2.1488, 2.0109, 2.0247, 1.9807, 1.9111, 1.9643, 2.1095, 1.8751, 1.6171, 1.9072, 1.5871, 1.98, 1.3497, 1.2449, 1.1081, 1.8477, 1.5411, 1.92, 1.5083, 1.2689, 1.72, 1.1373, 1.6731, 1.041, 0.31, 1.6164, 0.9822, 0.8867, 0.4917, 0.8901, 0.898, 0.7361, 0.2322, 0.7205, 0.4673, 0.1522, 0.9702]}, \"token.table\": {\"Topic\": [4, 3, 1, 2, 3, 5, 8, 2, 8, 3, 2, 3, 4, 8, 8, 3, 5, 1, 6, 3, 4, 5, 7, 8, 1, 2, 3, 4, 5, 6, 7, 8, 6, 7, 7, 2, 2, 6, 6, 8, 1, 4, 6, 4, 4, 1, 2, 3, 4, 5, 6, 7, 8, 1, 4, 1, 2, 3, 4, 5, 6, 7, 8, 1, 2, 5, 6, 7, 1, 7, 3, 4, 2, 3, 5, 6, 5, 7, 4, 1, 2, 3, 4, 5, 6, 7, 3, 2, 2, 2, 3, 4, 5, 7, 8, 8, 8, 7, 3, 5, 7, 5, 5, 5, 1, 2, 3, 4, 5, 7, 8, 5, 5, 1, 8, 1, 2, 7, 2, 5, 6, 8, 4, 6, 7, 2, 3, 1, 2, 3, 4, 5, 7, 8, 5, 8, 8, 2, 3, 4, 5, 6, 7, 8, 1, 1, 2, 3, 4, 5, 6, 7, 8, 5, 7, 3, 4, 8, 3, 6, 7, 2, 5, 6, 2, 5, 6, 8, 6, 5, 4, 4, 3, 3, 3, 4, 8, 5, 2, 3, 4, 5, 6, 8, 1, 3, 4, 5, 6, 7, 1, 2, 3, 4, 5, 6, 7, 8, 3, 5, 3, 1, 2, 3, 5, 5, 5, 1, 3, 5, 1, 2, 3, 4, 5, 6, 7, 8, 1, 2, 5, 6, 7, 8, 1, 2, 3, 4, 5, 6, 7, 8, 1, 4, 1, 8, 2, 4, 5, 6, 7, 3, 4, 5, 7, 1, 2, 3, 4, 5, 7, 8, 3, 1, 2, 4, 5, 7, 8, 2, 5, 6, 8, 1, 3, 4, 5, 6, 7, 8, 2, 2, 7, 2, 3, 6, 7, 2, 3, 5, 6, 2, 1, 2, 3, 4, 5, 6, 7, 8, 2, 3, 4, 5, 8, 3, 4, 5, 6, 8, 6, 5, 5, 5, 6, 8, 2, 4, 5, 7, 8, 5, 6, 8, 7, 4, 8, 7, 1, 3, 4, 5, 6, 8, 2, 6, 1, 2, 3, 4, 5, 6, 7, 8, 1, 2, 3, 4, 5, 6, 7, 8, 4, 1, 4, 7, 6, 1, 2, 4, 5, 7, 7, 2, 7, 7, 7, 2, 6, 8, 2, 2, 5, 2, 3, 6, 7, 1, 2, 3, 6, 7, 8, 1, 2, 3, 4, 5, 7, 8, 1, 3, 4, 8, 7, 7, 8, 1, 2, 3, 5, 6, 3, 5, 5, 3, 3, 1, 8, 2, 5, 5, 1, 2, 3, 4, 5, 6, 7, 8, 1, 4, 5, 8, 2, 1, 3, 6, 7, 1, 3, 7, 2, 3, 4, 5, 6, 7, 1, 4, 1, 4, 7, 1, 2, 3, 5, 6, 7, 8, 4, 6, 2, 5, 1, 4, 5, 6, 7, 8, 3, 4, 5, 6, 6, 7, 1, 4, 1, 1, 4, 2, 5, 2, 3, 5, 8, 2, 2, 1, 2, 3, 4, 5, 6, 7, 8, 1, 2, 3, 5, 6, 7, 8, 1, 2, 3, 5, 6, 7, 8, 5, 6, 8, 3, 8, 2, 5, 6, 2, 3, 4, 5, 8, 8, 3, 4, 2, 7, 2, 5, 1, 2, 3, 4, 5, 6, 7, 8, 3, 4, 7, 6, 2, 2, 3, 4, 5, 7, 8, 3, 2, 2, 1, 3, 4, 5, 6, 7, 8, 2, 3, 4, 5, 7, 8, 4, 6, 3, 1, 2, 6, 7, 8, 7, 4, 6, 1, 8, 1, 1, 3, 4, 5, 6, 8, 1, 2, 3, 4, 5, 6, 7, 8, 2, 3, 6, 6, 7, 6, 3, 6, 1, 5, 6, 2, 3, 5, 1, 2, 3, 4, 5, 6, 7, 8, 2, 6, 1, 2, 3, 5, 6, 7, 8, 2, 3, 4, 5, 7, 8, 1, 2, 3, 4, 5, 6, 7, 8, 3, 4, 5, 6, 7, 8, 3, 4, 5, 6, 7, 8, 3, 1, 2, 4, 5, 6, 8, 7, 7, 2, 3, 5, 7, 4, 3, 4, 5, 8, 5, 2, 3, 5, 6, 1, 8, 7, 2, 3, 5, 6, 8, 4, 8, 2, 5, 8, 2, 5, 1, 2, 3, 4, 5, 6, 7, 8, 4, 4, 1, 2, 3, 4, 5, 6, 7, 8, 8, 1, 4, 2, 3, 4, 5, 6, 7, 8, 2, 3, 5, 3, 7, 8, 3, 4, 1, 2, 3, 8, 1, 2, 3, 4, 7, 4, 2, 3, 5, 6, 7, 8, 2, 8, 5, 1, 4, 1, 6, 2, 3, 4, 5, 8, 2, 3, 5, 8, 2, 5, 2, 5, 5, 5, 7, 5, 5, 1, 2, 3, 5, 6, 7, 8, 1, 3, 7, 8, 1, 1, 2, 4, 7, 7, 4, 8, 2, 4, 4, 4, 8, 4, 1, 2, 3, 4, 5, 6, 7, 8, 1, 8, 1, 2, 3, 5, 6, 1, 7, 1, 2, 3, 4, 5, 6, 7, 8, 2, 6, 1, 2, 4, 5, 7, 2, 6, 7, 6, 7, 6, 1, 2, 3, 4, 5, 6, 7, 8, 4, 5, 6, 7, 4, 1, 2, 3, 4, 5, 8, 3, 4, 5, 8, 2, 3, 4, 5, 6, 7, 8, 1, 2, 3, 4, 5, 6, 7, 8, 2, 3, 5, 2, 3, 5, 8, 3, 5, 3, 8, 7, 1, 6, 2, 3, 6, 7, 8, 6, 7, 3, 1, 2, 3, 4, 5, 6, 7, 1, 2, 3, 4, 5, 7, 8, 3, 7, 1, 8, 1, 2, 3, 4, 5, 7, 8, 8, 2, 4, 5, 7, 2, 3, 6, 8, 2, 1, 2, 3, 4, 5, 6, 7, 8, 1, 2, 4, 5, 6, 7, 8, 5, 2, 3, 4, 5, 6, 7, 8, 7, 1, 1, 2, 3, 4, 5, 6, 7, 8, 8, 1, 3, 4, 5, 6, 8, 1, 2, 4, 5, 8, 3, 1, 2, 3, 4, 6, 1, 4, 4, 1, 4, 5, 8, 3, 5, 8, 2, 3, 4, 5, 8, 1, 4, 1, 4, 1, 2, 3, 4, 5, 6, 7, 8, 1, 3, 4, 5, 6, 8, 2, 3, 4, 5, 6, 7, 8, 2, 3, 5, 6, 5, 2, 3, 5, 1, 2, 8, 7, 1, 3, 4, 8, 1, 2, 3, 4, 5, 8, 2, 3, 5, 6, 5, 6, 5, 5, 1, 2, 3, 4, 5, 6, 7, 8, 2, 4, 7, 8, 2, 1, 2, 2, 5, 6, 5, 8, 1, 2, 3, 4, 5, 6, 3, 6, 4, 2, 4, 6, 7, 8, 7, 2, 5, 6, 8, 2, 4, 2, 5, 8, 1, 4, 4, 3, 4, 5, 6, 8, 6, 6, 8, 1, 4, 1, 2, 3, 4, 7, 4, 2, 5, 2, 3, 6, 7, 7, 1, 4, 5, 8, 3, 4, 4, 8, 8, 1, 2, 3, 4, 5, 8, 1, 2, 5, 7, 1, 2, 3, 4, 5, 6, 7, 8, 8, 1, 3, 7, 2, 3, 5, 8, 1, 2, 4, 6, 8, 1, 2, 3, 5, 8, 2, 3, 5, 7, 8, 1, 1, 2, 3, 4, 5, 8, 1, 2, 3, 4, 6, 3, 5, 6, 8, 5, 8, 8, 2, 3, 4, 5, 6, 7, 8, 2, 3, 5, 6, 8, 2, 5, 6, 8, 6, 7, 1, 2, 3, 4, 6, 8, 5, 3, 6, 1, 3, 3, 4, 8, 3, 1, 2, 4, 5, 7, 8, 1, 1, 4, 4, 1, 4, 8, 1, 2, 3, 4, 5, 6, 7, 8, 3, 5, 6, 7, 8, 1, 2, 3, 4, 5, 6, 7, 8, 7, 1, 1, 2, 3, 4, 5, 6, 7, 8, 3, 4, 5, 7, 8, 6, 6, 6, 2, 6, 6, 2, 5, 3, 1, 2, 8, 6, 8, 6, 6, 6, 6, 1, 6, 7, 8, 6, 1, 1, 2, 3, 4, 5, 6, 7, 8, 4, 4, 7, 4, 4, 1, 2, 3, 4, 5, 6, 8, 5, 1, 1, 7, 8, 1, 4, 7, 1, 1, 8, 3, 1, 6, 8, 8, 8, 8, 4, 1, 8, 4, 5, 7, 6, 5, 6, 7, 5, 8, 2, 1, 2, 3, 4, 5, 6, 7, 8, 3, 3, 6, 3, 8, 1, 2, 3, 4, 5, 6, 7, 8, 1, 2, 3, 4, 5, 6, 7, 8], \"Freq\": [0.9909559295373599, 0.9817200187432028, 0.9956839434448173, 0.9980629832614523, 0.9980860999864254, 0.9966062234003189, 0.9967761246274573, 0.944233678301444, 0.052682565742140655, 0.9958009158185737, 0.0016394774618421362, 0.09181073786315963, 0.23772423196710976, 0.6689068044315916, 0.9920714152475134, 0.995884742818003, 0.9976343828524982, 0.9936687150018279, 0.9952518816414064, 0.4125513554160232, 0.0031194809483253176, 0.30180978175047446, 0.03587403090574115, 0.24565912468061876, 0.005709223093244394, 0.15300717889894977, 0.21980508908990917, 0.005138300783919954, 0.1318830534539455, 0.1450142665684076, 0.19240081824233607, 0.1478688781150298, 0.10148705129217778, 0.8981604039357732, 0.997371674073021, 0.9914436771562694, 0.9866375691369678, 0.9860906955933699, 0.9221163253560838, 0.06978177597289283, 0.8547128188193915, 0.1402772946917322, 0.9920527741239983, 0.9968245785654362, 0.9997754478419476, 0.0067234786061484714, 0.052891365035034645, 0.21694424302505735, 0.07799235183132228, 0.29672952248468587, 0.05782191601287686, 0.08068174327378166, 0.21066899632598546, 0.013553376534307379, 0.982619798737285, 0.06887493727351293, 0.093707397651038, 0.12837913478192206, 0.08152543595640306, 0.17476429661918585, 0.2010023679614765, 0.00281122192953114, 0.2487931407635059, 0.010576070693355595, 0.07667651252682806, 0.14806498970697832, 0.052880353466777975, 0.7112407541281637, 0.023140347447877144, 0.97189459281084, 0.9903906422232984, 0.9927731215285965, 0.1052692577824061, 0.09183062912933299, 0.08287154336061757, 0.7189666329394119, 0.1975145207681714, 0.7996152373034034, 0.9886772611495386, 0.0013205738472422059, 0.057224866713828926, 0.18223919091942442, 0.043578936958992794, 0.6237510471807353, 0.03213396361622701, 0.05986601440831334, 0.9872256871696802, 0.9935623340004824, 0.997994474495277, 0.9941506539088696, 0.14478653575725156, 0.10755571227681546, 0.04136758164492902, 0.05377785613840773, 0.6515394109076321, 0.9928520277578805, 0.9857222007573863, 0.9951202271618532, 0.9803267978888098, 0.9987022380406977, 0.0012460414697950065, 0.9933181296163359, 0.9939515232916404, 0.9969284138059866, 0.4707254511896034, 0.00281450195031153, 0.09780394277332567, 0.08513868399692379, 0.1892752561584504, 0.010554382313668238, 0.14424322495346592, 0.9989133476505404, 0.9979414347178465, 0.8390724119967786, 0.16034629862765665, 0.9953318419751062, 0.9957575558012935, 0.9981523957288766, 0.875131938686597, 0.014346425224370444, 0.07531873242794483, 0.0322794567548335, 0.0151775380463349, 0.2591022566481458, 0.7252694966427178, 0.10657055388396891, 0.8894542381854329, 0.034988332788091464, 0.05274360614324236, 0.2616291750273705, 0.12689798309710784, 0.25536260796084664, 0.01671084551073025, 0.2517071105053744, 0.6437864902028112, 0.3560491199835483, 0.9886634811223985, 0.3397792059950698, 0.21577618387146716, 0.04697911851378778, 0.07593136596995932, 0.08357912944894803, 0.08084778534930921, 0.1573254201391963, 0.9877772954716758, 0.041795860182848615, 0.15806434396422747, 0.545245994203525, 0.03761627416456375, 0.05471458060300182, 0.014818532246646325, 0.04521552147053622, 0.10220987626532979, 0.4665150654405907, 0.5329934622658749, 0.9929913451078362, 0.041994510253523985, 0.9574748337803469, 0.05618830285509808, 0.5419830046231335, 0.4003416578425738, 0.5196401161638194, 0.4790636839192895, 0.9895618999542072, 0.13499649390470086, 0.03406453584511143, 0.7368032938350028, 0.09336206120512021, 0.9924651463124256, 0.9921281639097537, 0.9977914664289058, 0.9920399265162474, 0.9975536409046376, 0.9970409399035738, 0.9957230117287998, 0.962546959988969, 0.03769009180679698, 0.9948302091736393, 0.008476511677778643, 0.7544095393222993, 0.02542953503333593, 0.10383726805278838, 0.03390604671111457, 0.07416947718056313, 0.9902734287094468, 0.5331384872369472, 0.12203332256559994, 0.07875909470545812, 0.00043274227860141826, 0.2657037590612708, 0.31356711324668146, 0.15944090504068548, 0.02790215838211996, 0.12888139824122077, 0.11160863352847984, 0.10230791406777319, 0.0318881810081371, 0.12356670140653125, 0.9725888537363131, 0.02379422272137769, 0.9942259565535818, 0.017517020933334994, 0.06617541241482108, 0.09731678296297219, 0.8194073125482259, 0.9980070086134363, 0.9916673285175028, 0.9461484030847452, 0.019793899646124376, 0.031670239433799006, 0.017608921087129414, 0.014332842745337897, 0.12858607491531712, 0.11425323216997924, 0.5536572397627667, 0.08394950750840768, 0.022523038599816695, 0.06552156683583038, 0.4281288125068324, 0.3175288692759007, 0.03210966093801243, 0.049948361459130446, 0.1123838132830435, 0.05886771171968945, 0.037774917121753064, 0.06737175940271423, 0.12461828328825754, 0.01129353192299834, 0.3843695175172194, 0.19783152472010884, 0.07516040210823033, 0.10164178730698506, 0.026928849181746376, 0.9694385705428696, 0.4257757673739929, 0.5731596868496058, 0.9920784343323394, 0.011899042940046768, 0.7804372281265968, 0.17358603818421167, 0.033597297713073224, 0.038548329134969646, 0.23377696378626756, 0.10196654803443585, 0.6254777275770882, 0.5152241458228415, 0.04359588926193274, 0.006605437766959506, 0.12154005491205491, 0.01056870042713521, 0.107008091824744, 0.19552095790200139, 0.9888391874689816, 0.11284485626258428, 0.10595356733051807, 0.043931966941922126, 0.013782577864132431, 0.03101080019429797, 0.6934359487891629, 0.8211334583074794, 0.03341462452796073, 0.14417791694471943, 0.0006187893431103839, 0.02238976750651761, 0.16881884699914276, 0.2512131914231276, 0.42182321982279175, 0.002238976750651761, 0.06000457691746719, 0.0729906420712474, 0.9959385272995478, 0.9960712796869421, 0.9956007114141543, 0.28795252041620495, 0.0032721877320023287, 0.7018842685144995, 0.0065443754640046575, 0.26904813319619464, 0.2715164646934074, 0.008227771657375982, 0.4508818868242038, 0.9883580762225068, 0.006779118051585751, 0.07457029856744327, 0.08389158588837367, 0.07584138320211559, 0.34742980014376973, 0.05508033416913423, 0.03643775952727341, 0.3198896330592026, 0.0034050042887682867, 0.11066263938496931, 0.017025021443841434, 0.09363761794112788, 0.7763409778391693, 0.9867547227857274, 0.029356951011941787, 0.9067393243589902, 0.042227732490083755, 0.02154771281172082, 0.9923630514364529, 0.9928383054031796, 0.9975085481081118, 0.2360466286877016, 0.7407430115724558, 0.022170125346358715, 0.02359423961212134, 0.669486548993943, 0.03834063936969718, 0.2433155960000013, 0.02506887958787892, 0.16814914877817008, 0.10088948926690204, 0.730888300022446, 0.9944793571912772, 0.9569995493646174, 0.040819885991855716, 0.9900921298809043, 0.2224453502105646, 0.001313136660038752, 0.506082868778935, 0.21272813892627784, 0.011818229940348769, 0.04595978310135632, 0.07853281377663607, 0.9218256474257519, 0.0036889799689916397, 0.004742974245846394, 0.22713576666219953, 0.27772749195122776, 0.3573040598537617, 0.0553346995348746, 0.010539942768547542, 0.06323965661128525, 0.03993978948030054, 0.05769080702710078, 0.11284575440465866, 0.38925445620483384, 0.19082343862810258, 0.07924561404821535, 0.02028687719634313, 0.10967592984273004, 0.9988667245651582, 0.24639441236131954, 0.7524044006740782, 0.9924126978229708, 0.9940574090540193, 0.026502268228371033, 0.011778785879276015, 0.30134060541147806, 0.29250651600202104, 0.3671054932374358, 0.9989651352317868, 0.9963268647583965, 0.995573834931968, 0.988543879394377, 0.9874530311019527, 0.9247845172541528, 0.005647539036666582, 0.06777046843999898, 0.9924524835073482, 0.9472783509123021, 0.05141477891464798, 0.08440042594346497, 0.6247571759493269, 0.14260761624930288, 0.14745821544145604, 0.19657129325849895, 0.2522216137243754, 0.045776876512253185, 0.1346378720948623, 0.29171538953886833, 0.07898755162898588, 0.02566449746161987, 0.11090729260200013, 0.2291472987644631, 0.023831319071504164, 0.22181458520400027, 0.29789148839380203, 0.09074233031072738, 0.14263004362430626, 0.10697253271822968, 0.057943455222374415, 0.6908642738052334, 0.9984169883520374, 0.9914587257478803, 0.9960622389231095, 0.005937147998004512, 0.03146688438942391, 0.12942982635649836, 0.7623298029437794, 0.0706520611762537, 0.9595354787716578, 0.040170847826786815, 0.9947975997719143, 0.9908739631931958, 0.9953533186266351, 0.23363693993767032, 0.7659574678638397, 0.9527046409547145, 0.04745272158011988, 0.9917496025280518, 0.03885065540883831, 0.16360442666610797, 0.11914200992043747, 0.2918115895152744, 0.22662882321822345, 0.0673411360419864, 0.010791848724677307, 0.08201805030754754, 0.5279315849953063, 0.011184991207527677, 0.022369982415055355, 0.43845165533508496, 0.9874757091212987, 0.003799177346506558, 0.8750771821453439, 0.11524171284403226, 0.005698766019759837, 0.9957611997919388, 0.06986928185031258, 0.9282633160112957, 0.016288589846173977, 0.2055134846549185, 0.030497785243900215, 0.18679893461888883, 0.5461876084589402, 0.014209195397726236, 0.8267554817992264, 0.17261927641961872, 0.9745141972026347, 0.02542210949224264, 0.9985215325609826, 0.0594158634943033, 0.2110096086713575, 0.09328845857049489, 0.20101441668166162, 0.2948581636960285, 0.09217788168275091, 0.04886538306073542, 0.016434361527710373, 0.9824096113231311, 0.9926646096511539, 0.9929262226212147, 0.050218979614010256, 0.7078944626359523, 0.1564514364898012, 0.050218979614010256, 0.019314992159234715, 0.015451993727387772, 0.5987696299440697, 0.12293579358755054, 0.22996224918141805, 0.04772801398104903, 0.9584779660077535, 0.03903303933968227, 0.9894026134378265, 0.9927608749306124, 0.9972888767994084, 0.9645703851588393, 0.025836706745326055, 0.9415492738976142, 0.05432015041717005, 0.8088793064949809, 0.008317525002519083, 0.14659637816939886, 0.035349481260706105, 0.9931519361144345, 0.9918295804174685, 0.0006854159180596778, 0.13605505973484605, 0.185062297876113, 0.011309362647984683, 0.3002121721101389, 0.16621336012947188, 0.09630093648738473, 0.10452592750410086, 0.023518653768840193, 0.3671944652941501, 0.037933312530387404, 0.18511456514829056, 0.34038825777267634, 0.005816441254659402, 0.040209311282210655, 0.027635528832089775, 0.38429641270035425, 0.05397056218972826, 0.2444931491968413, 0.2822075179559285, 0.007152725109482059, 0.0006502477372256417, 0.2227393688121352, 0.6911670111018984, 0.08504594081917889, 0.9948003379700392, 0.9938116522147238, 0.610564247985752, 0.23040160301349133, 0.15798967063782263, 0.017409347615925313, 0.2101556962208127, 0.4333684031535694, 0.2325391431555738, 0.1063213729401153, 0.9916471244578803, 0.03302634520180095, 0.9660205971526777, 0.9363650161022486, 0.06023400688377038, 0.9808180507960464, 0.015325282043688226, 0.027037794466758552, 0.1382307242113031, 0.1926442855756547, 0.14803192470550308, 0.318370029846082, 0.07266407262941361, 0.028727656620930964, 0.07435393478358603, 0.17576465533324848, 0.8178915294840495, 0.00624940996740439, 0.9966052884911288, 0.9942370881934637, 0.5185582682183435, 0.0010714013806164121, 0.017142422089862594, 0.2657075423928702, 0.04714166074712213, 0.1499961932862977, 0.9804639461217328, 0.9976443399510362, 0.9965495544966735, 0.023305081986674754, 0.3512408785134552, 0.022750199082230117, 0.18921507041562122, 0.3762106092134639, 0.02829902812667649, 0.00943300937555883, 0.5819706029128942, 0.03276861502887917, 0.041943827236965346, 0.2936067906587574, 0.02621489202310334, 0.020971913618482673, 0.023464976674110734, 0.9737965319755956, 0.9907367806221524, 0.01975303302868607, 0.017957302753350973, 0.1643093201931614, 0.7865298605967727, 0.011672246789678133, 0.9932371699622465, 0.07758097210527597, 0.9206275356492748, 0.963359562578472, 0.0351591081233019, 0.9928935944415067, 0.01697246710951815, 0.014547828951015557, 0.0012123190792512964, 0.08971161186459593, 0.8716574179816821, 0.006061595396256482, 0.2960926708769141, 0.2738857205611455, 0.05644266538591175, 0.0212816607192782, 0.1276899643156692, 0.13971872907004385, 0.029609267087691408, 0.0573679549824021, 0.9958189170758467, 0.994078235069623, 0.9926164566156, 0.09012088733195606, 0.9057149176861584, 0.988876202361179, 0.9825793101102399, 0.9988736460155015, 0.7435918295752367, 0.11082378229246317, 0.1429984287644686, 0.029591513133375956, 0.92720074484578, 0.042743296748209716, 0.038954241497456375, 0.04053346750411001, 0.17108281738747733, 0.1305493498833673, 0.45639631592290103, 0.12160040251233002, 0.008948947371037274, 0.03211092880195728, 0.0024068098489809907, 0.9940124676291492, 0.013144235438203452, 0.4530895274580719, 0.0634016062313343, 0.0030927612795772826, 0.1987099122128404, 0.1685554897369619, 0.09974155126636737, 0.02091258530816058, 0.26064222176756235, 0.34939319356317067, 0.1152742507230315, 0.0035704413940761967, 0.24993089758533377, 0.001591063238631711, 0.026252543437423233, 0.20445162616417487, 0.3754909243170838, 0.1861543989199102, 0.03420785963058179, 0.04375423906237205, 0.12808059070985273, 0.20940393070413582, 0.06872744392340868, 0.22819659115194288, 0.15517368198332115, 0.06496891183384727, 0.2738359093823315, 0.20086728057274117, 0.07686617956935221, 0.11239865880424145, 0.087743469131053, 0.021029426485954853, 0.5010804724756829, 0.9850073645654253, 0.03519046897044387, 0.3364363516954524, 0.010827836606290421, 0.5224431162535128, 0.0023202507013479474, 0.09242331960369324, 0.9962426462787768, 0.9934840804939646, 0.5895229576476395, 0.15383741942424117, 0.25602139874983204, 0.9957874665509711, 0.9968375408609121, 0.17691952898399446, 0.047574999390653974, 0.25720234045572304, 0.515891399642404, 0.9972617689370793, 0.4385000781103709, 0.26087979330617006, 0.2399107319056741, 0.060440235801429466, 0.9481580068640485, 0.044100372412281326, 0.9957366751405665, 0.07991896615350455, 0.2842188585036605, 0.4066299510275143, 0.18178750751818287, 0.047276008147143535, 0.9951005801774105, 0.9931872211741176, 0.8749258474472726, 0.04681337560142233, 0.07909846222309291, 0.9505099743369271, 0.04356504049044249, 0.005625533998869502, 0.2700256319457361, 0.18001708796382407, 0.12688704464116765, 0.0725068826520958, 0.11688609530984409, 0.058130517988318184, 0.1700161386325005, 0.9939533130794103, 0.9927587569293049, 0.015795429439352013, 0.053500648101031015, 0.42953377475399185, 0.08814868687122253, 0.21094541251263657, 0.07235325743187052, 0.10802035616589119, 0.021909789222326986, 0.9886774668573437, 0.9029357279932434, 0.09353119094750728, 0.436312165776275, 0.1799930083359046, 0.020505532595229636, 0.020505532595229636, 0.10138846672085765, 0.1480955131877696, 0.09227489667853336, 0.062315953602779466, 0.7976442061155772, 0.13709509792611482, 0.9978202048201005, 0.9893015022715901, 0.9961812438869289, 0.9226148659739094, 0.07678137139648643, 0.9945036258039993, 0.8740997925348376, 0.0503596588291676, 0.07194236975595371, 0.012778565882474235, 0.01533427905896908, 0.012778565882474235, 0.899611038126186, 0.058781403059381475, 0.9929027094649375, 0.040072609067314344, 0.1153309236571486, 0.19547614179177727, 0.03323094410460214, 0.4691427403002655, 0.14660710634383298, 0.9953567451376465, 0.9987494380716807, 0.9969636368324738, 0.9681323883509598, 0.03034033125886199, 0.9953961584981605, 0.990761261049768, 0.018520318287474566, 0.5218252317481845, 0.04742015561518213, 0.1017599905905196, 0.3105714912822658, 0.014872061269282921, 0.6733738852480878, 0.20655640651781837, 0.105756880137123, 0.16537285960698547, 0.8344519939463066, 0.04106961304099715, 0.9537276806187115, 0.994653111257584, 0.8977428179428333, 0.10197993382984662, 0.9975250013736755, 0.999067976099071, 0.3974184302993322, 0.015896737211973287, 0.17180704448324977, 0.08254075090832284, 0.06725542666604084, 0.060529883999436755, 0.2048233448465789, 0.7832657824595086, 0.02573357806848488, 0.043425412990568235, 0.14796807389378808, 0.991003236046971, 0.04983822025815019, 0.09832946159040443, 0.15220861862624246, 0.6990820625399986, 0.994427081200532, 0.9964130565277268, 0.9859421385047157, 0.9912554103046327, 0.9990872754571112, 0.9988381420676979, 0.9979278820894094, 0.9918927444838, 0.993351258208607, 0.06853632487607951, 0.015607281902473553, 0.18389449545957967, 0.10823310710628398, 0.18423378419658998, 0.00814292968824707, 0.03596460612309123, 0.39527137861699324, 0.963922613028738, 0.031707980691734805, 0.9948600478230392, 0.02222816789322606, 0.6654557763034552, 0.005557041973306515, 0.30702656902518494, 0.9959269476934397, 0.9972950551126601, 0.0035563427489837783, 0.06804469126388962, 0.2084016850904494, 0.12281236959823981, 0.22428668270257696, 0.17615751083299647, 0.06733342271409287, 0.1292137865464106, 0.9350044911069004, 0.06469897148284355, 0.0006221287692361372, 0.14495600323201996, 0.8149886876993397, 0.03608346861569596, 0.003110643846180686, 0.9975618497626861, 0.008491797860710509, 0.9914174002379518, 0.06827910684934803, 0.9291895845150405, 0.9950513231908223, 0.00982442332620117, 0.05473607281740652, 0.2423357753796289, 0.08608066152481025, 0.48326806171265757, 0.022923654427802732, 0.011695742055001394, 0.08935546930021065, 0.13672967969137148, 0.5242205110696851, 0.0043234681325334855, 0.33452834675477844, 0.9951224665982471, 0.04240752551188925, 0.1529996998860318, 0.04573360594419428, 0.03658688475535543, 0.2436353916663441, 0.4789555822519256, 0.1328046692103442, 0.030182879365987316, 0.09356692603456068, 0.7424988324032881, 0.37600820991833556, 0.0962762956847351, 0.009096972820604891, 0.4472678303464072, 0.048517188376559425, 0.01516162136767482, 0.00758081068383741, 0.042874154583269805, 0.0682088822915656, 0.10198851923595999, 0.08607311336792801, 0.3754736568049992, 0.0980908688192991, 0.06366162347212789, 0.16370131749975744, 0.022901142969397888, 0.946580576068446, 0.03053485729253052, 0.09491788063161742, 0.7708588173354518, 0.038036944811934925, 0.09596476902093673, 0.8847291697299731, 0.11230308346417615, 0.9837520702571937, 0.9971254869557408, 0.9966182408256538, 0.997188769417246, 0.9934271939647527, 0.01433654854482338, 0.3261564793947319, 0.6463393968957875, 0.013141836166088099, 0.9944153308887066, 0.0010465415676423092, 0.998400655530763, 0.9846296457361614, 0.0060212670565417846, 0.2322488721808974, 0.08128710526331409, 0.054191403508876065, 0.0382780548594442, 0.4335312280710085, 0.15397240044585422, 0.14558296309807656, 0.07730068837066012, 0.30469354666101867, 0.1178835497652567, 0.07279148154903828, 0.01030675844942135, 0.27055240929731045, 0.06740654795902441, 0.9268400344365857, 0.021398698122198353, 0.973640764560025, 0.9876846287838436, 0.00501020462087601, 0.17786226404109837, 0.035572452808219676, 0.6312857822303773, 0.0460938825120593, 0.10371123565213342, 0.9954194596234331, 0.013440312879930822, 0.701018424421655, 0.03536924442087058, 0.2497068656113463, 0.8609316647996869, 0.04804306165176824, 0.07302545371068772, 0.015373779728565837, 0.9945948078683166, 0.1426327007749585, 0.13915385441459366, 0.06377884994002209, 0.15364904758278047, 0.24293943749881142, 0.053922118585655036, 0.07189615811420672, 0.13219616169386397, 0.04908109883034691, 0.23830943167023863, 0.04198503634885098, 0.538118071513442, 0.03843700510810301, 0.015374802043241202, 0.07923936437670466, 0.9957995335539441, 0.05012101142988658, 0.4705478484829352, 0.04658305768189459, 0.09139713848979317, 0.010024202285977316, 0.12088008638972646, 0.2110979069635223, 0.9950854995453243, 0.9972625575538079, 0.03367277939709921, 0.21261954990739784, 0.0735990749679454, 0.12747552200330414, 0.05628164556372296, 0.12458928376926706, 0.08177674996438379, 0.2905479822263989, 0.9938061288006906, 0.033019935812341555, 0.003962392297480986, 0.09069475703123148, 0.7143312780736556, 0.038523258447731815, 0.11931203473526082, 0.43537237107487814, 0.02005554108598287, 0.031754606719472875, 0.04930320516970789, 0.4629487400681046, 0.9836908787258054, 0.1975540964831209, 0.007377538872813643, 0.5615126808752606, 0.13525487933491678, 0.09836718497084858, 0.008156980969782358, 0.9869946973436652, 0.9973439749481544, 0.8462670907151734, 0.02929386083244831, 0.08137183564568976, 0.04231335453575867, 0.10662435218030855, 0.15011586425385545, 0.7435645612574149, 0.05697040328240197, 0.08930495649673822, 0.09546391901375466, 0.2109444662078127, 0.5466079233852081, 0.07463655540106319, 0.9217614592031304, 0.05423088110153023, 0.9445211791849849, 0.0956325218921453, 0.07485988394016292, 0.14423265596848145, 0.13286649557966088, 0.2332022562533871, 0.13090681275400218, 0.12189227175597209, 0.06623727950726457, 0.05403960975025807, 0.08447571179350688, 0.02546694252598369, 0.08136998709521619, 0.237277366949409, 0.5167925897955715, 0.11592569463903901, 0.1323690555807467, 0.03370888993050071, 0.19978683544174808, 0.43574906495525306, 0.03781973016592762, 0.04439707454261069, 0.03945345793729003, 0.15847138938144828, 0.29458581926509886, 0.507634492126465, 0.9924345123573532, 0.022685866913369816, 0.9414634769048473, 0.03402880037005472, 0.20361724597107478, 0.7704436334040667, 0.024764259645130716, 0.992510162363613, 0.995937894624198, 0.0757645973509538, 0.04386371425581536, 0.8772742851163071, 0.12764923054544336, 0.03127828827934705, 0.03127828827934705, 0.4818547113304815, 0.06340193570137916, 0.26375205251773726, 0.052096986294460385, 0.029077387699233702, 0.12236733990094183, 0.7959934882665226, 0.3783007932453109, 0.6209843209875858, 0.9977484213809891, 0.9918076000512065, 0.014210652308667408, 0.08526391385200445, 0.036172569512971584, 0.0555507317520635, 0.16019280784315987, 0.05296697678685125, 0.43665458912087124, 0.15890093036055375, 0.7458568104502197, 0.016951291146595902, 0.09323210130627746, 0.14314423634903206, 0.9978563390707613, 0.997171836771879, 0.9879591039022827, 0.9863735035633712, 0.9938960874804224, 0.9857877422904542, 0.8937218989775008, 0.10536045470221155, 0.6139789183951513, 0.06445082568788882, 0.03222541284394441, 0.016960743602076004, 0.04409793336539761, 0.22897003862802606, 0.889715133454597, 0.10908384777987395, 0.9972080902048873, 0.062288150494214836, 0.16275290935585168, 0.04621378907635294, 0.6068071435242864, 0.1205577106339642, 0.998397374915695, 0.7509160259982761, 0.09979759178583247, 0.10101463558809873, 0.04746470828838374, 0.13301201345780397, 0.8657053079287581, 0.024369367393314398, 0.9601530752965872, 0.014621620435988638, 0.9289735143738339, 0.06915435590872213, 0.9980180191379184, 0.0011866914795681117, 0.1337401297473262, 0.3474632652175431, 0.37772389794652994, 0.13979225629312356, 0.9980393246917988, 0.9895173852124404, 0.9873055244601671, 0.9459409928222199, 0.04759451536212427, 0.996947861792191, 0.07481885218354992, 0.824254354888775, 0.03366848348259746, 0.06484300522574327, 0.9953477166963194, 0.990477295719503, 0.0072829212920551695, 0.182235148476031, 0.054853389173387265, 0.5503623380396522, 0.21209977147043074, 0.9998242327780749, 0.04692898370452263, 0.909031795461679, 0.009849292876257834, 0.03360346981311497, 0.04584678960734066, 0.9522025533832292, 0.9947012862975851, 0.9867540708351736, 0.9911705647424728, 0.00043446554876790697, 0.10296833505799395, 0.03562617499896837, 0.4196937201097981, 0.07646593658315162, 0.36451659541627396, 0.8698086342865542, 0.027352472776306737, 0.07658692377365886, 0.027352472776306737, 0.09516945998201354, 0.2694324576517816, 0.02507843877904411, 0.046298656207466045, 0.3408095526382917, 0.0012860737835407234, 0.06687583674411762, 0.15497189091665717, 0.9915466919700713, 0.007758676066567245, 0.8379370151892624, 0.1525872959758225, 0.04502120009491359, 0.4823700010169313, 0.06217213346440448, 0.40947853419659497, 0.30499682929426375, 0.15055162637504083, 0.22712529841062196, 0.027255035809274634, 0.2907203819655961, 0.9937562307192237, 0.055972409358328944, 0.16258652242181265, 0.7423007622045052, 0.03864761598551284, 0.039623226423960704, 0.1345272445523182, 0.7662620722956272, 0.043138190058344315, 0.01629664957759674, 0.9920046809471542, 0.38334925031506867, 0.08375697906043518, 0.1460378096438357, 0.1041593201136181, 0.19543295114101542, 0.08697840133199038, 0.015133697957751099, 0.0005218516537155551, 0.7269393536257682, 0.01930851118747554, 0.2384862057480087, 0.20367148954041622, 0.6119077646280049, 0.10183574477020811, 0.08218323262157146, 0.06523941759684422, 0.9331213668397113, 0.9981169015581602, 0.059300816903912604, 0.31026187404127076, 0.12429451223060081, 0.10626706389181138, 0.170311946148037, 0.12808976451245122, 0.10104859200426708, 0.02824061210020496, 0.1343706543477494, 0.3279554953572189, 0.5001321304197588, 0.009109874871033858, 0.16959592535489015, 0.013459994075784932, 0.11575594905175042, 0.6999196919408165, 0.9906261035692541, 0.9963026268611084, 0.2283900809129229, 0.07956211835081331, 0.028080747653228225, 0.3772180434750325, 0.009360249217742742, 0.27706337684518517, 0.9960266059971836, 0.968374543817189, 0.02801083391206745, 0.06166964521117235, 0.9353229523694473, 0.8236493994405779, 0.09089099818045439, 0.08526058236396607, 0.994459853432892, 0.0609475553742349, 0.17965354985312265, 0.6410123701859938, 0.016299927600086077, 0.024095545147953333, 0.07831052173084833, 0.9948122839840151, 0.4116347082034704, 0.5883574625107195, 0.9925416812086374, 0.08379622806431501, 0.8981236751508634, 0.01718896985934667, 0.08109873698676223, 0.031266982934655324, 0.1480296223312588, 0.051785940485522874, 0.6106832604424868, 0.06302251247766463, 0.001465639825061968, 0.013679305033911703, 0.21862861113093573, 0.5894109178462389, 0.13959732264779343, 0.04283939001889957, 0.009601932245615421, 0.02605720513214118, 0.021657936733208254, 0.2950893879899624, 0.023349963040490147, 0.5109919447991322, 0.064296999676712, 0.05482165235593339, 0.004060863137476547, 0.991198490996281, 0.9968660521157953, 0.11136746888706538, 0.07778045446080756, 0.180309235340963, 0.179425366540272, 0.0724772416566616, 0.10120297767911893, 0.06319661924940614, 0.2138962497672208, 0.18452387745644025, 0.2936085058672988, 0.2594374174494395, 0.09462762946484114, 0.1677011877738018, 0.9950547129574197, 0.9994516431593886, 0.992752072821714, 0.09885640373225353, 0.8973119723389167, 0.9982547020855755, 0.8597813648373245, 0.14037246772854278, 0.999111511484944, 0.9907212773798441, 0.1521730976572756, 0.8464628557185955, 0.08202777343347493, 0.9174958361818307, 0.998311728443003, 0.996190736120739, 0.9960797292103235, 0.9968544868742084, 0.32057862383499824, 0.05452017412159835, 0.5975411083727179, 0.026169683578367207, 0.9925887228748189, 0.9885131272427716, 0.25827663918464777, 0.09348072388399564, 0.0395124709200394, 0.11853741276011819, 0.15901360248308538, 0.1175736939571904, 0.13202947600110726, 0.07998866064300658, 0.9979479854489633, 0.9269455672770945, 0.07257745114255759, 0.9955888997506018, 0.9970944324845714, 0.12427924039090475, 0.053187302031700766, 0.12059299173524232, 0.005792676458898103, 0.4797389321869247, 0.09847549980126775, 0.11743335003038881, 0.9959120668411529, 0.9940910357777076, 0.33730072246242, 0.6610416168861497, 0.9948143668237337, 0.06828755597446153, 0.9137525347058899, 0.016258941898681316, 0.9933308131967341, 0.9949877638094625, 0.9953757814656337, 0.9984367349226103, 0.9926074599374934, 0.9877521206028161, 0.9915691790447354, 0.9838188737197195, 0.9987636709995041, 0.9946343233935961, 0.9967458999452505, 0.9382214073801519, 0.059674859833366546, 0.5929322064192041, 0.21757658121336526, 0.18875849098642947, 0.9933773205601386, 0.9924883967852836, 0.9519047598744794, 0.045704036484039576, 0.023254655752400214, 0.976695541600809, 0.9871523624947287, 0.05294980552964957, 0.022897213202010627, 0.5001610008814196, 0.1738757127527682, 0.04650996431658408, 0.09301992863316816, 0.03720797145326726, 0.07226932916884604, 0.9896264655837461, 0.9384424873734555, 0.05865265546084097, 0.7992181958620368, 0.19724295218390012, 0.02704259530334951, 0.5665077016111936, 0.037443593496945475, 0.11857137940699401, 0.07835418639175627, 0.06517958867986805, 0.10747698133382498, 0.9911429003709695, 0.04019896757517997, 0.29297552639537944, 0.1151461952577189, 0.0538257362447325, 0.13013564079422668, 0.2357430979832588, 0.08857399635209146, 0.04292432130909048], \"Term\": [\"API\", \"BI\", \"BIM\", \"CRM\", \"CSR\", \"CVP\", \"ERP\", \"EU\", \"EU\", \"HR\", \"IT\", \"IT\", \"IT\", \"IT\", \"SAP\", \"SEO\", \"SWOT_analysis\", \"VR\", \"accommodation\", \"action\", \"action\", \"action\", \"action\", \"action\", \"activity\", \"activity\", \"activity\", \"activity\", \"activity\", \"activity\", \"activity\", \"activity\", \"advertisement\", \"advertisement\", \"advertising\", \"africa\", \"agriculture\", \"airbnb\", \"airport\", \"airport\", \"algorithm\", \"algorithm\", \"alumnus\", \"android\", \"application\", \"approach\", \"approach\", \"approach\", \"approach\", \"approach\", \"approach\", \"approach\", \"approach\", \"architecture\", \"architecture\", \"area\", \"area\", \"area\", \"area\", \"area\", \"area\", \"area\", \"area\", \"article\", \"article\", \"article\", \"article\", \"article\", \"artist\", \"artist\", \"athlete\", \"attack\", \"attitude\", \"attitude\", \"attitude\", \"attitude\", \"audience\", \"audience\", \"authentication\", \"author\", \"author\", \"author\", \"author\", \"author\", \"author\", \"author\", \"balanced_scorecard\", \"bangladesh\", \"bank\", \"banking\", \"best_practice\", \"best_practice\", \"best_practice\", \"best_practice\", \"best_practice\", \"biogas\", \"biomass\", \"blog\", \"booklet\", \"brand\", \"brand\", \"brand_identity\", \"brand_image\", \"branding\", \"building\", \"building\", \"building\", \"building\", \"building\", \"building\", \"building\", \"business_model\", \"business_plan\", \"calculation\", \"calculation\", \"calibration\", \"cameroon\", \"campaign\", \"capital\", \"capital\", \"capital\", \"capital\", \"care\", \"care\", \"care\", \"career\", \"career\", \"case\", \"case\", \"case\", \"case\", \"case\", \"case\", \"case\", \"case_company\", \"case_company\", \"certification\", \"challenge\", \"challenge\", \"challenge\", \"challenge\", \"challenge\", \"challenge\", \"challenge\", \"chamber\", \"change\", \"change\", \"change\", \"change\", \"change\", \"change\", \"change\", \"change\", \"channel\", \"channel\", \"checklist\", \"chemical\", \"chemical\", \"child\", \"child\", \"child\", \"china\", \"china\", \"church\", \"city\", \"city\", \"city\", \"city\", \"clinical\", \"clothing\", \"cloud\", \"cloud_computing\", \"club\", \"coach\", \"coaching\", \"code\", \"code\", \"coffee\", \"collaboration\", \"collaboration\", \"collaboration\", \"collaboration\", \"collaboration\", \"collaboration\", \"colour\", \"communication\", \"communication\", \"communication\", \"communication\", \"communication\", \"compared\", \"compared\", \"compared\", \"compared\", \"compared\", \"compared\", \"compared\", \"compared\", \"competence\", \"competence\", \"competency\", \"competition\", \"competition\", \"competition\", \"competition\", \"competitor\", \"competitor_analysis\", \"concentration\", \"concentration\", \"concentration\", \"concept\", \"concept\", \"concept\", \"concept\", \"concept\", \"concept\", \"concept\", \"concept\", \"condition\", \"condition\", \"condition\", \"condition\", \"condition\", \"condition\", \"conducted\", \"conducted\", \"conducted\", \"conducted\", \"conducted\", \"conducted\", \"conducted\", \"conducted\", \"configuration\", \"configuration\", \"construction\", \"construction\", \"consultancy\", \"consumer\", \"consumer\", \"consumer\", \"consumer\", \"content\", \"content\", \"content\", \"content\", \"control\", \"control\", \"control\", \"control\", \"control\", \"control\", \"control\", \"corporate_social\", \"cost\", \"cost\", \"cost\", \"cost\", \"cost\", \"cost\", \"country\", \"country\", \"country\", \"country\", \"create\", \"create\", \"create\", \"create\", \"create\", \"create\", \"create\", \"credit\", \"crisis\", \"crowdfunding\", \"cultural\", \"cultural\", \"cultural\", \"cultural\", \"culture\", \"culture\", \"culture\", \"culture\", \"currency\", \"current\", \"current\", \"current\", \"current\", \"current\", \"current\", \"current\", \"current\", \"current_state\", \"current_state\", \"current_state\", \"current_state\", \"current_state\", \"curriculum\", \"customer\", \"customer\", \"customer\", \"customer\", \"customer_journey\", \"customer_loyalty\", \"customer_relationship\", \"customer_satisfaction\", \"customer_satisfaction\", \"customer_satisfaction\", \"database\", \"database\", \"database\", \"database\", \"database\", \"delivery\", \"delivery\", \"delivery\", \"dementia\", \"deployment\", \"deployment\", \"depression\", \"design\", \"design\", \"design\", \"design\", \"design\", \"design\", \"destination\", \"destination\", \"develop\", \"develop\", \"develop\", \"develop\", \"develop\", \"develop\", \"develop\", \"develop\", \"developed\", \"developed\", \"developed\", \"developed\", \"developed\", \"developed\", \"developed\", \"developed\", \"developer\", \"device\", \"device\", \"diabetes\", \"diaconia_university\", \"digital\", \"digital\", \"digital\", \"digital\", \"digital\", \"digital_marketing\", \"disaster\", \"disease\", \"disorder\", \"drug\", \"economic\", \"economic\", \"economic\", \"economic_growth\", \"economy\", \"economy\", \"education\", \"education\", \"education\", \"education\", \"effect\", \"effect\", \"effect\", \"effect\", \"effect\", \"effect\", \"effective\", \"effective\", \"effective\", \"effective\", \"effective\", \"effective\", \"effective\", \"efficiency\", \"efficiency\", \"efficiency\", \"efficiency\", \"elderly\", \"elderly_people\", \"emission\", \"empirical\", \"empirical\", \"empirical\", \"empirical\", \"empirical\", \"employee\", \"employee\", \"employee_engagement\", \"employee_motivation\", \"employer\", \"energy\", \"energy\", \"entrepreneurship\", \"entrepreneurship\", \"entry_mode\", \"environment\", \"environment\", \"environment\", \"environment\", \"environment\", \"environment\", \"environment\", \"environment\", \"equipment\", \"equipment\", \"equipment\", \"equipment\", \"equity\", \"event\", \"event\", \"event\", \"event\", \"event_planning\", \"exercise\", \"exercise\", \"experience\", \"experience\", \"experience\", \"experience\", \"experience\", \"experience\", \"experiment\", \"experiment\", \"experimental\", \"experimental\", \"facebook\", \"factor\", \"factor\", \"factor\", \"factor\", \"factor\", \"factor\", \"factor\", \"family\", \"family\", \"farmer\", \"fashion\", \"feature\", \"feature\", \"feature\", \"feature\", \"feature\", \"feature\", \"feedback\", \"feedback\", \"feedback\", \"feedback\", \"female\", \"female\", \"fiber\", \"file\", \"film\", \"filter\", \"filter\", \"finance\", \"finance\", \"financial\", \"financial\", \"financial\", \"financial\", \"financial_statement\", \"financing\", \"finding\", \"finding\", \"finding\", \"finding\", \"finding\", \"finding\", \"finding\", \"finding\", \"finland\", \"finland\", \"finland\", \"finland\", \"finland\", \"finland\", \"finland\", \"finnish\", \"finnish\", \"finnish\", \"finnish\", \"finnish\", \"finnish\", \"finnish\", \"food\", \"food\", \"food\", \"football\", \"forecasting\", \"foreign\", \"foreign\", \"foreign\", \"framework\", \"framework\", \"framework\", \"framework\", \"framework\", \"fuel\", \"functionality\", \"functionality\", \"fund\", \"fund\", \"funding\", \"funding\", \"future\", \"future\", \"future\", \"future\", \"future\", \"future\", \"future\", \"future\", \"game\", \"game\", \"game\", \"gender\", \"ghana\", \"global\", \"global\", \"global\", \"global\", \"global\", \"global\", \"governance\", \"government\", \"graduate\", \"group\", \"group\", \"group\", \"group\", \"group\", \"group\", \"group\", \"growth\", \"growth\", \"growth\", \"growth\", \"growth\", \"growth\", \"guest\", \"guest\", \"guidebook\", \"health\", \"health\", \"health\", \"health\", \"health\", \"health_promotion\", \"healthcare\", \"healthcare\", \"heat\", \"heat\", \"heating\", \"helsinki\", \"helsinki\", \"helsinki\", \"helsinki\", \"helsinki\", \"helsinki\", \"high\", \"high\", \"high\", \"high\", \"high\", \"high\", \"high\", \"high\", \"higher_education\", \"hockey\", \"holiday\", \"hospital\", \"hospital\", \"hospitality_industry\", \"hostel\", \"hotel\", \"house\", \"house\", \"house\", \"human_resource\", \"human_resource\", \"human_resource\", \"idea\", \"idea\", \"idea\", \"idea\", \"idea\", \"idea\", \"idea\", \"idea\", \"immigrant\", \"immigrant\", \"impact\", \"impact\", \"impact\", \"impact\", \"impact\", \"impact\", \"impact\", \"implementation\", \"implementation\", \"implementation\", \"implementation\", \"implementation\", \"implementation\", \"implemented\", \"implemented\", \"implemented\", \"implemented\", \"implemented\", \"implemented\", \"implemented\", \"implemented\", \"improve\", \"improve\", \"improve\", \"improve\", \"improve\", \"improve\", \"improvement\", \"improvement\", \"improvement\", \"improvement\", \"improvement\", \"improvement\", \"induction\", \"industry\", \"industry\", \"industry\", \"industry\", \"industry\", \"industry\", \"infection\", \"injury\", \"innovation\", \"innovation\", \"innovation\", \"instagram\", \"interface\", \"internal\", \"internal\", \"internal\", \"internal\", \"internal_communication\", \"international\", \"international\", \"international\", \"international\", \"internet_thing\", \"internet_thing\", \"intervention\", \"interview\", \"interview\", \"interview\", \"interview\", \"interview\", \"intranet\", \"inventory\", \"investment\", \"investment\", \"investment\", \"investor\", \"investor\", \"issue\", \"issue\", \"issue\", \"issue\", \"issue\", \"issue\", \"issue\", \"issue\", \"java\", \"javascript\", \"knowledge\", \"knowledge\", \"knowledge\", \"knowledge\", \"knowledge\", \"knowledge\", \"knowledge\", \"knowledge\", \"kpis\", \"laboratory\", \"laboratory\", \"lack\", \"lack\", \"lack\", \"lack\", \"lack\", \"lack\", \"lack\", \"leader\", \"leader\", \"leader\", \"leadership\", \"leadership_style\", \"lean\", \"learning\", \"learning\", \"legacy\", \"legislation\", \"legislation\", \"legislation\", \"library\", \"library\", \"library\", \"library\", \"library\", \"linux\", \"literature_review\", \"literature_review\", \"literature_review\", \"literature_review\", \"literature_review\", \"literature_review\", \"loan\", \"logistics\", \"loyalty\", \"machine\", \"machine\", \"machine_learning\", \"male\", \"management\", \"management\", \"management\", \"management\", \"management\", \"manager\", \"manager\", \"manager\", \"manager\", \"market\", \"market\", \"market_entry\", \"market_entry\", \"market_share\", \"marketing\", \"marketing\", \"marketing_plan\", \"marketing_strategy\", \"material\", \"material\", \"material\", \"material\", \"material\", \"material\", \"material\", \"measurement\", \"measurement\", \"measurement\", \"measurement\", \"mechanical\", \"medium\", \"medium\", \"medium\", \"medium\", \"mental_health\", \"microsoft\", \"mining\", \"ministry\", \"mobile\", \"mobile_application\", \"mobile_device\", \"mobile_game\", \"mobile_phone\", \"model\", \"model\", \"model\", \"model\", \"model\", \"model\", \"model\", \"model\", \"modeling\", \"modeling\", \"motion\", \"motivation\", \"motivation\", \"motivation\", \"motivation\", \"motor\", \"music\", \"need\", \"need\", \"need\", \"need\", \"need\", \"need\", \"need\", \"need\", \"nepal\", \"nepal\", \"network\", \"network\", \"network\", \"network\", \"network\", \"nigeria\", \"nurse\", \"nurse\", \"nursing\", \"nursing\", \"nursing_student\", \"objective\", \"objective\", \"objective\", \"objective\", \"objective\", \"objective\", \"objective\", \"objective\", \"online\", \"online\", \"online\", \"online\", \"open_source\", \"operation\", \"operation\", \"operation\", \"operation\", \"operation\", \"operation\", \"operational\", \"operational\", \"operational\", \"operational\", \"opportunity\", \"opportunity\", \"opportunity\", \"opportunity\", \"opportunity\", \"opportunity\", \"opportunity\", \"order\", \"order\", \"order\", \"order\", \"order\", \"order\", \"order\", \"order\", \"organisation\", \"organisation\", \"organisation\", \"organization\", \"organization\", \"organization\", \"organization\", \"organizational\", \"organizational\", \"organizational_culture\", \"outsourcing\", \"pain\", \"parameter\", \"park\", \"participant\", \"participant\", \"participant\", \"participant\", \"passenger\", \"patient\", \"patient\", \"patient_safety\", \"people\", \"people\", \"people\", \"people\", \"people\", \"people\", \"people\", \"performance\", \"performance\", \"performance\", \"performance\", \"performance\", \"performance\", \"performance\", \"physical_activity\", \"physical_activity\", \"picking\", \"picking\", \"pipeline\", \"plan\", \"plan\", \"plan\", \"plan\", \"plan\", \"plan\", \"plant\", \"platform\", \"platform\", \"platform\", \"platform\", \"policy\", \"policy\", \"policy\", \"policy\", \"political\", \"possible\", \"possible\", \"possible\", \"possible\", \"possible\", \"possible\", \"possible\", \"possible\", \"potential\", \"potential\", \"potential\", \"potential\", \"potential\", \"potential\", \"potential\", \"potential_customer\", \"practice\", \"practice\", \"practice\", \"practice\", \"practice\", \"practice\", \"practice\", \"prevention\", \"printing\", \"problem\", \"problem\", \"problem\", \"problem\", \"problem\", \"problem\", \"problem\", \"problem\", \"procurement\", \"product\", \"product\", \"product\", \"product\", \"product\", \"product\", \"production\", \"production\", \"production\", \"production\", \"production\", \"productization\", \"program\", \"program\", \"program\", \"program\", \"program\", \"programming\", \"programming\", \"programming_language\", \"property\", \"property\", \"property\", \"property\", \"proposal\", \"proposal\", \"proposal\", \"proposed\", \"proposed\", \"proposed\", \"proposed\", \"proposed\", \"protocol\", \"protocol\", \"prototype\", \"prototype\", \"purpose\", \"purpose\", \"purpose\", \"purpose\", \"purpose\", \"purpose\", \"purpose\", \"purpose\", \"quality\", \"quality\", \"quality\", \"quality\", \"quality\", \"quality\", \"question\", \"question\", \"question\", \"question\", \"question\", \"question\", \"question\", \"questionnaire\", \"questionnaire\", \"questionnaire\", \"questionnaire\", \"real_estate\", \"recruitment\", \"recruitment\", \"recruitment\", \"regulation\", \"regulation\", \"regulation\", \"rehabilitation\", \"renovation\", \"reporting\", \"reporting\", \"reporting\", \"requirement\", \"requirement\", \"requirement\", \"requirement\", \"requirement\", \"requirement\", \"respondent\", \"respondent\", \"respondent\", \"respondent\", \"restaurant\", \"restaurant\", \"retail\", \"retailer\", \"review\", \"review\", \"review\", \"review\", \"review\", \"review\", \"review\", \"review\", \"risk\", \"risk\", \"risk\", \"risk\", \"risk_management\", \"robot\", \"role_responsibility\", \"rural\", \"russian_market\", \"russian_tourist\", \"sale\", \"sale\", \"sample\", \"sample\", \"sample\", \"sample\", \"sample\", \"sample\", \"school\", \"school\", \"scrum\", \"search\", \"search\", \"search\", \"search\", \"search\", \"search_engine\", \"sector\", \"sector\", \"sector\", \"sector\", \"security\", \"security\", \"selling\", \"selling\", \"selling\", \"sensor\", \"sensor\", \"server\", \"service\", \"service\", \"service\", \"service\", \"service\", \"service_quality\", \"sexual\", \"shipping\", \"signal\", \"signal\", \"simulation\", \"skill\", \"skill\", \"skill\", \"skill\", \"smartphone\", \"smes\", \"smes\", \"social\", \"social\", \"social\", \"social\", \"social_medium\", \"software\", \"software\", \"software\", \"software\", \"software_development\", \"software_development\", \"soil\", \"solar\", \"solar_energy\", \"solution\", \"solution\", \"solution\", \"solution\", \"solution\", \"solution\", \"sound\", \"sound\", \"sound\", \"sound\", \"source\", \"source\", \"source\", \"source\", \"source\", \"source\", \"source\", \"source\", \"sourcing\", \"sport\", \"sport\", \"sport\", \"stakeholder\", \"stakeholder\", \"stakeholder\", \"stakeholder\", \"standard\", \"standard\", \"standard\", \"standard\", \"standard\", \"steel\", \"strategic\", \"strategic\", \"strategic\", \"strategic\", \"strategy\", \"strategy\", \"strategy\", \"strategy\", \"strategy\", \"streaming\", \"structure\", \"structure\", \"structure\", \"structure\", \"structure\", \"structure\", \"student\", \"student\", \"student\", \"student\", \"student\", \"suggestion\", \"suggestion\", \"suggestion\", \"suggestion\", \"supplier\", \"supplier\", \"supply_chain\", \"support\", \"support\", \"support\", \"support\", \"support\", \"support\", \"support\", \"survey\", \"survey\", \"survey\", \"survey\", \"survey\", \"sustainability\", \"sustainability\", \"sustainability\", \"sustainability\", \"sustainable_tourism\", \"symptom\", \"system\", \"system\", \"system\", \"system\", \"system\", \"system\", \"target_market\", \"teacher\", \"teacher\", \"teaching\", \"teaching\", \"team\", \"team\", \"team\", \"team_member\", \"technology\", \"technology\", \"technology\", \"technology\", \"technology\", \"technology\", \"temperature\", \"test\", \"test\", \"test_automation\", \"testing\", \"testing\", \"testing\", \"theoretical\", \"theoretical\", \"theoretical\", \"theoretical\", \"theoretical\", \"theoretical\", \"theoretical\", \"theoretical\", \"theoretical_framework\", \"theoretical_framework\", \"theoretical_framework\", \"theoretical_framework\", \"theoretical_framework\", \"theory\", \"theory\", \"theory\", \"theory\", \"theory\", \"theory\", \"theory\", \"theory\", \"therapy\", \"thermal\", \"time\", \"time\", \"time\", \"time\", \"time\", \"time\", \"time\", \"time\", \"tool\", \"tool\", \"tool\", \"tool\", \"tool\", \"tour\", \"tourism\", \"tourism_destination\", \"tourism_industry\", \"tourism_industry\", \"tourist\", \"trade\", \"trade\", \"training\", \"transmission\", \"transport\", \"transport\", \"transportation\", \"transportation\", \"travel\", \"traveler\", \"traveller\", \"travelling\", \"treatment\", \"treatment\", \"treatment\", \"treatment\", \"trip\", \"tutorial\", \"type\", \"type\", \"type\", \"type\", \"type\", \"type\", \"type\", \"type\", \"usability\", \"user\", \"user\", \"user_experience\", \"user_interface\", \"value\", \"value\", \"value\", \"value\", \"value\", \"value\", \"value\", \"value_proposition\", \"ventilation\", \"video\", \"video\", \"video_game\", \"virtual\", \"virtual\", \"virtual\", \"virtual_reality\", \"virtual_team\", \"visualization\", \"volunteer\", \"wall\", \"ward\", \"warehouse\", \"warehousing\", \"waste\", \"waste_management\", \"wastewater\", \"water\", \"water\", \"website\", \"website\", \"website\", \"wedding\", \"wine\", \"woman\", \"woman\", \"wood\", \"wood\", \"wordpress\", \"working\", \"working\", \"working\", \"working\", \"working\", \"working\", \"working\", \"working\", \"working_life\", \"workplace\", \"workplace\", \"workshop\", \"workshop\", \"world\", \"world\", \"world\", \"world\", \"world\", \"world\", \"world\", \"w\\u00e4rtsil\\u00e4\", \"year\", \"year\", \"year\", \"year\", \"year\", \"year\", \"year\", \"year\"]}, \"R\": 30, \"lambda.step\": 0.01, \"plot.opts\": {\"xlab\": \"PC1\", \"ylab\": \"PC2\"}, \"topic.order\": [1, 2, 3, 4, 5, 6, 7, 8]};\n",
       "\n",
       "function LDAvis_load_lib(url, callback){\n",
       "  var s = document.createElement('script');\n",
       "  s.src = url;\n",
       "  s.async = true;\n",
       "  s.onreadystatechange = s.onload = callback;\n",
       "  s.onerror = function(){console.warn(\"failed to load library \" + url);};\n",
       "  document.getElementsByTagName(\"head\")[0].appendChild(s);\n",
       "}\n",
       "\n",
       "if(typeof(LDAvis) !== \"undefined\"){\n",
       "   // already loaded: just create the visualization\n",
       "   !function(LDAvis){\n",
       "       new LDAvis(\"#\" + \"ldavis_el719620857750587525699887255\", ldavis_el719620857750587525699887255_data);\n",
       "   }(LDAvis);\n",
       "}else if(typeof define === \"function\" && define.amd){\n",
       "   // require.js is available: use it to load d3/LDAvis\n",
       "   require.config({paths: {d3: \"https://d3js.org/d3.v5\"}});\n",
       "   require([\"d3\"], function(d3){\n",
       "      window.d3 = d3;\n",
       "      LDAvis_load_lib(\"https://cdn.jsdelivr.net/gh/bmabey/pyLDAvis@3.3.1/pyLDAvis/js/ldavis.v3.0.0.js\", function(){\n",
       "        new LDAvis(\"#\" + \"ldavis_el719620857750587525699887255\", ldavis_el719620857750587525699887255_data);\n",
       "      });\n",
       "    });\n",
       "}else{\n",
       "    // require.js not available: dynamically load d3 & LDAvis\n",
       "    LDAvis_load_lib(\"https://d3js.org/d3.v5.js\", function(){\n",
       "         LDAvis_load_lib(\"https://cdn.jsdelivr.net/gh/bmabey/pyLDAvis@3.3.1/pyLDAvis/js/ldavis.v3.0.0.js\", function(){\n",
       "                 new LDAvis(\"#\" + \"ldavis_el719620857750587525699887255\", ldavis_el719620857750587525699887255_data);\n",
       "            })\n",
       "         });\n",
       "}\n",
       "</script>"
      ],
      "text/plain": [
       "<IPython.core.display.HTML object>"
      ]
     },
     "execution_count": 17,
     "metadata": {},
     "output_type": "execute_result"
    }
   ],
   "source": [
    "#Display the topics\n",
    "allwords_display = gensimvis.prepare(allwords_LDA_model, allwords_bow, allwords_dictionary, sort_topics = False)\n",
    "pyLDAvis.display(allwords_display)"
   ]
  },
  {
   "cell_type": "markdown",
   "metadata": {},
   "source": [
    "## 2.4 Evaluate model"
   ]
  },
  {
   "cell_type": "code",
   "execution_count": 18,
   "metadata": {},
   "outputs": [
    {
     "name": "stdout",
     "output_type": "stream",
     "text": [
      "u_mass = -2.472\n",
      "c_v    = 0.443\n",
      "c_uci  = 0.023\n",
      "c_npmi = 0.026\n"
     ]
    }
   ],
   "source": [
    "#Calculate Coherence Score\n",
    "allwords_u_mass, allwords_c_v, allwords_c_uci, allwords_c_npmi = CalculateCoherence(allwords_LDA_model, \n",
    "                                                                                    allwords_abstracts, \n",
    "                                                                                    allwords_bow, allwords_dictionary)\n",
    "print('u_mass =', round(allwords_u_mass, 3))\n",
    "print('c_v    =', round(allwords_c_v, 3))\n",
    "print('c_uci  =', round(allwords_c_uci, 3))\n",
    "print('c_npmi =', round(allwords_c_npmi, 3))"
   ]
  }
 ],
 "metadata": {
  "kernelspec": {
   "display_name": "Python 3",
   "language": "python",
   "name": "python3"
  },
  "language_info": {
   "codemirror_mode": {
    "name": "ipython",
    "version": 3
   },
   "file_extension": ".py",
   "mimetype": "text/x-python",
   "name": "python",
   "nbconvert_exporter": "python",
   "pygments_lexer": "ipython3",
   "version": "3.8.5"
  }
 },
 "nbformat": 4,
 "nbformat_minor": 4
}
