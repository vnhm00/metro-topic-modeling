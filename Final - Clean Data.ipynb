{
 "cells": [
  {
   "cell_type": "code",
   "execution_count": 1,
   "metadata": {},
   "outputs": [],
   "source": [
    "#Basic libraries\n",
    "import pandas as pd\n",
    "import numpy as np\n",
    "import pickle"
   ]
  },
  {
   "cell_type": "code",
   "execution_count": 2,
   "metadata": {},
   "outputs": [
    {
     "name": "stdout",
     "output_type": "stream",
     "text": [
      "Data length: 176738\n"
     ]
    }
   ],
   "source": [
    "df = pd.read_csv('Theseus_data_19.5.2021_FINAL.csv', sep = '|')\n",
    "df.sort_values(['year'], inplace = True)\n",
    "print('Data length:', len(df))\n",
    "\n",
    "#Calculate the length as the total words of English and Finnish abstracts\n",
    "df['len'] = df['en'].str.split().str.len() + df['fi'].str.split().str.len() "
   ]
  },
  {
   "cell_type": "code",
   "execution_count": 3,
   "metadata": {},
   "outputs": [],
   "source": [
    "#Clean data\n",
    "#original_language\n",
    "df.loc[df['original_language'].str.contains('fi', na = False), 'original_language'] = 'fin'\n",
    "df.loc[df['original_language'].str.contains('en', na = False), 'original_language'] = 'eng'\n",
    "df.loc[df['original_language'].str.contains('sv', na = False), 'original_language'] = 'swe'\n",
    "df.loc[df['original_language'].isnull(), 'original_language'] = np.NaN\n",
    "df.loc[~(df['original_language'].str.contains('fin', na = False) |\n",
    "         df['original_language'].str.contains('eng', na = False) |\n",
    "         df['original_language'].str.contains('swe', na = False) |\n",
    "         df['original_language'].isnull()) , 'original_language'] = 'other'\n",
    "\n",
    "#organization\n",
    "school_names = ['Centria', 'Metropolia', 'Laurea', 'Arcada', 'Häme', 'Karelia', 'Novia', 'Åland', 'Haaga-Helia',\n",
    "                'Vaasa', 'Satakunta', 'Saimaa', 'Tampere', 'Turku', 'Jyväskylä', 'Kymenlaakso', 'Mikkeli', 'Savonia',\n",
    "                'Kajaani', 'South-Eastern Finland', 'Lapland', 'LAB']\n",
    "\n",
    "school_names_2 = {'Satakunnan' : 'Satakunta University of Applied Sciences',\n",
    "                  'Lapin': 'Lapland University of Applied Sciences',\n",
    "                  'Turun': 'Turku University of Applied Sciences',\n",
    "                  'Diakonia': 'Diaconia University of Applied Sciences',\n",
    "                  'Daikonia': 'Diaconia University of Applied Sciences',\n",
    "                  'Lahden': 'Lahti University of Applied Sciences',\n",
    "                  'Seinäjoen': 'Seinäjoki University of Applied Sciences',\n",
    "                  'Keski-Pohjanmaan': 'Centria University of Applied Sciences',\n",
    "                  'Humanistinen': 'Humak University of Applied Sciences',\n",
    "                  'Pohjois-Karjalan': 'Karelia University of Applied Sciences',\n",
    "                  'Rovaniemen': 'Rovaniemi University of Applied Sciences',\n",
    "                  'Kaakkois-Suomen': 'South-Eastern Finland University of Applied Sciences',\n",
    "                  'Poliisiammattikorkeakoulu': 'Police University College',\n",
    "                  'Pirkanmaan' : 'Pirkanmaa University of Applied Sciences',\n",
    "                  'Oulu' : 'Oulu University of Applied Sciences',\n",
    "                  'tekstiili ja kemiantekniikan koulutusohjelma' : np.NaN,\n",
    "                  'Degree programme' : np.NaN}\n",
    "\n",
    "df.loc[df['organization'].isnull(), 'organization'] = np.NaN\n",
    "for school_name in school_names:\n",
    "    df.loc[df['organization'].str.contains(school_name, na = False, case = False), 'organization'] = school_name + ' University of Applied Sciences'\n",
    "for school_name in school_names_2:\n",
    "    df.loc[df['organization'].str.contains(school_name, na = False), 'organization'] = school_names_2[school_name]"
   ]
  },
  {
   "cell_type": "code",
   "execution_count": 4,
   "metadata": {},
   "outputs": [],
   "source": [
    "#Keep samples with more than 135 words\n",
    "df2 = df.loc[df['len'] > 135].copy()\n",
    "df2.drop(columns = ['len'], axis = 1, inplace = True)"
   ]
  },
  {
   "cell_type": "code",
   "execution_count": 5,
   "metadata": {},
   "outputs": [
    {
     "name": "stdout",
     "output_type": "stream",
     "text": [
      "Final data length: 174955\n",
      "Deleted 1783 samples\n"
     ]
    }
   ],
   "source": [
    "print('Final data length:', len(df2))\n",
    "print('Deleted', len(df) - len(df2), 'samples')"
   ]
  },
  {
   "cell_type": "code",
   "execution_count": 6,
   "metadata": {},
   "outputs": [],
   "source": [
    "#Save datafile pickle\n",
    "filename = 'final_data'\n",
    "outfile = open(filename, 'wb')\n",
    "pickle.dump(df2, outfile, protocol = 3) #Old protocol\n",
    "outfile.close()"
   ]
  },
  {
   "cell_type": "code",
   "execution_count": 7,
   "metadata": {},
   "outputs": [],
   "source": [
    "#Test the saved file\n",
    "infile = open(r'final_data','rb')\n",
    "temp = pickle.load(infile)\n",
    "infile.close()"
   ]
  },
  {
   "cell_type": "code",
   "execution_count": 8,
   "metadata": {},
   "outputs": [
    {
     "data": {
      "text/html": [
       "<div>\n",
       "<style scoped>\n",
       "    .dataframe tbody tr th:only-of-type {\n",
       "        vertical-align: middle;\n",
       "    }\n",
       "\n",
       "    .dataframe tbody tr th {\n",
       "        vertical-align: top;\n",
       "    }\n",
       "\n",
       "    .dataframe thead th {\n",
       "        text-align: right;\n",
       "    }\n",
       "</style>\n",
       "<table border=\"1\" class=\"dataframe\">\n",
       "  <thead>\n",
       "    <tr style=\"text-align: right;\">\n",
       "      <th></th>\n",
       "      <th>handle</th>\n",
       "      <th>year</th>\n",
       "      <th>original_language</th>\n",
       "      <th>organization</th>\n",
       "      <th>google_translated_en</th>\n",
       "      <th>en</th>\n",
       "      <th>google_translated_fi</th>\n",
       "      <th>fi</th>\n",
       "    </tr>\n",
       "  </thead>\n",
       "  <tbody>\n",
       "    <tr>\n",
       "      <th>130094</th>\n",
       "      <td>10024/157636</td>\n",
       "      <td>2018</td>\n",
       "      <td>fin</td>\n",
       "      <td>Tampere University of Applied Sciences</td>\n",
       "      <td>0</td>\n",
       "      <td>In recent years, the use of wood has been incr...</td>\n",
       "      <td>0</td>\n",
       "      <td>Puun käyttö ja sen myötä puunkorjuu on lisäänt...</td>\n",
       "    </tr>\n",
       "    <tr>\n",
       "      <th>53118</th>\n",
       "      <td>10024/59693</td>\n",
       "      <td>2013</td>\n",
       "      <td>fin</td>\n",
       "      <td>Diaconia University of Applied Sciences</td>\n",
       "      <td>0</td>\n",
       "      <td>Atopic dermatitis sick children and their fami...</td>\n",
       "      <td>0</td>\n",
       "      <td>Ihoatopiaa sairastavan lapsen ja hänen perheen...</td>\n",
       "    </tr>\n",
       "    <tr>\n",
       "      <th>27568</th>\n",
       "      <td>10024/42064</td>\n",
       "      <td>2012</td>\n",
       "      <td>fin</td>\n",
       "      <td>Tampere University of Applied Sciences</td>\n",
       "      <td>0</td>\n",
       "      <td>The purpose of this thesis was to find out nur...</td>\n",
       "      <td>0</td>\n",
       "      <td>Tämän opinnäytetyön tarkoituksena oli selvittä...</td>\n",
       "    </tr>\n",
       "    <tr>\n",
       "      <th>75696</th>\n",
       "      <td>10024/94127</td>\n",
       "      <td>2015</td>\n",
       "      <td>eng</td>\n",
       "      <td>Metropolia University of Applied Sciences</td>\n",
       "      <td>0</td>\n",
       "      <td>Magento is a smart platform for E-commerce sol...</td>\n",
       "      <td>1</td>\n",
       "      <td>Magento on älykäs alusta verkkokaupan ratkaisu...</td>\n",
       "    </tr>\n",
       "    <tr>\n",
       "      <th>3293</th>\n",
       "      <td>10024/5148</td>\n",
       "      <td>2009</td>\n",
       "      <td>fin</td>\n",
       "      <td>Vaasa University of Applied Sciences</td>\n",
       "      <td>0</td>\n",
       "      <td>This thesis was made to Citec Information Oy A...</td>\n",
       "      <td>0</td>\n",
       "      <td>Tämä opinnäytetyö tehtiin Citec Information Oy...</td>\n",
       "    </tr>\n",
       "  </tbody>\n",
       "</table>\n",
       "</div>"
      ],
      "text/plain": [
       "              handle  year original_language  \\\n",
       "130094  10024/157636  2018               fin   \n",
       "53118    10024/59693  2013               fin   \n",
       "27568    10024/42064  2012               fin   \n",
       "75696    10024/94127  2015               eng   \n",
       "3293      10024/5148  2009               fin   \n",
       "\n",
       "                                     organization  google_translated_en  \\\n",
       "130094     Tampere University of Applied Sciences                     0   \n",
       "53118     Diaconia University of Applied Sciences                     0   \n",
       "27568      Tampere University of Applied Sciences                     0   \n",
       "75696   Metropolia University of Applied Sciences                     0   \n",
       "3293         Vaasa University of Applied Sciences                     0   \n",
       "\n",
       "                                                       en  \\\n",
       "130094  In recent years, the use of wood has been incr...   \n",
       "53118   Atopic dermatitis sick children and their fami...   \n",
       "27568   The purpose of this thesis was to find out nur...   \n",
       "75696   Magento is a smart platform for E-commerce sol...   \n",
       "3293    This thesis was made to Citec Information Oy A...   \n",
       "\n",
       "        google_translated_fi  \\\n",
       "130094                     0   \n",
       "53118                      0   \n",
       "27568                      0   \n",
       "75696                      1   \n",
       "3293                       0   \n",
       "\n",
       "                                                       fi  \n",
       "130094  Puun käyttö ja sen myötä puunkorjuu on lisäänt...  \n",
       "53118   Ihoatopiaa sairastavan lapsen ja hänen perheen...  \n",
       "27568   Tämän opinnäytetyön tarkoituksena oli selvittä...  \n",
       "75696   Magento on älykäs alusta verkkokaupan ratkaisu...  \n",
       "3293    Tämä opinnäytetyö tehtiin Citec Information Oy...  "
      ]
     },
     "execution_count": 8,
     "metadata": {},
     "output_type": "execute_result"
    }
   ],
   "source": [
    "temp.sample(5)"
   ]
  }
 ],
 "metadata": {
  "kernelspec": {
   "display_name": "Python 3",
   "language": "python",
   "name": "python3"
  },
  "language_info": {
   "codemirror_mode": {
    "name": "ipython",
    "version": 3
   },
   "file_extension": ".py",
   "mimetype": "text/x-python",
   "name": "python",
   "nbconvert_exporter": "python",
   "pygments_lexer": "ipython3",
   "version": "3.8.5"
  }
 },
 "nbformat": 4,
 "nbformat_minor": 4
}
